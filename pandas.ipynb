{
 "cells": [
  {
   "cell_type": "markdown",
   "metadata": {},
   "source": [
    "## 🎯 Infraestructura: caso práctico de limpieza y unificación de datasets\n",
    "\n",
    "**📅 Fecha:** 2025"
   ]
  },
  {
   "cell_type": "markdown",
   "metadata": {
    "id": "TqmzJm9M1xLx"
   },
   "source": [
    "## **Librerias**"
   ]
  },
  {
   "cell_type": "code",
   "execution_count": 165,
   "metadata": {
    "executionInfo": {
     "elapsed": 2,
     "status": "ok",
     "timestamp": 1758851352079,
     "user": {
      "displayName": "Marcela Fajardo",
      "userId": "14841747285208122853"
     },
     "user_tz": 300
    },
    "id": "92KTDSPlV6vW"
   },
   "outputs": [],
   "source": [
    "import pandas as pd\n",
    "import numpy as np\n",
    "import csv\n",
    "import csv\n",
    "import matplotlib.pyplot as plt\n",
    "from IPython.display import display\n",
    "from IPython.display import display, Markdown\n",
    "from thefuzz import process\n",
    "pd.set_option('future.no_silent_downcasting', True)"
   ]
  },
  {
   "cell_type": "markdown",
   "metadata": {
    "id": "ILBCUpdD4lR4"
   },
   "source": [
    "## **Carga de datos**"
   ]
  },
  {
   "cell_type": "code",
   "execution_count": 166,
   "metadata": {
    "executionInfo": {
     "elapsed": 28,
     "status": "ok",
     "timestamp": 1758851352954,
     "user": {
      "displayName": "Marcela Fajardo",
      "userId": "14841747285208122853"
     },
     "user_tz": 300
    },
    "id": "tDyzEWc1XAz2"
   },
   "outputs": [],
   "source": [
    "data = \"C:/Users/mafab/Documents/Curso_Infraestructura/data/data.txt\"\n",
    "data1 = \"C:/Users/mafab/Documents/Curso_Infraestructura/data/data1.txt\"\n",
    "data3 = \"C:/Users/mafab/Documents/Curso_Infraestructura/data/data3.txt\""
   ]
  },
  {
   "cell_type": "code",
   "execution_count": 167,
   "metadata": {
    "executionInfo": {
     "elapsed": 2,
     "status": "ok",
     "timestamp": 1758851352960,
     "user": {
      "displayName": "Marcela Fajardo",
      "userId": "14841747285208122853"
     },
     "user_tz": 300
    },
    "id": "LQ74T3OZ0p1c"
   },
   "outputs": [],
   "source": [
    "def procesar_archivo(data):\n",
    "    rows = []\n",
    "    with open(data, 'r', encoding='utf-8') as f:\n",
    "        reader = csv.reader(f)\n",
    "        for row in reader:\n",
    "            rows.append(row)\n",
    "\n",
    "    # Crear DataFrame aunque las filas tengan distinto largo, llenando con None\n",
    "    max_cols = max(len(r) for r in rows)\n",
    "    for r in rows:\n",
    "        while len(r) < max_cols:\n",
    "            r.append(None)\n",
    "\n",
    "    df = pd.DataFrame(rows[1:], columns=rows[0])\n",
    "    return df"
   ]
  },
  {
   "cell_type": "markdown",
   "metadata": {
    "id": "c-sNkxGM4poQ"
   },
   "source": [
    "## **Inspección de los dfs**"
   ]
  },
  {
   "cell_type": "code",
   "execution_count": 168,
   "metadata": {
    "colab": {
     "base_uri": "https://localhost:8080/"
    },
    "executionInfo": {
     "elapsed": 25,
     "status": "ok",
     "timestamp": 1758851352986,
     "user": {
      "displayName": "Marcela Fajardo",
      "userId": "14841747285208122853"
     },
     "user_tz": 300
    },
    "id": "XKY9V0It2j0K",
    "outputId": "b485b545-0782-48fe-fccc-970cb05081f1"
   },
   "outputs": [
    {
     "name": "stdout",
     "output_type": "stream",
     "text": [
      "Las dimensiones del archivo son : (20, 8)\n",
      "========================================\n",
      "<class 'pandas.core.frame.DataFrame'>\n",
      "RangeIndex: 20 entries, 0 to 19\n",
      "Data columns (total 8 columns):\n",
      " #   Column        Non-Null Count  Dtype \n",
      "---  ------        --------------  ----- \n",
      " 0   Name          19 non-null     object\n",
      " 1    Age          19 non-null     object\n",
      " 2    Height (cm)  19 non-null     object\n",
      " 3    Weight (kg)  19 non-null     object\n",
      " 4    Salary ($)   19 non-null     object\n",
      " 5    City         19 non-null     object\n",
      " 6   None          3 non-null      object\n",
      " 7   None          2 non-null      object\n",
      "dtypes: object(8)\n",
      "memory usage: 1.4+ KB\n",
      "None\n"
     ]
    }
   ],
   "source": [
    "df = procesar_archivo(data)\n",
    "print(\"Las dimensiones del archivo son :\", df.shape)\n",
    "print(\"=\"*40)\n",
    "print(df.info())"
   ]
  },
  {
   "cell_type": "code",
   "execution_count": 169,
   "metadata": {
    "colab": {
     "base_uri": "https://localhost:8080/"
    },
    "executionInfo": {
     "elapsed": 58,
     "status": "ok",
     "timestamp": 1758851353045,
     "user": {
      "displayName": "Marcela Fajardo",
      "userId": "14841747285208122853"
     },
     "user_tz": 300
    },
    "id": "Ey72dEcY3rRI",
    "outputId": "df855487-14a3-4e2b-ca1f-795baf9d03e3"
   },
   "outputs": [
    {
     "name": "stdout",
     "output_type": "stream",
     "text": [
      "Las dimensiones del archivo 2 son : (10, 7)\n",
      "========================================\n",
      "<class 'pandas.core.frame.DataFrame'>\n",
      "RangeIndex: 20 entries, 0 to 19\n",
      "Data columns (total 8 columns):\n",
      " #   Column        Non-Null Count  Dtype \n",
      "---  ------        --------------  ----- \n",
      " 0   Name          19 non-null     object\n",
      " 1    Age          19 non-null     object\n",
      " 2    Height (cm)  19 non-null     object\n",
      " 3    Weight (kg)  19 non-null     object\n",
      " 4    Salary ($)   19 non-null     object\n",
      " 5    City         19 non-null     object\n",
      " 6   None          3 non-null      object\n",
      " 7   None          2 non-null      object\n",
      "dtypes: object(8)\n",
      "memory usage: 1.4+ KB\n",
      "None\n"
     ]
    }
   ],
   "source": [
    "df1 = procesar_archivo(data1)\n",
    "print(\"Las dimensiones del archivo 2 son :\", df1.shape)\n",
    "print(\"=\"*40)\n",
    "print(df.info())"
   ]
  },
  {
   "cell_type": "code",
   "execution_count": 170,
   "metadata": {
    "colab": {
     "base_uri": "https://localhost:8080/"
    },
    "executionInfo": {
     "elapsed": 16,
     "status": "ok",
     "timestamp": 1758851353045,
     "user": {
      "displayName": "Marcela Fajardo",
      "userId": "14841747285208122853"
     },
     "user_tz": 300
    },
    "id": "zxkjK5nr4089",
    "outputId": "1c7e500f-e813-4357-d1ce-d1b56d49d3cc"
   },
   "outputs": [
    {
     "name": "stdout",
     "output_type": "stream",
     "text": [
      "Las dimensiones del archivo 3 son : (29, 4)\n",
      "========================================\n",
      "<class 'pandas.core.frame.DataFrame'>\n",
      "RangeIndex: 20 entries, 0 to 19\n",
      "Data columns (total 8 columns):\n",
      " #   Column        Non-Null Count  Dtype \n",
      "---  ------        --------------  ----- \n",
      " 0   Name          19 non-null     object\n",
      " 1    Age          19 non-null     object\n",
      " 2    Height (cm)  19 non-null     object\n",
      " 3    Weight (kg)  19 non-null     object\n",
      " 4    Salary ($)   19 non-null     object\n",
      " 5    City         19 non-null     object\n",
      " 6   None          3 non-null      object\n",
      " 7   None          2 non-null      object\n",
      "dtypes: object(8)\n",
      "memory usage: 1.4+ KB\n",
      "None\n"
     ]
    }
   ],
   "source": [
    "df3 = procesar_archivo(data3)\n",
    "print(\"Las dimensiones del archivo 3 son :\", df3.shape)\n",
    "print(\"=\"*40)\n",
    "print(df.info())"
   ]
  },
  {
   "cell_type": "markdown",
   "metadata": {
    "id": "cek5Fkdq6OAi"
   },
   "source": [
    "## **Prepración y limpieza de datos**"
   ]
  },
  {
   "cell_type": "markdown",
   "metadata": {
    "id": "9ff4G2EE7xzT"
   },
   "source": [
    "### **Primer archivo = DF**"
   ]
  },
  {
   "cell_type": "markdown",
   "metadata": {
    "id": "seW0A36rJc7i"
   },
   "source": [
    "#### Eliminar espacios en los nombres de las columnas"
   ]
  },
  {
   "cell_type": "code",
   "execution_count": 171,
   "metadata": {
    "executionInfo": {
     "elapsed": 3,
     "status": "ok",
     "timestamp": 1758851353046,
     "user": {
      "displayName": "Marcela Fajardo",
      "userId": "14841747285208122853"
     },
     "user_tz": 300
    },
    "id": "fro9RwYAJk8R"
   },
   "outputs": [],
   "source": [
    "def eliminar_espacios_columnas(df):\n",
    "    df.columns = df.columns.str.strip()\n",
    "    return df\n",
    "df = eliminar_espacios_columnas(df)"
   ]
  },
  {
   "cell_type": "markdown",
   "metadata": {
    "id": "WVoPBUdACNYv"
   },
   "source": [
    "#### Eliminación de comillas dobles, comas, espacios e.t.c"
   ]
  },
  {
   "cell_type": "code",
   "execution_count": 172,
   "metadata": {
    "executionInfo": {
     "elapsed": 57,
     "status": "ok",
     "timestamp": 1758851353116,
     "user": {
      "displayName": "Marcela Fajardo",
      "userId": "14841747285208122853"
     },
     "user_tz": 300
    },
    "id": "G15zMf4kHdvH"
   },
   "outputs": [],
   "source": [
    "def limpiar_valores(df):\n",
    "    df = df.map(lambda x: str(x).replace('\"', '').replace(\"'\", '').strip() if pd.notnull(x) else x)\n",
    "    df = df.replace(r'^\\s*$', np.nan, regex=True)\n",
    "    return df\n",
    "df = limpiar_valores(df)"
   ]
  },
  {
   "cell_type": "markdown",
   "metadata": {
    "id": "g9XafHBGIrZz"
   },
   "source": [
    "#### Reemplazar texto en columnas que deberían ser numéricas"
   ]
  },
  {
   "cell_type": "code",
   "execution_count": 173,
   "metadata": {
    "executionInfo": {
     "elapsed": 3,
     "status": "ok",
     "timestamp": 1758851353122,
     "user": {
      "displayName": "Marcela Fajardo",
      "userId": "14841747285208122853"
     },
     "user_tz": 300
    },
    "id": "swOrzWi9I3vY"
   },
   "outputs": [],
   "source": [
    "# Lista para agregar texto a reemplazar\n",
    "text_to_num = {'Twenty-Five': 25}\n",
    "\n",
    "df['Age'] = df['Age'].replace(text_to_num)"
   ]
  },
  {
   "cell_type": "code",
   "execution_count": 174,
   "metadata": {
    "colab": {
     "base_uri": "https://localhost:8080/",
     "height": 677
    },
    "executionInfo": {
     "elapsed": 38,
     "status": "ok",
     "timestamp": 1758851353164,
     "user": {
      "displayName": "Marcela Fajardo",
      "userId": "14841747285208122853"
     },
     "user_tz": 300
    },
    "id": "yR6NiBvtpF_i",
    "outputId": "9211191f-55cd-4cbc-dc0f-a5f9712aaab1"
   },
   "outputs": [
    {
     "data": {
      "application/vnd.microsoft.datawrangler.viewer.v0+json": {
       "columns": [
        {
         "name": "index",
         "rawType": "int64",
         "type": "integer"
        },
        {
         "name": "Name",
         "rawType": "object",
         "type": "unknown"
        },
        {
         "name": "Age",
         "rawType": "object",
         "type": "unknown"
        },
        {
         "name": "Height (cm)",
         "rawType": "object",
         "type": "unknown"
        },
        {
         "name": "Weight (kg)",
         "rawType": "object",
         "type": "unknown"
        },
        {
         "name": "Salary ($)",
         "rawType": "object",
         "type": "unknown"
        },
        {
         "name": "City",
         "rawType": "object",
         "type": "unknown"
        },
        {
         "name": "None",
         "rawType": "object",
         "type": "unknown"
        },
        {
         "name": "None",
         "rawType": "float64",
         "type": "float"
        }
       ],
       "ref": "853b227c-452a-448b-8bdd-04815042c208",
       "rows": [
        [
         "0",
         "Alice",
         "30",
         "165.5",
         "60.2",
         "50000",
         "New York",
         null,
         null
        ],
        [
         "1",
         "Bob",
         "25",
         "175.0",
         "75.0",
         "60000",
         "Los Angeles",
         null,
         null
        ],
        [
         "2",
         "Charlie",
         "32",
         "170.5",
         null,
         "55000",
         "Chicago",
         null,
         null
        ],
        [
         "3",
         "David",
         "26",
         "180.0",
         "85.5",
         "59000",
         "San Francisco",
         null,
         null
        ],
        [
         "4",
         "Eve",
         "25",
         "160",
         "58",
         "52000",
         "Bristol",
         null,
         null
        ],
        [
         "5",
         "Frank",
         "35",
         "175.5",
         "70.0",
         null,
         "Washington",
         "D.C.",
         null
        ],
        [
         "6",
         "Grace",
         "29",
         null,
         "65.0",
         "51000",
         "Huston",
         null,
         null
        ],
        [
         "7",
         "Heidi",
         "28",
         "168.0",
         "0",
         "55000",
         "Houston",
         null,
         null
        ],
        [
         "8",
         "Ivan",
         "34",
         "185.0",
         "95.0",
         "68000",
         "Miani",
         null,
         null
        ],
        [
         "9",
         "Jack",
         "27",
         "172.5",
         "70.5",
         "54000",
         "Boston",
         null,
         null
        ],
        [
         "10",
         "Katie",
         "31",
         "160.0",
         "55.5",
         "52000",
         "Seattle",
         null,
         null
        ],
        [
         "11",
         "Liam",
         "24",
         "178.5",
         "73.5",
         "61000",
         null,
         null,
         null
        ],
        [
         "12",
         "Mia",
         "33",
         "66.0",
         "61.8",
         "59000",
         "San Diego",
         null,
         null
        ],
        [
         "13",
         "Nora",
         "25",
         "163.0",
         "59.0",
         "52000",
         "San  Francisco",
         null,
         null
        ],
        [
         "14",
         "Oliver",
         "30",
         "173.0",
         "74.0",
         "58000",
         "New York",
         null,
         null
        ],
        [
         "15",
         "Penny",
         "28",
         "169.5",
         "63.5",
         "56000",
         "Los Angeles",
         null,
         null
        ],
        [
         "16",
         "Quinn",
         null,
         "172.0",
         "77.5",
         "57000",
         null,
         null,
         null
        ],
        [
         "17",
         "Ryan",
         "150",
         "181.0",
         "92.0",
         null,
         "Chicago",
         null,
         null
        ],
        [
         "18",
         "Sophia",
         "33",
         "167.5",
         "62.0",
         "62000",
         "Miami",
         null,
         null
        ],
        [
         "19",
         null,
         null,
         null,
         null,
         null,
         null,
         null,
         null
        ]
       ],
       "shape": {
        "columns": 8,
        "rows": 20
       }
      },
      "text/html": [
       "<div>\n",
       "<style scoped>\n",
       "    .dataframe tbody tr th:only-of-type {\n",
       "        vertical-align: middle;\n",
       "    }\n",
       "\n",
       "    .dataframe tbody tr th {\n",
       "        vertical-align: top;\n",
       "    }\n",
       "\n",
       "    .dataframe thead th {\n",
       "        text-align: right;\n",
       "    }\n",
       "</style>\n",
       "<table border=\"1\" class=\"dataframe\">\n",
       "  <thead>\n",
       "    <tr style=\"text-align: right;\">\n",
       "      <th></th>\n",
       "      <th>Name</th>\n",
       "      <th>Age</th>\n",
       "      <th>Height (cm)</th>\n",
       "      <th>Weight (kg)</th>\n",
       "      <th>Salary ($)</th>\n",
       "      <th>City</th>\n",
       "      <th>None</th>\n",
       "      <th>None</th>\n",
       "    </tr>\n",
       "  </thead>\n",
       "  <tbody>\n",
       "    <tr>\n",
       "      <th>0</th>\n",
       "      <td>Alice</td>\n",
       "      <td>30</td>\n",
       "      <td>165.5</td>\n",
       "      <td>60.2</td>\n",
       "      <td>50000</td>\n",
       "      <td>New York</td>\n",
       "      <td>None</td>\n",
       "      <td>NaN</td>\n",
       "    </tr>\n",
       "    <tr>\n",
       "      <th>1</th>\n",
       "      <td>Bob</td>\n",
       "      <td>25</td>\n",
       "      <td>175.0</td>\n",
       "      <td>75.0</td>\n",
       "      <td>60000</td>\n",
       "      <td>Los Angeles</td>\n",
       "      <td>None</td>\n",
       "      <td>NaN</td>\n",
       "    </tr>\n",
       "    <tr>\n",
       "      <th>2</th>\n",
       "      <td>Charlie</td>\n",
       "      <td>32</td>\n",
       "      <td>170.5</td>\n",
       "      <td>NaN</td>\n",
       "      <td>55000</td>\n",
       "      <td>Chicago</td>\n",
       "      <td>None</td>\n",
       "      <td>NaN</td>\n",
       "    </tr>\n",
       "    <tr>\n",
       "      <th>3</th>\n",
       "      <td>David</td>\n",
       "      <td>26</td>\n",
       "      <td>180.0</td>\n",
       "      <td>85.5</td>\n",
       "      <td>59000</td>\n",
       "      <td>San Francisco</td>\n",
       "      <td>None</td>\n",
       "      <td>NaN</td>\n",
       "    </tr>\n",
       "    <tr>\n",
       "      <th>4</th>\n",
       "      <td>Eve</td>\n",
       "      <td>25</td>\n",
       "      <td>160</td>\n",
       "      <td>58</td>\n",
       "      <td>52000</td>\n",
       "      <td>Bristol</td>\n",
       "      <td>None</td>\n",
       "      <td>NaN</td>\n",
       "    </tr>\n",
       "    <tr>\n",
       "      <th>5</th>\n",
       "      <td>Frank</td>\n",
       "      <td>35</td>\n",
       "      <td>175.5</td>\n",
       "      <td>70.0</td>\n",
       "      <td>NaN</td>\n",
       "      <td>Washington</td>\n",
       "      <td>D.C.</td>\n",
       "      <td>NaN</td>\n",
       "    </tr>\n",
       "    <tr>\n",
       "      <th>6</th>\n",
       "      <td>Grace</td>\n",
       "      <td>29</td>\n",
       "      <td>NaN</td>\n",
       "      <td>65.0</td>\n",
       "      <td>51000</td>\n",
       "      <td>Huston</td>\n",
       "      <td>None</td>\n",
       "      <td>NaN</td>\n",
       "    </tr>\n",
       "    <tr>\n",
       "      <th>7</th>\n",
       "      <td>Heidi</td>\n",
       "      <td>28</td>\n",
       "      <td>168.0</td>\n",
       "      <td>0</td>\n",
       "      <td>55000</td>\n",
       "      <td>Houston</td>\n",
       "      <td>None</td>\n",
       "      <td>NaN</td>\n",
       "    </tr>\n",
       "    <tr>\n",
       "      <th>8</th>\n",
       "      <td>Ivan</td>\n",
       "      <td>34</td>\n",
       "      <td>185.0</td>\n",
       "      <td>95.0</td>\n",
       "      <td>68000</td>\n",
       "      <td>Miani</td>\n",
       "      <td>None</td>\n",
       "      <td>NaN</td>\n",
       "    </tr>\n",
       "    <tr>\n",
       "      <th>9</th>\n",
       "      <td>Jack</td>\n",
       "      <td>27</td>\n",
       "      <td>172.5</td>\n",
       "      <td>70.5</td>\n",
       "      <td>54000</td>\n",
       "      <td>Boston</td>\n",
       "      <td>None</td>\n",
       "      <td>NaN</td>\n",
       "    </tr>\n",
       "    <tr>\n",
       "      <th>10</th>\n",
       "      <td>Katie</td>\n",
       "      <td>31</td>\n",
       "      <td>160.0</td>\n",
       "      <td>55.5</td>\n",
       "      <td>52000</td>\n",
       "      <td>Seattle</td>\n",
       "      <td>None</td>\n",
       "      <td>NaN</td>\n",
       "    </tr>\n",
       "    <tr>\n",
       "      <th>11</th>\n",
       "      <td>Liam</td>\n",
       "      <td>24</td>\n",
       "      <td>178.5</td>\n",
       "      <td>73.5</td>\n",
       "      <td>61000</td>\n",
       "      <td>NaN</td>\n",
       "      <td>NaN</td>\n",
       "      <td>NaN</td>\n",
       "    </tr>\n",
       "    <tr>\n",
       "      <th>12</th>\n",
       "      <td>Mia</td>\n",
       "      <td>33</td>\n",
       "      <td>66.0</td>\n",
       "      <td>61.8</td>\n",
       "      <td>59000</td>\n",
       "      <td>San Diego</td>\n",
       "      <td>None</td>\n",
       "      <td>NaN</td>\n",
       "    </tr>\n",
       "    <tr>\n",
       "      <th>13</th>\n",
       "      <td>Nora</td>\n",
       "      <td>25</td>\n",
       "      <td>163.0</td>\n",
       "      <td>59.0</td>\n",
       "      <td>52000</td>\n",
       "      <td>San  Francisco</td>\n",
       "      <td>None</td>\n",
       "      <td>NaN</td>\n",
       "    </tr>\n",
       "    <tr>\n",
       "      <th>14</th>\n",
       "      <td>Oliver</td>\n",
       "      <td>30</td>\n",
       "      <td>173.0</td>\n",
       "      <td>74.0</td>\n",
       "      <td>58000</td>\n",
       "      <td>New York</td>\n",
       "      <td>None</td>\n",
       "      <td>NaN</td>\n",
       "    </tr>\n",
       "    <tr>\n",
       "      <th>15</th>\n",
       "      <td>Penny</td>\n",
       "      <td>28</td>\n",
       "      <td>169.5</td>\n",
       "      <td>63.5</td>\n",
       "      <td>56000</td>\n",
       "      <td>Los Angeles</td>\n",
       "      <td>None</td>\n",
       "      <td>NaN</td>\n",
       "    </tr>\n",
       "    <tr>\n",
       "      <th>16</th>\n",
       "      <td>Quinn</td>\n",
       "      <td>NaN</td>\n",
       "      <td>172.0</td>\n",
       "      <td>77.5</td>\n",
       "      <td>57000</td>\n",
       "      <td>NaN</td>\n",
       "      <td>NaN</td>\n",
       "      <td>NaN</td>\n",
       "    </tr>\n",
       "    <tr>\n",
       "      <th>17</th>\n",
       "      <td>Ryan</td>\n",
       "      <td>150</td>\n",
       "      <td>181.0</td>\n",
       "      <td>92.0</td>\n",
       "      <td>NaN</td>\n",
       "      <td>Chicago</td>\n",
       "      <td>None</td>\n",
       "      <td>NaN</td>\n",
       "    </tr>\n",
       "    <tr>\n",
       "      <th>18</th>\n",
       "      <td>Sophia</td>\n",
       "      <td>33</td>\n",
       "      <td>167.5</td>\n",
       "      <td>62.0</td>\n",
       "      <td>62000</td>\n",
       "      <td>Miami</td>\n",
       "      <td>None</td>\n",
       "      <td>NaN</td>\n",
       "    </tr>\n",
       "    <tr>\n",
       "      <th>19</th>\n",
       "      <td>None</td>\n",
       "      <td>None</td>\n",
       "      <td>None</td>\n",
       "      <td>None</td>\n",
       "      <td>None</td>\n",
       "      <td>None</td>\n",
       "      <td>None</td>\n",
       "      <td>NaN</td>\n",
       "    </tr>\n",
       "  </tbody>\n",
       "</table>\n",
       "</div>"
      ],
      "text/plain": [
       "       Name   Age Height (cm) Weight (kg) Salary ($)            City  None  \\\n",
       "0     Alice    30       165.5        60.2      50000        New York  None   \n",
       "1       Bob    25       175.0        75.0      60000     Los Angeles  None   \n",
       "2   Charlie    32       170.5         NaN      55000         Chicago  None   \n",
       "3     David    26       180.0        85.5      59000   San Francisco  None   \n",
       "4       Eve    25         160          58      52000         Bristol  None   \n",
       "5     Frank    35       175.5        70.0        NaN      Washington  D.C.   \n",
       "6     Grace    29         NaN        65.0      51000          Huston  None   \n",
       "7     Heidi    28       168.0           0      55000         Houston  None   \n",
       "8      Ivan    34       185.0        95.0      68000           Miani  None   \n",
       "9      Jack    27       172.5        70.5      54000          Boston  None   \n",
       "10    Katie    31       160.0        55.5      52000         Seattle  None   \n",
       "11     Liam    24       178.5        73.5      61000             NaN   NaN   \n",
       "12      Mia    33        66.0        61.8      59000       San Diego  None   \n",
       "13     Nora    25       163.0        59.0      52000  San  Francisco  None   \n",
       "14   Oliver    30       173.0        74.0      58000        New York  None   \n",
       "15    Penny    28       169.5        63.5      56000     Los Angeles  None   \n",
       "16    Quinn   NaN       172.0        77.5      57000             NaN   NaN   \n",
       "17     Ryan   150       181.0        92.0        NaN         Chicago  None   \n",
       "18   Sophia    33       167.5        62.0      62000           Miami  None   \n",
       "19     None  None        None        None       None            None  None   \n",
       "\n",
       "    None  \n",
       "0    NaN  \n",
       "1    NaN  \n",
       "2    NaN  \n",
       "3    NaN  \n",
       "4    NaN  \n",
       "5    NaN  \n",
       "6    NaN  \n",
       "7    NaN  \n",
       "8    NaN  \n",
       "9    NaN  \n",
       "10   NaN  \n",
       "11   NaN  \n",
       "12   NaN  \n",
       "13   NaN  \n",
       "14   NaN  \n",
       "15   NaN  \n",
       "16   NaN  \n",
       "17   NaN  \n",
       "18   NaN  \n",
       "19   NaN  "
      ]
     },
     "metadata": {},
     "output_type": "display_data"
    }
   ],
   "source": [
    "display(df)"
   ]
  },
  {
   "cell_type": "markdown",
   "metadata": {
    "id": "1uxXaTCFOMcy"
   },
   "source": [
    "#### Eliminación de columna irrelevantes"
   ]
  },
  {
   "cell_type": "markdown",
   "metadata": {
    "id": "zb_oSjyz_kL_"
   },
   "source": [
    "* **Nota:** se procede a eliminar tanto las filas como las columnas con valores iguales de NONE"
   ]
  },
  {
   "cell_type": "code",
   "execution_count": 175,
   "metadata": {
    "colab": {
     "base_uri": "https://localhost:8080/",
     "height": 206
    },
    "executionInfo": {
     "elapsed": 33,
     "status": "ok",
     "timestamp": 1758851353191,
     "user": {
      "displayName": "Marcela Fajardo",
      "userId": "14841747285208122853"
     },
     "user_tz": 300
    },
    "id": "eHQuur_bPJ93",
    "outputId": "d66dae60-5a0e-4c24-d556-bea0f67aea09"
   },
   "outputs": [
    {
     "data": {
      "application/vnd.microsoft.datawrangler.viewer.v0+json": {
       "columns": [
        {
         "name": "index",
         "rawType": "int64",
         "type": "integer"
        },
        {
         "name": "Name",
         "rawType": "object",
         "type": "string"
        },
        {
         "name": "Age",
         "rawType": "object",
         "type": "unknown"
        },
        {
         "name": "Height (cm)",
         "rawType": "object",
         "type": "string"
        },
        {
         "name": "Weight (kg)",
         "rawType": "object",
         "type": "string"
        },
        {
         "name": "Salary ($)",
         "rawType": "object",
         "type": "unknown"
        },
        {
         "name": "City",
         "rawType": "object",
         "type": "unknown"
        }
       ],
       "ref": "1bf28173-f429-4cf2-878b-adc1dd0a1b89",
       "rows": [
        [
         "14",
         "Oliver",
         "30",
         "173.0",
         "74.0",
         "58000",
         "New York"
        ],
        [
         "15",
         "Penny",
         "28",
         "169.5",
         "63.5",
         "56000",
         "Los Angeles"
        ],
        [
         "16",
         "Quinn",
         null,
         "172.0",
         "77.5",
         "57000",
         null
        ],
        [
         "17",
         "Ryan",
         "150",
         "181.0",
         "92.0",
         null,
         "Chicago"
        ],
        [
         "18",
         "Sophia",
         "33",
         "167.5",
         "62.0",
         "62000",
         "Miami"
        ]
       ],
       "shape": {
        "columns": 6,
        "rows": 5
       }
      },
      "text/html": [
       "<div>\n",
       "<style scoped>\n",
       "    .dataframe tbody tr th:only-of-type {\n",
       "        vertical-align: middle;\n",
       "    }\n",
       "\n",
       "    .dataframe tbody tr th {\n",
       "        vertical-align: top;\n",
       "    }\n",
       "\n",
       "    .dataframe thead th {\n",
       "        text-align: right;\n",
       "    }\n",
       "</style>\n",
       "<table border=\"1\" class=\"dataframe\">\n",
       "  <thead>\n",
       "    <tr style=\"text-align: right;\">\n",
       "      <th></th>\n",
       "      <th>Name</th>\n",
       "      <th>Age</th>\n",
       "      <th>Height (cm)</th>\n",
       "      <th>Weight (kg)</th>\n",
       "      <th>Salary ($)</th>\n",
       "      <th>City</th>\n",
       "    </tr>\n",
       "  </thead>\n",
       "  <tbody>\n",
       "    <tr>\n",
       "      <th>14</th>\n",
       "      <td>Oliver</td>\n",
       "      <td>30</td>\n",
       "      <td>173.0</td>\n",
       "      <td>74.0</td>\n",
       "      <td>58000</td>\n",
       "      <td>New York</td>\n",
       "    </tr>\n",
       "    <tr>\n",
       "      <th>15</th>\n",
       "      <td>Penny</td>\n",
       "      <td>28</td>\n",
       "      <td>169.5</td>\n",
       "      <td>63.5</td>\n",
       "      <td>56000</td>\n",
       "      <td>Los Angeles</td>\n",
       "    </tr>\n",
       "    <tr>\n",
       "      <th>16</th>\n",
       "      <td>Quinn</td>\n",
       "      <td>NaN</td>\n",
       "      <td>172.0</td>\n",
       "      <td>77.5</td>\n",
       "      <td>57000</td>\n",
       "      <td>NaN</td>\n",
       "    </tr>\n",
       "    <tr>\n",
       "      <th>17</th>\n",
       "      <td>Ryan</td>\n",
       "      <td>150</td>\n",
       "      <td>181.0</td>\n",
       "      <td>92.0</td>\n",
       "      <td>NaN</td>\n",
       "      <td>Chicago</td>\n",
       "    </tr>\n",
       "    <tr>\n",
       "      <th>18</th>\n",
       "      <td>Sophia</td>\n",
       "      <td>33</td>\n",
       "      <td>167.5</td>\n",
       "      <td>62.0</td>\n",
       "      <td>62000</td>\n",
       "      <td>Miami</td>\n",
       "    </tr>\n",
       "  </tbody>\n",
       "</table>\n",
       "</div>"
      ],
      "text/plain": [
       "      Name  Age Height (cm) Weight (kg) Salary ($)         City\n",
       "14  Oliver   30       173.0        74.0      58000     New York\n",
       "15   Penny   28       169.5        63.5      56000  Los Angeles\n",
       "16   Quinn  NaN       172.0        77.5      57000          NaN\n",
       "17    Ryan  150       181.0        92.0        NaN      Chicago\n",
       "18  Sophia   33       167.5        62.0      62000        Miami"
      ]
     },
     "execution_count": 175,
     "metadata": {},
     "output_type": "execute_result"
    }
   ],
   "source": [
    "df = df.dropna(axis=0, how='all')\n",
    "df = df.iloc[:, :-2]\n",
    "df.tail(5)"
   ]
  },
  {
   "cell_type": "markdown",
   "metadata": {
    "id": "SbCgHuvuAjzP"
   },
   "source": [
    "#### Identificación de valores faltantes"
   ]
  },
  {
   "cell_type": "code",
   "execution_count": 176,
   "metadata": {
    "executionInfo": {
     "elapsed": 1,
     "status": "ok",
     "timestamp": 1758851353193,
     "user": {
      "displayName": "Marcela Fajardo",
      "userId": "14841747285208122853"
     },
     "user_tz": 300
    },
    "id": "uEv8BaCu6kG5"
   },
   "outputs": [],
   "source": [
    "def resumen_nulos(df):\n",
    "  Conteo = df.isnull().sum()\n",
    "  Porcentaje = df.isnull().mean()*100\n",
    "  resumen_nulos = pd.DataFrame({'Conteo': Conteo, 'Porcentaje': Porcentaje})\n",
    "  resumen_nulos.sort_values(by='Porcentaje', ascending=False)\n",
    "  return resumen_nulos"
   ]
  },
  {
   "cell_type": "markdown",
   "metadata": {
    "id": "Zfie6x7qTSMG"
   },
   "source": [
    "#### Imputación de valores faltantes"
   ]
  },
  {
   "cell_type": "code",
   "execution_count": 177,
   "metadata": {
    "executionInfo": {
     "elapsed": 17,
     "status": "ok",
     "timestamp": 1758851353245,
     "user": {
      "displayName": "Marcela Fajardo",
      "userId": "14841747285208122853"
     },
     "user_tz": 300
    },
    "id": "O1eASnI2TWlA"
   },
   "outputs": [],
   "source": [
    "imputar_mediana = ['Age', 'Height (cm)', 'Weight (kg)', 'Salary ($)']\n",
    "for columna in imputar_mediana:\n",
    "  mediana =  df[columna].astype(float).median()\n",
    "  df[columna] =  df[columna].fillna(mediana)"
   ]
  },
  {
   "cell_type": "code",
   "execution_count": 178,
   "metadata": {
    "executionInfo": {
     "elapsed": 3,
     "status": "ok",
     "timestamp": 1758851353250,
     "user": {
      "displayName": "Marcela Fajardo",
      "userId": "14841747285208122853"
     },
     "user_tz": 300
    },
    "id": "ZVIgZWd2U1yP"
   },
   "outputs": [],
   "source": [
    "imputar_moda = ['City']\n",
    "for columna in imputar_moda:\n",
    "  moda = df[columna].mode()[0]\n",
    "  df[columna] = df[columna].fillna(moda)"
   ]
  },
  {
   "cell_type": "markdown",
   "metadata": {
    "id": "m4_a5-tRBOd3"
   },
   "source": [
    "#### Cambiar tipo de formato variables"
   ]
  },
  {
   "cell_type": "code",
   "execution_count": 179,
   "metadata": {
    "colab": {
     "base_uri": "https://localhost:8080/"
    },
    "executionInfo": {
     "elapsed": 17,
     "status": "ok",
     "timestamp": 1758851353270,
     "user": {
      "displayName": "Marcela Fajardo",
      "userId": "14841747285208122853"
     },
     "user_tz": 300
    },
    "id": "etaXRbgbBOM4",
    "outputId": "155ca41f-5381-4877-f876-a8c49c7997bd"
   },
   "outputs": [
    {
     "name": "stdout",
     "output_type": "stream",
     "text": [
      "Columna 'Age' convertida a tipo numérico (con NaNs para errores).\n",
      "Columna 'Salary ($)' convertida a tipo numérico (con NaNs para errores).\n"
     ]
    }
   ],
   "source": [
    "columnas_a_int = ['Age', 'Salary ($)']\n",
    "for columna in columnas_a_int:\n",
    "    df[columna] = pd.to_numeric(df[columna], errors='coerce').astype(int)\n",
    "    print(f\"Columna '{columna}' convertida a tipo numérico (con NaNs para errores).\")"
   ]
  },
  {
   "cell_type": "code",
   "execution_count": 180,
   "metadata": {
    "colab": {
     "base_uri": "https://localhost:8080/"
    },
    "executionInfo": {
     "elapsed": 9,
     "status": "ok",
     "timestamp": 1758851353281,
     "user": {
      "displayName": "Marcela Fajardo",
      "userId": "14841747285208122853"
     },
     "user_tz": 300
    },
    "id": "9xQWt8nNBykP",
    "outputId": "89925f09-a335-46d2-a24b-765890c8e5e7"
   },
   "outputs": [
    {
     "name": "stdout",
     "output_type": "stream",
     "text": [
      "Columna 'Height (cm)' convertida a tipo flotante (con NaNs para errores).\n",
      "Columna 'Weight (kg)' convertida a tipo flotante (con NaNs para errores).\n"
     ]
    }
   ],
   "source": [
    "columnas_a_float = ['Height (cm)', 'Weight (kg)']\n",
    "for columna in columnas_a_float:\n",
    "    df[columna] = pd.to_numeric(df[columna], errors='coerce')\n",
    "    print(f\"Columna '{columna}' convertida a tipo flotante (con NaNs para errores).\")"
   ]
  },
  {
   "cell_type": "code",
   "execution_count": 181,
   "metadata": {
    "executionInfo": {
     "elapsed": 1,
     "status": "ok",
     "timestamp": 1758851353283,
     "user": {
      "displayName": "Marcela Fajardo",
      "userId": "14841747285208122853"
     },
     "user_tz": 300
    },
    "id": "E-3vX7djpIxz"
   },
   "outputs": [],
   "source": [
    "df[\"Height (cm)\"] = df[\"Height (cm)\"].round(2)\n",
    "df[\"Weight (kg)\"] = df[\"Weight (kg)\"].round(2)"
   ]
  },
  {
   "cell_type": "code",
   "execution_count": 182,
   "metadata": {
    "colab": {
     "base_uri": "https://localhost:8080/"
    },
    "executionInfo": {
     "elapsed": 23,
     "status": "ok",
     "timestamp": 1758851353307,
     "user": {
      "displayName": "Marcela Fajardo",
      "userId": "14841747285208122853"
     },
     "user_tz": 300
    },
    "id": "DIp3g5uXKb6a",
    "outputId": "88e9b9b4-b40e-47b3-fff4-2ab6450a2e52"
   },
   "outputs": [
    {
     "name": "stdout",
     "output_type": "stream",
     "text": [
      "<class 'pandas.core.frame.DataFrame'>\n",
      "Index: 19 entries, 0 to 18\n",
      "Data columns (total 6 columns):\n",
      " #   Column       Non-Null Count  Dtype  \n",
      "---  ------       --------------  -----  \n",
      " 0   Name         19 non-null     object \n",
      " 1   Age          19 non-null     int64  \n",
      " 2   Height (cm)  19 non-null     float64\n",
      " 3   Weight (kg)  19 non-null     float64\n",
      " 4   Salary ($)   19 non-null     int64  \n",
      " 5   City         19 non-null     object \n",
      "dtypes: float64(2), int64(2), object(2)\n",
      "memory usage: 1.0+ KB\n"
     ]
    }
   ],
   "source": [
    "df.info()"
   ]
  },
  {
   "cell_type": "markdown",
   "metadata": {
    "id": "JQqxQtV-kqQ1"
   },
   "source": [
    "#### Convertir a minusculas las variables tipo object"
   ]
  },
  {
   "cell_type": "code",
   "execution_count": 183,
   "metadata": {
    "executionInfo": {
     "elapsed": 21,
     "status": "ok",
     "timestamp": 1758851353329,
     "user": {
      "displayName": "Marcela Fajardo",
      "userId": "14841747285208122853"
     },
     "user_tz": 300
    },
    "id": "i3Je8jy7kmXq"
   },
   "outputs": [],
   "source": [
    "for col in df.select_dtypes(include='object').columns:\n",
    "  df[col] = df[col].str.lower()"
   ]
  },
  {
   "cell_type": "markdown",
   "metadata": {
    "id": "dW2U_Tp6ql2c"
   },
   "source": [
    "#### Normalización de datos"
   ]
  },
  {
   "cell_type": "code",
   "execution_count": 184,
   "metadata": {
    "colab": {
     "base_uri": "https://localhost:8080/",
     "height": 554
    },
    "executionInfo": {
     "elapsed": 13,
     "status": "ok",
     "timestamp": 1758851353349,
     "user": {
      "displayName": "Marcela Fajardo",
      "userId": "14841747285208122853"
     },
     "user_tz": 300
    },
    "id": "NMSxM6iRqpJU",
    "outputId": "b86038f3-9d30-4217-cf55-ec1df140c003"
   },
   "outputs": [
    {
     "data": {
      "application/vnd.microsoft.datawrangler.viewer.v0+json": {
       "columns": [
        {
         "name": "City",
         "rawType": "object",
         "type": "string"
        },
        {
         "name": "count",
         "rawType": "int64",
         "type": "integer"
        }
       ],
       "ref": "e4e32123-2d89-4181-8719-0d058fcc5063",
       "rows": [
        [
         "chicago",
         "4"
        ],
        [
         "new york",
         "2"
        ],
        [
         "los angeles",
         "2"
        ],
        [
         "san francisco",
         "1"
        ],
        [
         "bristol",
         "1"
        ],
        [
         "washington",
         "1"
        ],
        [
         "huston",
         "1"
        ],
        [
         "houston",
         "1"
        ],
        [
         "miani",
         "1"
        ],
        [
         "boston",
         "1"
        ],
        [
         "seattle",
         "1"
        ],
        [
         "san diego",
         "1"
        ],
        [
         "san  francisco",
         "1"
        ],
        [
         "miami",
         "1"
        ]
       ],
       "shape": {
        "columns": 1,
        "rows": 14
       }
      },
      "text/plain": [
       "City\n",
       "chicago           4\n",
       "new york          2\n",
       "los angeles       2\n",
       "san francisco     1\n",
       "bristol           1\n",
       "washington        1\n",
       "huston            1\n",
       "houston           1\n",
       "miani             1\n",
       "boston            1\n",
       "seattle           1\n",
       "san diego         1\n",
       "san  francisco    1\n",
       "miami             1\n",
       "Name: count, dtype: int64"
      ]
     },
     "execution_count": 184,
     "metadata": {},
     "output_type": "execute_result"
    }
   ],
   "source": [
    "df['City'].value_counts()"
   ]
  },
  {
   "cell_type": "code",
   "execution_count": 185,
   "metadata": {
    "executionInfo": {
     "elapsed": 27,
     "status": "ok",
     "timestamp": 1758851353368,
     "user": {
      "displayName": "Marcela Fajardo",
      "userId": "14841747285208122853"
     },
     "user_tz": 300
    },
    "id": "nnfQYVviLZfd"
   },
   "outputs": [],
   "source": [
    "# Opción 1 para corregir los problemas de digitación en las ciudades\n",
    "# correcciones = {\"miani\": \"miami\", \"huston\" : \"houston\"}\n",
    "# df['City'] = df['City'].replace(correcciones)\n",
    "# df['City'] = df['City'].apply(correct_city)"
   ]
  },
  {
   "cell_type": "code",
   "execution_count": 186,
   "metadata": {
    "executionInfo": {
     "elapsed": 55,
     "status": "ok",
     "timestamp": 1758851353399,
     "user": {
      "displayName": "Marcela Fajardo",
      "userId": "14841747285208122853"
     },
     "user_tz": 300
    },
    "id": "zj-b-NsaOY8E"
   },
   "outputs": [],
   "source": [
    "# Opción 2 para corregir los problemas de digitación en las ciudades: Versión basada en threshold del score, este se puede ajustar para aceptar más correciones automáticas. Sin embargo, es necesario estar pendiente porque\n",
    "#entre más bajo el score más correciones acpeta y se puede tener “falsos positivos”\n",
    "\n",
    "unique_cities = df['City'].unique()\n",
    "standard_cities = ['chicago', 'new york', 'los angeles', 'san francisco', 'boston', 'houston', 'miami', 'seattle', 'san diego', 'washington', 'bristol']\n",
    "\n",
    "corrections = {}\n",
    "for city in df['City'].unique():\n",
    "    match, score = process.extractOne(city, standard_cities)\n",
    "    corrections[city] = match if score > 70 else city\n",
    "\n",
    "# Revisa el diccionario corrections y ajusta manualmente solo lo que sea necesario,\n",
    "# por ejemplo, cambia valores erróneos o deja sin cambiar\n",
    "\n",
    "df['City'] = df['City'].replace(corrections)"
   ]
  },
  {
   "cell_type": "code",
   "execution_count": 187,
   "metadata": {
    "colab": {
     "base_uri": "https://localhost:8080/",
     "height": 460
    },
    "executionInfo": {
     "elapsed": 3,
     "status": "ok",
     "timestamp": 1758851353403,
     "user": {
      "displayName": "Marcela Fajardo",
      "userId": "14841747285208122853"
     },
     "user_tz": 300
    },
    "id": "QffRTrdMKdBq",
    "outputId": "955441ec-24b5-49b7-d20c-e6e6ba1d69fd"
   },
   "outputs": [
    {
     "data": {
      "application/vnd.microsoft.datawrangler.viewer.v0+json": {
       "columns": [
        {
         "name": "City",
         "rawType": "object",
         "type": "string"
        },
        {
         "name": "count",
         "rawType": "int64",
         "type": "integer"
        }
       ],
       "ref": "4dc1a00e-e8cf-494b-afc4-b0a947c429a9",
       "rows": [
        [
         "chicago",
         "4"
        ],
        [
         "new york",
         "2"
        ],
        [
         "los angeles",
         "2"
        ],
        [
         "san francisco",
         "2"
        ],
        [
         "houston",
         "2"
        ],
        [
         "miami",
         "2"
        ],
        [
         "bristol",
         "1"
        ],
        [
         "washington",
         "1"
        ],
        [
         "boston",
         "1"
        ],
        [
         "seattle",
         "1"
        ],
        [
         "san diego",
         "1"
        ]
       ],
       "shape": {
        "columns": 1,
        "rows": 11
       }
      },
      "text/plain": [
       "City\n",
       "chicago          4\n",
       "new york         2\n",
       "los angeles      2\n",
       "san francisco    2\n",
       "houston          2\n",
       "miami            2\n",
       "bristol          1\n",
       "washington       1\n",
       "boston           1\n",
       "seattle          1\n",
       "san diego        1\n",
       "Name: count, dtype: int64"
      ]
     },
     "execution_count": 187,
     "metadata": {},
     "output_type": "execute_result"
    }
   ],
   "source": [
    "df['City'].value_counts()"
   ]
  },
  {
   "cell_type": "markdown",
   "metadata": {
    "id": "pnFddQhMVwDG"
   },
   "source": [
    "### **Segundo archivo = DF1**"
   ]
  },
  {
   "cell_type": "markdown",
   "metadata": {
    "id": "HzazsOpAa0XN"
   },
   "source": [
    "#### Información general dataset"
   ]
  },
  {
   "cell_type": "code",
   "execution_count": 188,
   "metadata": {
    "colab": {
     "base_uri": "https://localhost:8080/"
    },
    "executionInfo": {
     "elapsed": 22,
     "status": "ok",
     "timestamp": 1758851353427,
     "user": {
      "displayName": "Marcela Fajardo",
      "userId": "14841747285208122853"
     },
     "user_tz": 300
    },
    "id": "gAwLyrRAZom4",
    "outputId": "3c6f0091-1695-4ec6-95ee-f45ce9327249"
   },
   "outputs": [
    {
     "name": "stdout",
     "output_type": "stream",
     "text": [
      "(10, 7)\n",
      "----------------------------------------\n",
      "<class 'pandas.core.frame.DataFrame'>\n",
      "RangeIndex: 10 entries, 0 to 9\n",
      "Data columns (total 7 columns):\n",
      " #   Column              Non-Null Count  Dtype \n",
      "---  ------              --------------  ----- \n",
      " 0   Name                10 non-null     object\n",
      " 1    Age                10 non-null     object\n",
      " 2    \"Height (inches)\"  10 non-null     object\n",
      " 3    \"Weight (pounds)\"  10 non-null     object\n",
      " 4    \"Salary ($)\"       10 non-null     object\n",
      " 5    \"City\"             10 non-null     object\n",
      " 6   None                1 non-null      object\n",
      "dtypes: object(7)\n",
      "memory usage: 692.0+ bytes\n"
     ]
    }
   ],
   "source": [
    "print(df1.shape)\n",
    "print (\"-\"*40)\n",
    "df1.info()"
   ]
  },
  {
   "cell_type": "code",
   "execution_count": 189,
   "metadata": {
    "colab": {
     "base_uri": "https://localhost:8080/",
     "height": 363
    },
    "executionInfo": {
     "elapsed": 41,
     "status": "ok",
     "timestamp": 1758851353470,
     "user": {
      "displayName": "Marcela Fajardo",
      "userId": "14841747285208122853"
     },
     "user_tz": 300
    },
    "id": "iyQkLCCVaJ9b",
    "outputId": "3b4ffd6a-cee6-413b-c6d8-0fcb34e170a5"
   },
   "outputs": [
    {
     "data": {
      "application/vnd.microsoft.datawrangler.viewer.v0+json": {
       "columns": [
        {
         "name": "index",
         "rawType": "int64",
         "type": "integer"
        },
        {
         "name": "Name",
         "rawType": "object",
         "type": "string"
        },
        {
         "name": " Age",
         "rawType": "object",
         "type": "string"
        },
        {
         "name": " \"Height (inches)\"",
         "rawType": "object",
         "type": "string"
        },
        {
         "name": " \"Weight (pounds)\"",
         "rawType": "object",
         "type": "string"
        },
        {
         "name": " \"Salary ($)\"",
         "rawType": "object",
         "type": "string"
        },
        {
         "name": " \"City\"",
         "rawType": "object",
         "type": "string"
        },
        {
         "name": "None",
         "rawType": "object",
         "type": "unknown"
        }
       ],
       "ref": "93811568-a075-4233-b300-e1e70577105b",
       "rows": [
        [
         "0",
         "Amy",
         " 30",
         " 65.5",
         " 132.3",
         " 50000",
         " \"New York\"",
         null
        ],
        [
         "1",
         "Ben",
         " 25",
         " 68.0",
         " 165.3",
         " 60000",
         " \"Los Angeles\"",
         null
        ],
        [
         "2",
         "Charlie",
         " 32",
         " 67.0",
         " 180.5",
         " 55000",
         " \"Chicago\"",
         null
        ],
        [
         "3",
         "David",
         " 26",
         " 70.0",
         " 188.7",
         " 59000",
         " \"San Francisco\"",
         null
        ],
        [
         "4",
         "Ella",
         " 28",
         " 61.0",
         " 126.0",
         " 52000",
         " \"Bristol\"",
         null
        ],
        [
         "5",
         "Frank",
         " 35",
         " 69.0",
         " 154.3",
         " 58000",
         " \"Washington",
         " D.C.\""
        ],
        [
         "6",
         "Grace",
         " 29",
         " 64.0",
         " 143.5",
         " 51000",
         " \"Houston\"",
         null
        ],
        [
         "7",
         "Henry",
         " 28",
         " 66.1",
         " 110.2",
         " 55000",
         " \"Houston\"",
         null
        ],
        [
         "8",
         "Ivy",
         " 34",
         " 72.0",
         " 209.0",
         " 68000",
         " \"Miami\"",
         null
        ],
        [
         "9",
         "Jack",
         " 27",
         " 68.0",
         " 155.5",
         " 54000",
         " \"Boston\"",
         null
        ]
       ],
       "shape": {
        "columns": 7,
        "rows": 10
       }
      },
      "text/html": [
       "<div>\n",
       "<style scoped>\n",
       "    .dataframe tbody tr th:only-of-type {\n",
       "        vertical-align: middle;\n",
       "    }\n",
       "\n",
       "    .dataframe tbody tr th {\n",
       "        vertical-align: top;\n",
       "    }\n",
       "\n",
       "    .dataframe thead th {\n",
       "        text-align: right;\n",
       "    }\n",
       "</style>\n",
       "<table border=\"1\" class=\"dataframe\">\n",
       "  <thead>\n",
       "    <tr style=\"text-align: right;\">\n",
       "      <th></th>\n",
       "      <th>Name</th>\n",
       "      <th>Age</th>\n",
       "      <th>\"Height (inches)\"</th>\n",
       "      <th>\"Weight (pounds)\"</th>\n",
       "      <th>\"Salary ($)\"</th>\n",
       "      <th>\"City\"</th>\n",
       "      <th>None</th>\n",
       "    </tr>\n",
       "  </thead>\n",
       "  <tbody>\n",
       "    <tr>\n",
       "      <th>0</th>\n",
       "      <td>Amy</td>\n",
       "      <td>30</td>\n",
       "      <td>65.5</td>\n",
       "      <td>132.3</td>\n",
       "      <td>50000</td>\n",
       "      <td>\"New York\"</td>\n",
       "      <td>None</td>\n",
       "    </tr>\n",
       "    <tr>\n",
       "      <th>1</th>\n",
       "      <td>Ben</td>\n",
       "      <td>25</td>\n",
       "      <td>68.0</td>\n",
       "      <td>165.3</td>\n",
       "      <td>60000</td>\n",
       "      <td>\"Los Angeles\"</td>\n",
       "      <td>None</td>\n",
       "    </tr>\n",
       "    <tr>\n",
       "      <th>2</th>\n",
       "      <td>Charlie</td>\n",
       "      <td>32</td>\n",
       "      <td>67.0</td>\n",
       "      <td>180.5</td>\n",
       "      <td>55000</td>\n",
       "      <td>\"Chicago\"</td>\n",
       "      <td>None</td>\n",
       "    </tr>\n",
       "    <tr>\n",
       "      <th>3</th>\n",
       "      <td>David</td>\n",
       "      <td>26</td>\n",
       "      <td>70.0</td>\n",
       "      <td>188.7</td>\n",
       "      <td>59000</td>\n",
       "      <td>\"San Francisco\"</td>\n",
       "      <td>None</td>\n",
       "    </tr>\n",
       "    <tr>\n",
       "      <th>4</th>\n",
       "      <td>Ella</td>\n",
       "      <td>28</td>\n",
       "      <td>61.0</td>\n",
       "      <td>126.0</td>\n",
       "      <td>52000</td>\n",
       "      <td>\"Bristol\"</td>\n",
       "      <td>None</td>\n",
       "    </tr>\n",
       "    <tr>\n",
       "      <th>5</th>\n",
       "      <td>Frank</td>\n",
       "      <td>35</td>\n",
       "      <td>69.0</td>\n",
       "      <td>154.3</td>\n",
       "      <td>58000</td>\n",
       "      <td>\"Washington</td>\n",
       "      <td>D.C.\"</td>\n",
       "    </tr>\n",
       "    <tr>\n",
       "      <th>6</th>\n",
       "      <td>Grace</td>\n",
       "      <td>29</td>\n",
       "      <td>64.0</td>\n",
       "      <td>143.5</td>\n",
       "      <td>51000</td>\n",
       "      <td>\"Houston\"</td>\n",
       "      <td>None</td>\n",
       "    </tr>\n",
       "    <tr>\n",
       "      <th>7</th>\n",
       "      <td>Henry</td>\n",
       "      <td>28</td>\n",
       "      <td>66.1</td>\n",
       "      <td>110.2</td>\n",
       "      <td>55000</td>\n",
       "      <td>\"Houston\"</td>\n",
       "      <td>None</td>\n",
       "    </tr>\n",
       "    <tr>\n",
       "      <th>8</th>\n",
       "      <td>Ivy</td>\n",
       "      <td>34</td>\n",
       "      <td>72.0</td>\n",
       "      <td>209.0</td>\n",
       "      <td>68000</td>\n",
       "      <td>\"Miami\"</td>\n",
       "      <td>None</td>\n",
       "    </tr>\n",
       "    <tr>\n",
       "      <th>9</th>\n",
       "      <td>Jack</td>\n",
       "      <td>27</td>\n",
       "      <td>68.0</td>\n",
       "      <td>155.5</td>\n",
       "      <td>54000</td>\n",
       "      <td>\"Boston\"</td>\n",
       "      <td>None</td>\n",
       "    </tr>\n",
       "  </tbody>\n",
       "</table>\n",
       "</div>"
      ],
      "text/plain": [
       "      Name  Age  \"Height (inches)\"  \"Weight (pounds)\"  \"Salary ($)\"  \\\n",
       "0      Amy   30               65.5              132.3         50000   \n",
       "1      Ben   25               68.0              165.3         60000   \n",
       "2  Charlie   32               67.0              180.5         55000   \n",
       "3    David   26               70.0              188.7         59000   \n",
       "4     Ella   28               61.0              126.0         52000   \n",
       "5    Frank   35               69.0              154.3         58000   \n",
       "6    Grace   29               64.0              143.5         51000   \n",
       "7    Henry   28               66.1              110.2         55000   \n",
       "8      Ivy   34               72.0              209.0         68000   \n",
       "9     Jack   27               68.0              155.5         54000   \n",
       "\n",
       "             \"City\"    None  \n",
       "0        \"New York\"    None  \n",
       "1     \"Los Angeles\"    None  \n",
       "2         \"Chicago\"    None  \n",
       "3   \"San Francisco\"    None  \n",
       "4         \"Bristol\"    None  \n",
       "5       \"Washington   D.C.\"  \n",
       "6         \"Houston\"    None  \n",
       "7         \"Houston\"    None  \n",
       "8           \"Miami\"    None  \n",
       "9          \"Boston\"    None  "
      ]
     },
     "metadata": {},
     "output_type": "display_data"
    }
   ],
   "source": [
    "display(df1)"
   ]
  },
  {
   "cell_type": "markdown",
   "metadata": {
    "id": "cQuBenEKaU4v"
   },
   "source": [
    "#### Eliminar espacios en los nombres de las columnas"
   ]
  },
  {
   "cell_type": "code",
   "execution_count": 190,
   "metadata": {
    "executionInfo": {
     "elapsed": 2,
     "status": "ok",
     "timestamp": 1758851353478,
     "user": {
      "displayName": "Marcela Fajardo",
      "userId": "14841747285208122853"
     },
     "user_tz": 300
    },
    "id": "pQfdxSsUY7gn"
   },
   "outputs": [],
   "source": [
    "df1 = eliminar_espacios_columnas(df1)\n",
    "df1.columns = df1.columns.str.replace('\"', '')"
   ]
  },
  {
   "cell_type": "markdown",
   "metadata": {
    "id": "xvkndeieamc8"
   },
   "source": [
    "#### Eliminación de comillas dobles, comas, espacios e.t.c"
   ]
  },
  {
   "cell_type": "code",
   "execution_count": 191,
   "metadata": {
    "executionInfo": {
     "elapsed": 2,
     "status": "ok",
     "timestamp": 1758851353482,
     "user": {
      "displayName": "Marcela Fajardo",
      "userId": "14841747285208122853"
     },
     "user_tz": 300
    },
    "id": "Man6rQjBY9eH"
   },
   "outputs": [],
   "source": [
    "df1 = limpiar_valores(df1)"
   ]
  },
  {
   "cell_type": "markdown",
   "metadata": {
    "id": "D5JyRFUjaZee"
   },
   "source": [
    "#### Eliminación de columna irrelevantes"
   ]
  },
  {
   "cell_type": "code",
   "execution_count": 192,
   "metadata": {
    "colab": {
     "base_uri": "https://localhost:8080/",
     "height": 206
    },
    "executionInfo": {
     "elapsed": 27,
     "status": "ok",
     "timestamp": 1758851353511,
     "user": {
      "displayName": "Marcela Fajardo",
      "userId": "14841747285208122853"
     },
     "user_tz": 300
    },
    "id": "IvoES36oVz0n",
    "outputId": "161063b6-6299-4446-c190-49e5fe8def93"
   },
   "outputs": [
    {
     "data": {
      "application/vnd.microsoft.datawrangler.viewer.v0+json": {
       "columns": [
        {
         "name": "index",
         "rawType": "int64",
         "type": "integer"
        },
        {
         "name": "Name",
         "rawType": "object",
         "type": "string"
        },
        {
         "name": "Age",
         "rawType": "object",
         "type": "string"
        },
        {
         "name": "Height (inches)",
         "rawType": "object",
         "type": "string"
        },
        {
         "name": "Weight (pounds)",
         "rawType": "object",
         "type": "string"
        },
        {
         "name": "Salary ($)",
         "rawType": "object",
         "type": "string"
        },
        {
         "name": "City",
         "rawType": "object",
         "type": "string"
        }
       ],
       "ref": "92241db9-f596-4f3f-98c0-006c6f734ab8",
       "rows": [
        [
         "5",
         "Frank",
         "35",
         "69.0",
         "154.3",
         "58000",
         "Washington"
        ],
        [
         "6",
         "Grace",
         "29",
         "64.0",
         "143.5",
         "51000",
         "Houston"
        ],
        [
         "7",
         "Henry",
         "28",
         "66.1",
         "110.2",
         "55000",
         "Houston"
        ],
        [
         "8",
         "Ivy",
         "34",
         "72.0",
         "209.0",
         "68000",
         "Miami"
        ],
        [
         "9",
         "Jack",
         "27",
         "68.0",
         "155.5",
         "54000",
         "Boston"
        ]
       ],
       "shape": {
        "columns": 6,
        "rows": 5
       }
      },
      "text/html": [
       "<div>\n",
       "<style scoped>\n",
       "    .dataframe tbody tr th:only-of-type {\n",
       "        vertical-align: middle;\n",
       "    }\n",
       "\n",
       "    .dataframe tbody tr th {\n",
       "        vertical-align: top;\n",
       "    }\n",
       "\n",
       "    .dataframe thead th {\n",
       "        text-align: right;\n",
       "    }\n",
       "</style>\n",
       "<table border=\"1\" class=\"dataframe\">\n",
       "  <thead>\n",
       "    <tr style=\"text-align: right;\">\n",
       "      <th></th>\n",
       "      <th>Name</th>\n",
       "      <th>Age</th>\n",
       "      <th>Height (inches)</th>\n",
       "      <th>Weight (pounds)</th>\n",
       "      <th>Salary ($)</th>\n",
       "      <th>City</th>\n",
       "    </tr>\n",
       "  </thead>\n",
       "  <tbody>\n",
       "    <tr>\n",
       "      <th>5</th>\n",
       "      <td>Frank</td>\n",
       "      <td>35</td>\n",
       "      <td>69.0</td>\n",
       "      <td>154.3</td>\n",
       "      <td>58000</td>\n",
       "      <td>Washington</td>\n",
       "    </tr>\n",
       "    <tr>\n",
       "      <th>6</th>\n",
       "      <td>Grace</td>\n",
       "      <td>29</td>\n",
       "      <td>64.0</td>\n",
       "      <td>143.5</td>\n",
       "      <td>51000</td>\n",
       "      <td>Houston</td>\n",
       "    </tr>\n",
       "    <tr>\n",
       "      <th>7</th>\n",
       "      <td>Henry</td>\n",
       "      <td>28</td>\n",
       "      <td>66.1</td>\n",
       "      <td>110.2</td>\n",
       "      <td>55000</td>\n",
       "      <td>Houston</td>\n",
       "    </tr>\n",
       "    <tr>\n",
       "      <th>8</th>\n",
       "      <td>Ivy</td>\n",
       "      <td>34</td>\n",
       "      <td>72.0</td>\n",
       "      <td>209.0</td>\n",
       "      <td>68000</td>\n",
       "      <td>Miami</td>\n",
       "    </tr>\n",
       "    <tr>\n",
       "      <th>9</th>\n",
       "      <td>Jack</td>\n",
       "      <td>27</td>\n",
       "      <td>68.0</td>\n",
       "      <td>155.5</td>\n",
       "      <td>54000</td>\n",
       "      <td>Boston</td>\n",
       "    </tr>\n",
       "  </tbody>\n",
       "</table>\n",
       "</div>"
      ],
      "text/plain": [
       "    Name Age Height (inches) Weight (pounds) Salary ($)        City\n",
       "5  Frank  35            69.0           154.3      58000  Washington\n",
       "6  Grace  29            64.0           143.5      51000     Houston\n",
       "7  Henry  28            66.1           110.2      55000     Houston\n",
       "8    Ivy  34            72.0           209.0      68000       Miami\n",
       "9   Jack  27            68.0           155.5      54000      Boston"
      ]
     },
     "execution_count": 192,
     "metadata": {},
     "output_type": "execute_result"
    }
   ],
   "source": [
    "df1 = df1.iloc[:, :-1]\n",
    "df1.tail(5)"
   ]
  },
  {
   "cell_type": "markdown",
   "metadata": {
    "id": "2bJea9nya-gC"
   },
   "source": [
    "#### Identificación de valores faltantes"
   ]
  },
  {
   "cell_type": "code",
   "execution_count": 193,
   "metadata": {
    "colab": {
     "base_uri": "https://localhost:8080/",
     "height": 238
    },
    "executionInfo": {
     "elapsed": 63,
     "status": "ok",
     "timestamp": 1758851353568,
     "user": {
      "displayName": "Marcela Fajardo",
      "userId": "14841747285208122853"
     },
     "user_tz": 300
    },
    "id": "wTj4xb9YbC89",
    "outputId": "a9425727-a6eb-4b89-a188-ba829e93b403"
   },
   "outputs": [
    {
     "data": {
      "application/vnd.microsoft.datawrangler.viewer.v0+json": {
       "columns": [
        {
         "name": "index",
         "rawType": "object",
         "type": "string"
        },
        {
         "name": "Conteo",
         "rawType": "int64",
         "type": "integer"
        },
        {
         "name": "Porcentaje",
         "rawType": "float64",
         "type": "float"
        }
       ],
       "ref": "d6749973-211e-472a-b462-ef91858b2f63",
       "rows": [
        [
         "Name",
         "0",
         "0.0"
        ],
        [
         "Age",
         "0",
         "0.0"
        ],
        [
         "Height (inches)",
         "0",
         "0.0"
        ],
        [
         "Weight (pounds)",
         "0",
         "0.0"
        ],
        [
         "Salary ($)",
         "0",
         "0.0"
        ],
        [
         "City",
         "0",
         "0.0"
        ]
       ],
       "shape": {
        "columns": 2,
        "rows": 6
       }
      },
      "text/html": [
       "<div>\n",
       "<style scoped>\n",
       "    .dataframe tbody tr th:only-of-type {\n",
       "        vertical-align: middle;\n",
       "    }\n",
       "\n",
       "    .dataframe tbody tr th {\n",
       "        vertical-align: top;\n",
       "    }\n",
       "\n",
       "    .dataframe thead th {\n",
       "        text-align: right;\n",
       "    }\n",
       "</style>\n",
       "<table border=\"1\" class=\"dataframe\">\n",
       "  <thead>\n",
       "    <tr style=\"text-align: right;\">\n",
       "      <th></th>\n",
       "      <th>Conteo</th>\n",
       "      <th>Porcentaje</th>\n",
       "    </tr>\n",
       "  </thead>\n",
       "  <tbody>\n",
       "    <tr>\n",
       "      <th>Name</th>\n",
       "      <td>0</td>\n",
       "      <td>0.0</td>\n",
       "    </tr>\n",
       "    <tr>\n",
       "      <th>Age</th>\n",
       "      <td>0</td>\n",
       "      <td>0.0</td>\n",
       "    </tr>\n",
       "    <tr>\n",
       "      <th>Height (inches)</th>\n",
       "      <td>0</td>\n",
       "      <td>0.0</td>\n",
       "    </tr>\n",
       "    <tr>\n",
       "      <th>Weight (pounds)</th>\n",
       "      <td>0</td>\n",
       "      <td>0.0</td>\n",
       "    </tr>\n",
       "    <tr>\n",
       "      <th>Salary ($)</th>\n",
       "      <td>0</td>\n",
       "      <td>0.0</td>\n",
       "    </tr>\n",
       "    <tr>\n",
       "      <th>City</th>\n",
       "      <td>0</td>\n",
       "      <td>0.0</td>\n",
       "    </tr>\n",
       "  </tbody>\n",
       "</table>\n",
       "</div>"
      ],
      "text/plain": [
       "                 Conteo  Porcentaje\n",
       "Name                  0         0.0\n",
       "Age                   0         0.0\n",
       "Height (inches)       0         0.0\n",
       "Weight (pounds)       0         0.0\n",
       "Salary ($)            0         0.0\n",
       "City                  0         0.0"
      ]
     },
     "execution_count": 193,
     "metadata": {},
     "output_type": "execute_result"
    }
   ],
   "source": [
    "resumen_nulos(df1)"
   ]
  },
  {
   "cell_type": "code",
   "execution_count": 194,
   "metadata": {
    "colab": {
     "base_uri": "https://localhost:8080/"
    },
    "executionInfo": {
     "elapsed": 27,
     "status": "ok",
     "timestamp": 1758851353570,
     "user": {
      "displayName": "Marcela Fajardo",
      "userId": "14841747285208122853"
     },
     "user_tz": 300
    },
    "id": "AQrz5sZztZ2X",
    "outputId": "849b39e5-0b90-4237-db09-4797ccb5740e"
   },
   "outputs": [
    {
     "name": "stdout",
     "output_type": "stream",
     "text": [
      "object\n",
      "object\n"
     ]
    }
   ],
   "source": [
    "print(df1[\"Height (inches)\"].dtype)\n",
    "print(df1[\"Weight (pounds)\"].dtype)"
   ]
  },
  {
   "cell_type": "markdown",
   "metadata": {
    "id": "W6EqgPdAbUwP"
   },
   "source": [
    "#### Cambiar tipo de formato variables"
   ]
  },
  {
   "cell_type": "code",
   "execution_count": 195,
   "metadata": {
    "colab": {
     "base_uri": "https://localhost:8080/"
    },
    "executionInfo": {
     "elapsed": 30,
     "status": "ok",
     "timestamp": 1758851353606,
     "user": {
      "displayName": "Marcela Fajardo",
      "userId": "14841747285208122853"
     },
     "user_tz": 300
    },
    "id": "zXBV_7IBbVVr",
    "outputId": "8634b3e0-5bed-48dc-e1d6-5526d5d75a20"
   },
   "outputs": [
    {
     "name": "stdout",
     "output_type": "stream",
     "text": [
      "Columna 'Age' convertida a tipo numérico (con NaNs para errores).\n",
      "Columna 'Salary ($)' convertida a tipo numérico (con NaNs para errores).\n"
     ]
    }
   ],
   "source": [
    "columnas_a_int = ['Age', 'Salary ($)']\n",
    "for columna in columnas_a_int:\n",
    "    df1[columna] = pd.to_numeric(df1[columna], errors='coerce').astype(int)\n",
    "    print(f\"Columna '{columna}' convertida a tipo numérico (con NaNs para errores).\")"
   ]
  },
  {
   "cell_type": "code",
   "execution_count": 196,
   "metadata": {
    "colab": {
     "base_uri": "https://localhost:8080/"
    },
    "executionInfo": {
     "elapsed": 7,
     "status": "ok",
     "timestamp": 1758851353615,
     "user": {
      "displayName": "Marcela Fajardo",
      "userId": "14841747285208122853"
     },
     "user_tz": 300
    },
    "id": "VDoApTIJbZfM",
    "outputId": "242e624f-5d3c-4c69-9661-f75f7fdc14b7"
   },
   "outputs": [
    {
     "name": "stdout",
     "output_type": "stream",
     "text": [
      "Columna 'Height (inches)' convertida a tipo flotante (con NaNs para errores).\n",
      "Columna 'Weight (pounds)' convertida a tipo flotante (con NaNs para errores).\n"
     ]
    }
   ],
   "source": [
    "columnas_a_float = ['Height (inches)', 'Weight (pounds)']\n",
    "for columna in columnas_a_float:\n",
    "    df1[columna] = pd.to_numeric(df1[columna], errors='coerce')\n",
    "    print(f\"Columna '{columna}' convertida a tipo flotante (con NaNs para errores).\")"
   ]
  },
  {
   "cell_type": "code",
   "execution_count": 197,
   "metadata": {
    "colab": {
     "base_uri": "https://localhost:8080/"
    },
    "executionInfo": {
     "elapsed": 12,
     "status": "ok",
     "timestamp": 1758851353629,
     "user": {
      "displayName": "Marcela Fajardo",
      "userId": "14841747285208122853"
     },
     "user_tz": 300
    },
    "id": "OmxNrzbUcDyz",
    "outputId": "9ca71489-384a-4688-a9b6-f0e565bdcb1a"
   },
   "outputs": [
    {
     "name": "stdout",
     "output_type": "stream",
     "text": [
      "<class 'pandas.core.frame.DataFrame'>\n",
      "RangeIndex: 10 entries, 0 to 9\n",
      "Data columns (total 6 columns):\n",
      " #   Column           Non-Null Count  Dtype  \n",
      "---  ------           --------------  -----  \n",
      " 0   Name             10 non-null     object \n",
      " 1   Age              10 non-null     int64  \n",
      " 2   Height (inches)  10 non-null     float64\n",
      " 3   Weight (pounds)  10 non-null     float64\n",
      " 4   Salary ($)       10 non-null     int64  \n",
      " 5   City             10 non-null     object \n",
      "dtypes: float64(2), int64(2), object(2)\n",
      "memory usage: 612.0+ bytes\n"
     ]
    }
   ],
   "source": [
    "df1.info()"
   ]
  },
  {
   "cell_type": "markdown",
   "metadata": {
    "id": "9su_p2mkcLUL"
   },
   "source": [
    "#### Convertir las variables Height y Weight a (cm) y (kg) respectivamente"
   ]
  },
  {
   "cell_type": "code",
   "execution_count": 198,
   "metadata": {
    "colab": {
     "base_uri": "https://localhost:8080/"
    },
    "executionInfo": {
     "elapsed": 20,
     "status": "ok",
     "timestamp": 1758851353651,
     "user": {
      "displayName": "Marcela Fajardo",
      "userId": "14841747285208122853"
     },
     "user_tz": 300
    },
    "id": "oiOk4qqbtKi1",
    "outputId": "e4a48992-1dea-4725-a965-e80820b7af63"
   },
   "outputs": [
    {
     "data": {
      "text/plain": [
       "Index(['Name', 'Age', 'Height (inches)', 'Weight (pounds)', 'Salary ($)',\n",
       "       'City'],\n",
       "      dtype='object')"
      ]
     },
     "execution_count": 198,
     "metadata": {},
     "output_type": "execute_result"
    }
   ],
   "source": [
    "df1.columns"
   ]
  },
  {
   "cell_type": "code",
   "execution_count": 199,
   "metadata": {
    "colab": {
     "base_uri": "https://localhost:8080/"
    },
    "executionInfo": {
     "elapsed": 15,
     "status": "ok",
     "timestamp": 1758851353667,
     "user": {
      "displayName": "Marcela Fajardo",
      "userId": "14841747285208122853"
     },
     "user_tz": 300
    },
    "id": "Stgw5_moceXO",
    "outputId": "261d97e4-cb89-4b85-b00e-0fa0c5af1a15"
   },
   "outputs": [
    {
     "name": "stdout",
     "output_type": "stream",
     "text": [
      "<class 'pandas.core.frame.DataFrame'>\n",
      "RangeIndex: 10 entries, 0 to 9\n",
      "Data columns (total 6 columns):\n",
      " #   Column       Non-Null Count  Dtype  \n",
      "---  ------       --------------  -----  \n",
      " 0   Name         10 non-null     object \n",
      " 1   Age          10 non-null     int64  \n",
      " 2   Height (cm)  10 non-null     float64\n",
      " 3   Weight (kg)  10 non-null     float64\n",
      " 4   Salary ($)   10 non-null     int64  \n",
      " 5   City         10 non-null     object \n",
      "dtypes: float64(2), int64(2), object(2)\n",
      "memory usage: 612.0+ bytes\n"
     ]
    }
   ],
   "source": [
    "# Obtener los índices de las columnas originales\n",
    "height_inches_index = df1.columns.get_loc('Height (inches)')\n",
    "weight_pounds_index = df1.columns.get_loc('Weight (pounds)')\n",
    "\n",
    "# Convertir altura de pulgadas a cm (1 pulgada = 2.54 cm)\n",
    "df1['Height (cm)'] = df1['Height (inches)'] * 2.54\n",
    "\n",
    "# Convertir peso de libras a kg (1 libra = 0.453592 kg)\n",
    "df1['Weight (kg)'] = df1['Weight (pounds)'] * 0.453592\n",
    "\n",
    "# Eliminar las columnas originales\n",
    "df1 = df1.drop(columns=['Height (inches)', 'Weight (pounds)'])\n",
    "\n",
    "# Insertar las nuevas columnas en las posiciones originales\n",
    "df1.insert(height_inches_index, 'Height (cm)', df1.pop('Height (cm)'))\n",
    "df1.insert(weight_pounds_index, 'Weight (kg)', df1.pop('Weight (kg)'))\n",
    "\n",
    "# Redondear para evitar problemas de precisión\n",
    "df1[\"Height (cm)\"] = df1[\"Height (cm)\"].round(2)\n",
    "df1[\"Weight (kg)\"] = df1[\"Weight (kg)\"].round(2)\n",
    "\n",
    "# Mostrar información actualizada del dataframe para ver los cambios\n",
    "df1.info()"
   ]
  },
  {
   "cell_type": "markdown",
   "metadata": {
    "id": "bCjax7xCeojk"
   },
   "source": [
    "#### Convertir a minusculas las variables tipo object"
   ]
  },
  {
   "cell_type": "code",
   "execution_count": 200,
   "metadata": {
    "executionInfo": {
     "elapsed": 7,
     "status": "ok",
     "timestamp": 1758851353672,
     "user": {
      "displayName": "Marcela Fajardo",
      "userId": "14841747285208122853"
     },
     "user_tz": 300
    },
    "id": "xZybPzsgenZH"
   },
   "outputs": [],
   "source": [
    "for col in df1.select_dtypes(include='object').columns:\n",
    "  df1[col] = df1[col].str.lower()"
   ]
  },
  {
   "cell_type": "code",
   "execution_count": 201,
   "metadata": {
    "colab": {
     "base_uri": "https://localhost:8080/",
     "height": 363
    },
    "executionInfo": {
     "elapsed": 39,
     "status": "ok",
     "timestamp": 1758851353714,
     "user": {
      "displayName": "Marcela Fajardo",
      "userId": "14841747285208122853"
     },
     "user_tz": 300
    },
    "id": "DoF8jX0le300",
    "outputId": "bf9f2832-7e8a-4e09-c3f6-f0f0b7436e2b"
   },
   "outputs": [
    {
     "data": {
      "application/vnd.microsoft.datawrangler.viewer.v0+json": {
       "columns": [
        {
         "name": "index",
         "rawType": "int64",
         "type": "integer"
        },
        {
         "name": "Name",
         "rawType": "object",
         "type": "string"
        },
        {
         "name": "Age",
         "rawType": "int64",
         "type": "integer"
        },
        {
         "name": "Height (cm)",
         "rawType": "float64",
         "type": "float"
        },
        {
         "name": "Weight (kg)",
         "rawType": "float64",
         "type": "float"
        },
        {
         "name": "Salary ($)",
         "rawType": "int64",
         "type": "integer"
        },
        {
         "name": "City",
         "rawType": "object",
         "type": "string"
        }
       ],
       "ref": "126033ea-4dff-4ca4-9ab9-ff0733df39a2",
       "rows": [
        [
         "0",
         "amy",
         "30",
         "166.37",
         "60.01",
         "50000",
         "new york"
        ],
        [
         "1",
         "ben",
         "25",
         "172.72",
         "74.98",
         "60000",
         "los angeles"
        ],
        [
         "2",
         "charlie",
         "32",
         "170.18",
         "81.87",
         "55000",
         "chicago"
        ],
        [
         "3",
         "david",
         "26",
         "177.8",
         "85.59",
         "59000",
         "san francisco"
        ],
        [
         "4",
         "ella",
         "28",
         "154.94",
         "57.15",
         "52000",
         "bristol"
        ],
        [
         "5",
         "frank",
         "35",
         "175.26",
         "69.99",
         "58000",
         "washington"
        ],
        [
         "6",
         "grace",
         "29",
         "162.56",
         "65.09",
         "51000",
         "houston"
        ],
        [
         "7",
         "henry",
         "28",
         "167.89",
         "49.99",
         "55000",
         "houston"
        ],
        [
         "8",
         "ivy",
         "34",
         "182.88",
         "94.8",
         "68000",
         "miami"
        ],
        [
         "9",
         "jack",
         "27",
         "172.72",
         "70.53",
         "54000",
         "boston"
        ]
       ],
       "shape": {
        "columns": 6,
        "rows": 10
       }
      },
      "text/html": [
       "<div>\n",
       "<style scoped>\n",
       "    .dataframe tbody tr th:only-of-type {\n",
       "        vertical-align: middle;\n",
       "    }\n",
       "\n",
       "    .dataframe tbody tr th {\n",
       "        vertical-align: top;\n",
       "    }\n",
       "\n",
       "    .dataframe thead th {\n",
       "        text-align: right;\n",
       "    }\n",
       "</style>\n",
       "<table border=\"1\" class=\"dataframe\">\n",
       "  <thead>\n",
       "    <tr style=\"text-align: right;\">\n",
       "      <th></th>\n",
       "      <th>Name</th>\n",
       "      <th>Age</th>\n",
       "      <th>Height (cm)</th>\n",
       "      <th>Weight (kg)</th>\n",
       "      <th>Salary ($)</th>\n",
       "      <th>City</th>\n",
       "    </tr>\n",
       "  </thead>\n",
       "  <tbody>\n",
       "    <tr>\n",
       "      <th>0</th>\n",
       "      <td>amy</td>\n",
       "      <td>30</td>\n",
       "      <td>166.37</td>\n",
       "      <td>60.01</td>\n",
       "      <td>50000</td>\n",
       "      <td>new york</td>\n",
       "    </tr>\n",
       "    <tr>\n",
       "      <th>1</th>\n",
       "      <td>ben</td>\n",
       "      <td>25</td>\n",
       "      <td>172.72</td>\n",
       "      <td>74.98</td>\n",
       "      <td>60000</td>\n",
       "      <td>los angeles</td>\n",
       "    </tr>\n",
       "    <tr>\n",
       "      <th>2</th>\n",
       "      <td>charlie</td>\n",
       "      <td>32</td>\n",
       "      <td>170.18</td>\n",
       "      <td>81.87</td>\n",
       "      <td>55000</td>\n",
       "      <td>chicago</td>\n",
       "    </tr>\n",
       "    <tr>\n",
       "      <th>3</th>\n",
       "      <td>david</td>\n",
       "      <td>26</td>\n",
       "      <td>177.80</td>\n",
       "      <td>85.59</td>\n",
       "      <td>59000</td>\n",
       "      <td>san francisco</td>\n",
       "    </tr>\n",
       "    <tr>\n",
       "      <th>4</th>\n",
       "      <td>ella</td>\n",
       "      <td>28</td>\n",
       "      <td>154.94</td>\n",
       "      <td>57.15</td>\n",
       "      <td>52000</td>\n",
       "      <td>bristol</td>\n",
       "    </tr>\n",
       "    <tr>\n",
       "      <th>5</th>\n",
       "      <td>frank</td>\n",
       "      <td>35</td>\n",
       "      <td>175.26</td>\n",
       "      <td>69.99</td>\n",
       "      <td>58000</td>\n",
       "      <td>washington</td>\n",
       "    </tr>\n",
       "    <tr>\n",
       "      <th>6</th>\n",
       "      <td>grace</td>\n",
       "      <td>29</td>\n",
       "      <td>162.56</td>\n",
       "      <td>65.09</td>\n",
       "      <td>51000</td>\n",
       "      <td>houston</td>\n",
       "    </tr>\n",
       "    <tr>\n",
       "      <th>7</th>\n",
       "      <td>henry</td>\n",
       "      <td>28</td>\n",
       "      <td>167.89</td>\n",
       "      <td>49.99</td>\n",
       "      <td>55000</td>\n",
       "      <td>houston</td>\n",
       "    </tr>\n",
       "    <tr>\n",
       "      <th>8</th>\n",
       "      <td>ivy</td>\n",
       "      <td>34</td>\n",
       "      <td>182.88</td>\n",
       "      <td>94.80</td>\n",
       "      <td>68000</td>\n",
       "      <td>miami</td>\n",
       "    </tr>\n",
       "    <tr>\n",
       "      <th>9</th>\n",
       "      <td>jack</td>\n",
       "      <td>27</td>\n",
       "      <td>172.72</td>\n",
       "      <td>70.53</td>\n",
       "      <td>54000</td>\n",
       "      <td>boston</td>\n",
       "    </tr>\n",
       "  </tbody>\n",
       "</table>\n",
       "</div>"
      ],
      "text/plain": [
       "      Name  Age  Height (cm)  Weight (kg)  Salary ($)           City\n",
       "0      amy   30       166.37        60.01       50000       new york\n",
       "1      ben   25       172.72        74.98       60000    los angeles\n",
       "2  charlie   32       170.18        81.87       55000        chicago\n",
       "3    david   26       177.80        85.59       59000  san francisco\n",
       "4     ella   28       154.94        57.15       52000        bristol\n",
       "5    frank   35       175.26        69.99       58000     washington\n",
       "6    grace   29       162.56        65.09       51000        houston\n",
       "7    henry   28       167.89        49.99       55000        houston\n",
       "8      ivy   34       182.88        94.80       68000          miami\n",
       "9     jack   27       172.72        70.53       54000         boston"
      ]
     },
     "metadata": {},
     "output_type": "display_data"
    }
   ],
   "source": [
    "display(df1)"
   ]
  },
  {
   "cell_type": "markdown",
   "metadata": {
    "id": "qqaMKrggfGI8"
   },
   "source": [
    "### **Tercer archivo = DF3**"
   ]
  },
  {
   "cell_type": "markdown",
   "metadata": {
    "id": "jbyiseplfLFb"
   },
   "source": [
    "#### Información general dataset"
   ]
  },
  {
   "cell_type": "code",
   "execution_count": 202,
   "metadata": {
    "colab": {
     "base_uri": "https://localhost:8080/"
    },
    "executionInfo": {
     "elapsed": 27,
     "status": "ok",
     "timestamp": 1758851353748,
     "user": {
      "displayName": "Marcela Fajardo",
      "userId": "14841747285208122853"
     },
     "user_tz": 300
    },
    "id": "NuxWvMn7fJNn",
    "outputId": "5a16eab7-0218-42fc-8a19-f5d53847e6a6"
   },
   "outputs": [
    {
     "name": "stdout",
     "output_type": "stream",
     "text": [
      "(29, 4)\n",
      "----------------------------------------\n",
      "<class 'pandas.core.frame.DataFrame'>\n",
      "RangeIndex: 29 entries, 0 to 28\n",
      "Data columns (total 4 columns):\n",
      " #   Column             Non-Null Count  Dtype \n",
      "---  ------             --------------  ----- \n",
      " 0   Name               29 non-null     object\n",
      " 1    Sex               29 non-null     object\n",
      " 2    \"Marital Status\"  29 non-null     object\n",
      " 3    Career            29 non-null     object\n",
      "dtypes: object(4)\n",
      "memory usage: 1.0+ KB\n"
     ]
    }
   ],
   "source": [
    "print(df3.shape)\n",
    "print (\"-\"*40)\n",
    "df3.info()"
   ]
  },
  {
   "cell_type": "code",
   "execution_count": 203,
   "metadata": {
    "colab": {
     "base_uri": "https://localhost:8080/",
     "height": 0
    },
    "executionInfo": {
     "elapsed": 8,
     "status": "ok",
     "timestamp": 1758851353753,
     "user": {
      "displayName": "Marcela Fajardo",
      "userId": "14841747285208122853"
     },
     "user_tz": 300
    },
    "id": "EoUWfHlDfcKS",
    "outputId": "fa9759be-17e1-4047-beb9-bcda055a24c8"
   },
   "outputs": [
    {
     "data": {
      "application/vnd.microsoft.datawrangler.viewer.v0+json": {
       "columns": [
        {
         "name": "index",
         "rawType": "int64",
         "type": "integer"
        },
        {
         "name": "Name",
         "rawType": "object",
         "type": "string"
        },
        {
         "name": " Sex",
         "rawType": "object",
         "type": "string"
        },
        {
         "name": " \"Marital Status\"",
         "rawType": "object",
         "type": "string"
        },
        {
         "name": " Career",
         "rawType": "object",
         "type": "string"
        }
       ],
       "ref": "589f3e15-d77f-4e57-a139-e254c31185eb",
       "rows": [
        [
         "0",
         "Alice",
         " Female",
         " Single",
         " Data Scientist"
        ],
        [
         "1",
         "Bob",
         " Male",
         " Single",
         " Software Engineer"
        ],
        [
         "2",
         "Charlie",
         " Male",
         " Married",
         " Doctor"
        ],
        [
         "3",
         "David",
         " Male",
         " Single",
         " Lawyer"
        ],
        [
         "4",
         "Eve",
         " Female",
         " Divorced",
         " Artist"
        ],
        [
         "5",
         "Frank",
         " Male",
         " Married",
         " Engineer"
        ],
        [
         "6",
         "Grace",
         " Female",
         " Single",
         " Nurse"
        ],
        [
         "7",
         "Heidi",
         " Female",
         " Married",
         " Teacher"
        ],
        [
         "8",
         "Ivan",
         " Male",
         " Married",
         " Accountant"
        ],
        [
         "9",
         "Jack",
         " Male",
         " Single",
         " IT Specialist"
        ],
        [
         "10",
         "Katie",
         " Female",
         " Single",
         " Marketing"
        ],
        [
         "11",
         "Liam",
         " Male",
         " Single",
         " Researcher"
        ],
        [
         "12",
         "Mia",
         " Female",
         " Married",
         " Nurse"
        ],
        [
         "13",
         "Nora",
         " Female",
         " Single",
         " Data Analyst"
        ],
        [
         "14",
         "Oliver",
         " Male",
         " Married",
         " Architect"
        ],
        [
         "15",
         "Penny",
         " Female",
         " Single",
         " Graphic Designer"
        ],
        [
         "16",
         "Quinn",
         " Non-Binary",
         " Single",
         " Writer"
        ],
        [
         "17",
         "Ryan",
         " Male",
         " Single",
         " Financial Analyst"
        ],
        [
         "18",
         "Sophia",
         " Female",
         " Married",
         " Psychologist"
        ],
        [
         "19",
         "Amy",
         " Female",
         " Married",
         " Sales Manager"
        ],
        [
         "20",
         "Ben",
         " Male",
         " Single",
         " Marketing Manager"
        ],
        [
         "21",
         "Charlie",
         " Male",
         " Married",
         " Doctor"
        ],
        [
         "22",
         "David",
         " Male",
         " Single",
         " Lawyer"
        ],
        [
         "23",
         "Ella",
         " Female",
         " Divorced",
         " Artist"
        ],
        [
         "24",
         "Frank",
         " Male",
         " Married",
         " Engineer"
        ],
        [
         "25",
         "Grace",
         " Female",
         " Single",
         " Nurse"
        ],
        [
         "26",
         "Henry",
         " Male",
         " Single",
         " Accountant"
        ],
        [
         "27",
         "Ivy",
         " Female",
         " Married",
         " Professor"
        ],
        [
         "28",
         "Jack",
         " Male",
         " Single",
         " IT Specialist"
        ]
       ],
       "shape": {
        "columns": 4,
        "rows": 29
       }
      },
      "text/html": [
       "<div>\n",
       "<style scoped>\n",
       "    .dataframe tbody tr th:only-of-type {\n",
       "        vertical-align: middle;\n",
       "    }\n",
       "\n",
       "    .dataframe tbody tr th {\n",
       "        vertical-align: top;\n",
       "    }\n",
       "\n",
       "    .dataframe thead th {\n",
       "        text-align: right;\n",
       "    }\n",
       "</style>\n",
       "<table border=\"1\" class=\"dataframe\">\n",
       "  <thead>\n",
       "    <tr style=\"text-align: right;\">\n",
       "      <th></th>\n",
       "      <th>Name</th>\n",
       "      <th>Sex</th>\n",
       "      <th>\"Marital Status\"</th>\n",
       "      <th>Career</th>\n",
       "    </tr>\n",
       "  </thead>\n",
       "  <tbody>\n",
       "    <tr>\n",
       "      <th>0</th>\n",
       "      <td>Alice</td>\n",
       "      <td>Female</td>\n",
       "      <td>Single</td>\n",
       "      <td>Data Scientist</td>\n",
       "    </tr>\n",
       "    <tr>\n",
       "      <th>1</th>\n",
       "      <td>Bob</td>\n",
       "      <td>Male</td>\n",
       "      <td>Single</td>\n",
       "      <td>Software Engineer</td>\n",
       "    </tr>\n",
       "    <tr>\n",
       "      <th>2</th>\n",
       "      <td>Charlie</td>\n",
       "      <td>Male</td>\n",
       "      <td>Married</td>\n",
       "      <td>Doctor</td>\n",
       "    </tr>\n",
       "    <tr>\n",
       "      <th>3</th>\n",
       "      <td>David</td>\n",
       "      <td>Male</td>\n",
       "      <td>Single</td>\n",
       "      <td>Lawyer</td>\n",
       "    </tr>\n",
       "    <tr>\n",
       "      <th>4</th>\n",
       "      <td>Eve</td>\n",
       "      <td>Female</td>\n",
       "      <td>Divorced</td>\n",
       "      <td>Artist</td>\n",
       "    </tr>\n",
       "    <tr>\n",
       "      <th>5</th>\n",
       "      <td>Frank</td>\n",
       "      <td>Male</td>\n",
       "      <td>Married</td>\n",
       "      <td>Engineer</td>\n",
       "    </tr>\n",
       "    <tr>\n",
       "      <th>6</th>\n",
       "      <td>Grace</td>\n",
       "      <td>Female</td>\n",
       "      <td>Single</td>\n",
       "      <td>Nurse</td>\n",
       "    </tr>\n",
       "    <tr>\n",
       "      <th>7</th>\n",
       "      <td>Heidi</td>\n",
       "      <td>Female</td>\n",
       "      <td>Married</td>\n",
       "      <td>Teacher</td>\n",
       "    </tr>\n",
       "    <tr>\n",
       "      <th>8</th>\n",
       "      <td>Ivan</td>\n",
       "      <td>Male</td>\n",
       "      <td>Married</td>\n",
       "      <td>Accountant</td>\n",
       "    </tr>\n",
       "    <tr>\n",
       "      <th>9</th>\n",
       "      <td>Jack</td>\n",
       "      <td>Male</td>\n",
       "      <td>Single</td>\n",
       "      <td>IT Specialist</td>\n",
       "    </tr>\n",
       "    <tr>\n",
       "      <th>10</th>\n",
       "      <td>Katie</td>\n",
       "      <td>Female</td>\n",
       "      <td>Single</td>\n",
       "      <td>Marketing</td>\n",
       "    </tr>\n",
       "    <tr>\n",
       "      <th>11</th>\n",
       "      <td>Liam</td>\n",
       "      <td>Male</td>\n",
       "      <td>Single</td>\n",
       "      <td>Researcher</td>\n",
       "    </tr>\n",
       "    <tr>\n",
       "      <th>12</th>\n",
       "      <td>Mia</td>\n",
       "      <td>Female</td>\n",
       "      <td>Married</td>\n",
       "      <td>Nurse</td>\n",
       "    </tr>\n",
       "    <tr>\n",
       "      <th>13</th>\n",
       "      <td>Nora</td>\n",
       "      <td>Female</td>\n",
       "      <td>Single</td>\n",
       "      <td>Data Analyst</td>\n",
       "    </tr>\n",
       "    <tr>\n",
       "      <th>14</th>\n",
       "      <td>Oliver</td>\n",
       "      <td>Male</td>\n",
       "      <td>Married</td>\n",
       "      <td>Architect</td>\n",
       "    </tr>\n",
       "    <tr>\n",
       "      <th>15</th>\n",
       "      <td>Penny</td>\n",
       "      <td>Female</td>\n",
       "      <td>Single</td>\n",
       "      <td>Graphic Designer</td>\n",
       "    </tr>\n",
       "    <tr>\n",
       "      <th>16</th>\n",
       "      <td>Quinn</td>\n",
       "      <td>Non-Binary</td>\n",
       "      <td>Single</td>\n",
       "      <td>Writer</td>\n",
       "    </tr>\n",
       "    <tr>\n",
       "      <th>17</th>\n",
       "      <td>Ryan</td>\n",
       "      <td>Male</td>\n",
       "      <td>Single</td>\n",
       "      <td>Financial Analyst</td>\n",
       "    </tr>\n",
       "    <tr>\n",
       "      <th>18</th>\n",
       "      <td>Sophia</td>\n",
       "      <td>Female</td>\n",
       "      <td>Married</td>\n",
       "      <td>Psychologist</td>\n",
       "    </tr>\n",
       "    <tr>\n",
       "      <th>19</th>\n",
       "      <td>Amy</td>\n",
       "      <td>Female</td>\n",
       "      <td>Married</td>\n",
       "      <td>Sales Manager</td>\n",
       "    </tr>\n",
       "    <tr>\n",
       "      <th>20</th>\n",
       "      <td>Ben</td>\n",
       "      <td>Male</td>\n",
       "      <td>Single</td>\n",
       "      <td>Marketing Manager</td>\n",
       "    </tr>\n",
       "    <tr>\n",
       "      <th>21</th>\n",
       "      <td>Charlie</td>\n",
       "      <td>Male</td>\n",
       "      <td>Married</td>\n",
       "      <td>Doctor</td>\n",
       "    </tr>\n",
       "    <tr>\n",
       "      <th>22</th>\n",
       "      <td>David</td>\n",
       "      <td>Male</td>\n",
       "      <td>Single</td>\n",
       "      <td>Lawyer</td>\n",
       "    </tr>\n",
       "    <tr>\n",
       "      <th>23</th>\n",
       "      <td>Ella</td>\n",
       "      <td>Female</td>\n",
       "      <td>Divorced</td>\n",
       "      <td>Artist</td>\n",
       "    </tr>\n",
       "    <tr>\n",
       "      <th>24</th>\n",
       "      <td>Frank</td>\n",
       "      <td>Male</td>\n",
       "      <td>Married</td>\n",
       "      <td>Engineer</td>\n",
       "    </tr>\n",
       "    <tr>\n",
       "      <th>25</th>\n",
       "      <td>Grace</td>\n",
       "      <td>Female</td>\n",
       "      <td>Single</td>\n",
       "      <td>Nurse</td>\n",
       "    </tr>\n",
       "    <tr>\n",
       "      <th>26</th>\n",
       "      <td>Henry</td>\n",
       "      <td>Male</td>\n",
       "      <td>Single</td>\n",
       "      <td>Accountant</td>\n",
       "    </tr>\n",
       "    <tr>\n",
       "      <th>27</th>\n",
       "      <td>Ivy</td>\n",
       "      <td>Female</td>\n",
       "      <td>Married</td>\n",
       "      <td>Professor</td>\n",
       "    </tr>\n",
       "    <tr>\n",
       "      <th>28</th>\n",
       "      <td>Jack</td>\n",
       "      <td>Male</td>\n",
       "      <td>Single</td>\n",
       "      <td>IT Specialist</td>\n",
       "    </tr>\n",
       "  </tbody>\n",
       "</table>\n",
       "</div>"
      ],
      "text/plain": [
       "       Name          Sex  \"Marital Status\"              Career\n",
       "0     Alice       Female            Single      Data Scientist\n",
       "1       Bob         Male            Single   Software Engineer\n",
       "2   Charlie         Male           Married              Doctor\n",
       "3     David         Male            Single              Lawyer\n",
       "4       Eve       Female          Divorced              Artist\n",
       "5     Frank         Male           Married            Engineer\n",
       "6     Grace       Female            Single               Nurse\n",
       "7     Heidi       Female           Married             Teacher\n",
       "8      Ivan         Male           Married          Accountant\n",
       "9      Jack         Male            Single       IT Specialist\n",
       "10    Katie       Female            Single           Marketing\n",
       "11     Liam         Male            Single          Researcher\n",
       "12      Mia       Female           Married               Nurse\n",
       "13     Nora       Female            Single        Data Analyst\n",
       "14   Oliver         Male           Married           Architect\n",
       "15    Penny       Female            Single    Graphic Designer\n",
       "16    Quinn   Non-Binary            Single              Writer\n",
       "17     Ryan         Male            Single   Financial Analyst\n",
       "18   Sophia       Female           Married        Psychologist\n",
       "19      Amy       Female           Married       Sales Manager\n",
       "20      Ben         Male            Single   Marketing Manager\n",
       "21  Charlie         Male           Married              Doctor\n",
       "22    David         Male            Single              Lawyer\n",
       "23     Ella       Female          Divorced              Artist\n",
       "24    Frank         Male           Married            Engineer\n",
       "25    Grace       Female            Single               Nurse\n",
       "26    Henry         Male            Single          Accountant\n",
       "27      Ivy       Female           Married           Professor\n",
       "28     Jack         Male            Single       IT Specialist"
      ]
     },
     "metadata": {},
     "output_type": "display_data"
    }
   ],
   "source": [
    "display(df3)"
   ]
  },
  {
   "cell_type": "markdown",
   "metadata": {
    "id": "nuIgRnzrfTjG"
   },
   "source": [
    "#### Eliminar espacios en los nombres de las columnas"
   ]
  },
  {
   "cell_type": "code",
   "execution_count": 204,
   "metadata": {
    "executionInfo": {
     "elapsed": 65,
     "status": "ok",
     "timestamp": 1758851353817,
     "user": {
      "displayName": "Marcela Fajardo",
      "userId": "14841747285208122853"
     },
     "user_tz": 300
    },
    "id": "N6-VnXyPfYWJ"
   },
   "outputs": [],
   "source": [
    "df3 = eliminar_espacios_columnas(df3)\n",
    "df3.columns = df3.columns.str.replace('\"', '')"
   ]
  },
  {
   "cell_type": "markdown",
   "metadata": {
    "id": "T7jUmw9KfusB"
   },
   "source": [
    "#### Eliminación de comillas dobles, comas, espacios e.t.c"
   ]
  },
  {
   "cell_type": "code",
   "execution_count": 205,
   "metadata": {
    "executionInfo": {
     "elapsed": 7,
     "status": "ok",
     "timestamp": 1758851353826,
     "user": {
      "displayName": "Marcela Fajardo",
      "userId": "14841747285208122853"
     },
     "user_tz": 300
    },
    "id": "bFNuftPwfvZ5"
   },
   "outputs": [],
   "source": [
    "df3 = limpiar_valores(df3)"
   ]
  },
  {
   "cell_type": "markdown",
   "metadata": {
    "id": "e0j4cenff6O5"
   },
   "source": [
    "#### Identificación de valores faltantes"
   ]
  },
  {
   "cell_type": "code",
   "execution_count": 206,
   "metadata": {
    "colab": {
     "base_uri": "https://localhost:8080/",
     "height": 175
    },
    "executionInfo": {
     "elapsed": 30,
     "status": "ok",
     "timestamp": 1758851353850,
     "user": {
      "displayName": "Marcela Fajardo",
      "userId": "14841747285208122853"
     },
     "user_tz": 300
    },
    "id": "-03Rns60f4jq",
    "outputId": "cdfbc29a-6684-46ce-ca76-3e5037dd595c"
   },
   "outputs": [
    {
     "data": {
      "application/vnd.microsoft.datawrangler.viewer.v0+json": {
       "columns": [
        {
         "name": "index",
         "rawType": "object",
         "type": "string"
        },
        {
         "name": "Conteo",
         "rawType": "int64",
         "type": "integer"
        },
        {
         "name": "Porcentaje",
         "rawType": "float64",
         "type": "float"
        }
       ],
       "ref": "832c0030-cbe4-4515-a623-3d5064448bfa",
       "rows": [
        [
         "Name",
         "0",
         "0.0"
        ],
        [
         "Sex",
         "0",
         "0.0"
        ],
        [
         "Marital Status",
         "0",
         "0.0"
        ],
        [
         "Career",
         "0",
         "0.0"
        ]
       ],
       "shape": {
        "columns": 2,
        "rows": 4
       }
      },
      "text/html": [
       "<div>\n",
       "<style scoped>\n",
       "    .dataframe tbody tr th:only-of-type {\n",
       "        vertical-align: middle;\n",
       "    }\n",
       "\n",
       "    .dataframe tbody tr th {\n",
       "        vertical-align: top;\n",
       "    }\n",
       "\n",
       "    .dataframe thead th {\n",
       "        text-align: right;\n",
       "    }\n",
       "</style>\n",
       "<table border=\"1\" class=\"dataframe\">\n",
       "  <thead>\n",
       "    <tr style=\"text-align: right;\">\n",
       "      <th></th>\n",
       "      <th>Conteo</th>\n",
       "      <th>Porcentaje</th>\n",
       "    </tr>\n",
       "  </thead>\n",
       "  <tbody>\n",
       "    <tr>\n",
       "      <th>Name</th>\n",
       "      <td>0</td>\n",
       "      <td>0.0</td>\n",
       "    </tr>\n",
       "    <tr>\n",
       "      <th>Sex</th>\n",
       "      <td>0</td>\n",
       "      <td>0.0</td>\n",
       "    </tr>\n",
       "    <tr>\n",
       "      <th>Marital Status</th>\n",
       "      <td>0</td>\n",
       "      <td>0.0</td>\n",
       "    </tr>\n",
       "    <tr>\n",
       "      <th>Career</th>\n",
       "      <td>0</td>\n",
       "      <td>0.0</td>\n",
       "    </tr>\n",
       "  </tbody>\n",
       "</table>\n",
       "</div>"
      ],
      "text/plain": [
       "                Conteo  Porcentaje\n",
       "Name                 0         0.0\n",
       "Sex                  0         0.0\n",
       "Marital Status       0         0.0\n",
       "Career               0         0.0"
      ]
     },
     "execution_count": 206,
     "metadata": {},
     "output_type": "execute_result"
    }
   ],
   "source": [
    "resumen_nulos(df3)"
   ]
  },
  {
   "cell_type": "markdown",
   "metadata": {
    "id": "i6fPWMvdf9gI"
   },
   "source": [
    "#### Convertir a minusculas las variables tipo object"
   ]
  },
  {
   "cell_type": "code",
   "execution_count": 207,
   "metadata": {
    "executionInfo": {
     "elapsed": 1,
     "status": "ok",
     "timestamp": 1758851353852,
     "user": {
      "displayName": "Marcela Fajardo",
      "userId": "14841747285208122853"
     },
     "user_tz": 300
    },
    "id": "NZPnSu8_gBbg"
   },
   "outputs": [],
   "source": [
    "for col in df3.select_dtypes(include='object').columns:\n",
    "  df3[col] = df3[col].str.lower()"
   ]
  },
  {
   "cell_type": "markdown",
   "metadata": {
    "id": "51t4XbLWh89Q"
   },
   "source": [
    "#### Verificación de datos de las columnas tipo object para normalización"
   ]
  },
  {
   "cell_type": "code",
   "execution_count": 208,
   "metadata": {
    "colab": {
     "base_uri": "https://localhost:8080/"
    },
    "executionInfo": {
     "elapsed": 19,
     "status": "ok",
     "timestamp": 1758851353874,
     "user": {
      "displayName": "Marcela Fajardo",
      "userId": "14841747285208122853"
     },
     "user_tz": 300
    },
    "id": "fbepYOoVgSjx",
    "outputId": "95c1968f-9204-46c8-ea51-9329e0a3d005"
   },
   "outputs": [
    {
     "name": "stdout",
     "output_type": "stream",
     "text": [
      "Conteos para Sex:\n",
      "Sex\n",
      "male          15\n",
      "female        13\n",
      "non-binary     1\n",
      "Name: count, dtype: int64\n",
      "========================================\n",
      "Conteos para Marital Status:\n",
      "Marital Status\n",
      "single      16\n",
      "married     11\n",
      "divorced     2\n",
      "Name: count, dtype: int64\n",
      "========================================\n",
      "Conteos para Career:\n",
      "Career\n",
      "nurse                3\n",
      "artist               2\n",
      "lawyer               2\n",
      "engineer             2\n",
      "doctor               2\n",
      "accountant           2\n",
      "it specialist        2\n",
      "software engineer    1\n",
      "data scientist       1\n",
      "teacher              1\n",
      "marketing            1\n",
      "researcher           1\n",
      "data analyst         1\n",
      "architect            1\n",
      "graphic designer     1\n",
      "writer               1\n",
      "financial analyst    1\n",
      "psychologist         1\n",
      "sales manager        1\n",
      "marketing manager    1\n",
      "professor            1\n",
      "Name: count, dtype: int64\n",
      "========================================\n"
     ]
    }
   ],
   "source": [
    "variables = ['Sex', 'Marital Status', 'Career']\n",
    "for variable in variables:\n",
    "    print(f\"Conteos para {variable}:\")\n",
    "    print(df3[variable].value_counts())\n",
    "    print(\"=\"*40)"
   ]
  },
  {
   "cell_type": "code",
   "execution_count": 209,
   "metadata": {
    "colab": {
     "base_uri": "https://localhost:8080/",
     "height": 959
    },
    "executionInfo": {
     "elapsed": 51,
     "status": "ok",
     "timestamp": 1758851353926,
     "user": {
      "displayName": "Marcela Fajardo",
      "userId": "14841747285208122853"
     },
     "user_tz": 300
    },
    "id": "3wxaCu_OgMa3",
    "outputId": "3507bce5-a0e9-40c8-b72e-e6d473c5af46"
   },
   "outputs": [
    {
     "data": {
      "application/vnd.microsoft.datawrangler.viewer.v0+json": {
       "columns": [
        {
         "name": "index",
         "rawType": "int64",
         "type": "integer"
        },
        {
         "name": "Name",
         "rawType": "object",
         "type": "string"
        },
        {
         "name": "Sex",
         "rawType": "object",
         "type": "string"
        },
        {
         "name": "Marital Status",
         "rawType": "object",
         "type": "string"
        },
        {
         "name": "Career",
         "rawType": "object",
         "type": "string"
        }
       ],
       "ref": "8e62eba2-ea67-4fd7-8a4b-f81d2a19b235",
       "rows": [
        [
         "0",
         "alice",
         "female",
         "single",
         "data scientist"
        ],
        [
         "1",
         "bob",
         "male",
         "single",
         "software engineer"
        ],
        [
         "2",
         "charlie",
         "male",
         "married",
         "doctor"
        ],
        [
         "3",
         "david",
         "male",
         "single",
         "lawyer"
        ],
        [
         "4",
         "eve",
         "female",
         "divorced",
         "artist"
        ],
        [
         "5",
         "frank",
         "male",
         "married",
         "engineer"
        ],
        [
         "6",
         "grace",
         "female",
         "single",
         "nurse"
        ],
        [
         "7",
         "heidi",
         "female",
         "married",
         "teacher"
        ],
        [
         "8",
         "ivan",
         "male",
         "married",
         "accountant"
        ],
        [
         "9",
         "jack",
         "male",
         "single",
         "it specialist"
        ],
        [
         "10",
         "katie",
         "female",
         "single",
         "marketing"
        ],
        [
         "11",
         "liam",
         "male",
         "single",
         "researcher"
        ],
        [
         "12",
         "mia",
         "female",
         "married",
         "nurse"
        ],
        [
         "13",
         "nora",
         "female",
         "single",
         "data analyst"
        ],
        [
         "14",
         "oliver",
         "male",
         "married",
         "architect"
        ],
        [
         "15",
         "penny",
         "female",
         "single",
         "graphic designer"
        ],
        [
         "16",
         "quinn",
         "non-binary",
         "single",
         "writer"
        ],
        [
         "17",
         "ryan",
         "male",
         "single",
         "financial analyst"
        ],
        [
         "18",
         "sophia",
         "female",
         "married",
         "psychologist"
        ],
        [
         "19",
         "amy",
         "female",
         "married",
         "sales manager"
        ],
        [
         "20",
         "ben",
         "male",
         "single",
         "marketing manager"
        ],
        [
         "21",
         "charlie",
         "male",
         "married",
         "doctor"
        ],
        [
         "22",
         "david",
         "male",
         "single",
         "lawyer"
        ],
        [
         "23",
         "ella",
         "female",
         "divorced",
         "artist"
        ],
        [
         "24",
         "frank",
         "male",
         "married",
         "engineer"
        ],
        [
         "25",
         "grace",
         "female",
         "single",
         "nurse"
        ],
        [
         "26",
         "henry",
         "male",
         "single",
         "accountant"
        ],
        [
         "27",
         "ivy",
         "female",
         "married",
         "professor"
        ],
        [
         "28",
         "jack",
         "male",
         "single",
         "it specialist"
        ]
       ],
       "shape": {
        "columns": 4,
        "rows": 29
       }
      },
      "text/html": [
       "<div>\n",
       "<style scoped>\n",
       "    .dataframe tbody tr th:only-of-type {\n",
       "        vertical-align: middle;\n",
       "    }\n",
       "\n",
       "    .dataframe tbody tr th {\n",
       "        vertical-align: top;\n",
       "    }\n",
       "\n",
       "    .dataframe thead th {\n",
       "        text-align: right;\n",
       "    }\n",
       "</style>\n",
       "<table border=\"1\" class=\"dataframe\">\n",
       "  <thead>\n",
       "    <tr style=\"text-align: right;\">\n",
       "      <th></th>\n",
       "      <th>Name</th>\n",
       "      <th>Sex</th>\n",
       "      <th>Marital Status</th>\n",
       "      <th>Career</th>\n",
       "    </tr>\n",
       "  </thead>\n",
       "  <tbody>\n",
       "    <tr>\n",
       "      <th>0</th>\n",
       "      <td>alice</td>\n",
       "      <td>female</td>\n",
       "      <td>single</td>\n",
       "      <td>data scientist</td>\n",
       "    </tr>\n",
       "    <tr>\n",
       "      <th>1</th>\n",
       "      <td>bob</td>\n",
       "      <td>male</td>\n",
       "      <td>single</td>\n",
       "      <td>software engineer</td>\n",
       "    </tr>\n",
       "    <tr>\n",
       "      <th>2</th>\n",
       "      <td>charlie</td>\n",
       "      <td>male</td>\n",
       "      <td>married</td>\n",
       "      <td>doctor</td>\n",
       "    </tr>\n",
       "    <tr>\n",
       "      <th>3</th>\n",
       "      <td>david</td>\n",
       "      <td>male</td>\n",
       "      <td>single</td>\n",
       "      <td>lawyer</td>\n",
       "    </tr>\n",
       "    <tr>\n",
       "      <th>4</th>\n",
       "      <td>eve</td>\n",
       "      <td>female</td>\n",
       "      <td>divorced</td>\n",
       "      <td>artist</td>\n",
       "    </tr>\n",
       "    <tr>\n",
       "      <th>5</th>\n",
       "      <td>frank</td>\n",
       "      <td>male</td>\n",
       "      <td>married</td>\n",
       "      <td>engineer</td>\n",
       "    </tr>\n",
       "    <tr>\n",
       "      <th>6</th>\n",
       "      <td>grace</td>\n",
       "      <td>female</td>\n",
       "      <td>single</td>\n",
       "      <td>nurse</td>\n",
       "    </tr>\n",
       "    <tr>\n",
       "      <th>7</th>\n",
       "      <td>heidi</td>\n",
       "      <td>female</td>\n",
       "      <td>married</td>\n",
       "      <td>teacher</td>\n",
       "    </tr>\n",
       "    <tr>\n",
       "      <th>8</th>\n",
       "      <td>ivan</td>\n",
       "      <td>male</td>\n",
       "      <td>married</td>\n",
       "      <td>accountant</td>\n",
       "    </tr>\n",
       "    <tr>\n",
       "      <th>9</th>\n",
       "      <td>jack</td>\n",
       "      <td>male</td>\n",
       "      <td>single</td>\n",
       "      <td>it specialist</td>\n",
       "    </tr>\n",
       "    <tr>\n",
       "      <th>10</th>\n",
       "      <td>katie</td>\n",
       "      <td>female</td>\n",
       "      <td>single</td>\n",
       "      <td>marketing</td>\n",
       "    </tr>\n",
       "    <tr>\n",
       "      <th>11</th>\n",
       "      <td>liam</td>\n",
       "      <td>male</td>\n",
       "      <td>single</td>\n",
       "      <td>researcher</td>\n",
       "    </tr>\n",
       "    <tr>\n",
       "      <th>12</th>\n",
       "      <td>mia</td>\n",
       "      <td>female</td>\n",
       "      <td>married</td>\n",
       "      <td>nurse</td>\n",
       "    </tr>\n",
       "    <tr>\n",
       "      <th>13</th>\n",
       "      <td>nora</td>\n",
       "      <td>female</td>\n",
       "      <td>single</td>\n",
       "      <td>data analyst</td>\n",
       "    </tr>\n",
       "    <tr>\n",
       "      <th>14</th>\n",
       "      <td>oliver</td>\n",
       "      <td>male</td>\n",
       "      <td>married</td>\n",
       "      <td>architect</td>\n",
       "    </tr>\n",
       "    <tr>\n",
       "      <th>15</th>\n",
       "      <td>penny</td>\n",
       "      <td>female</td>\n",
       "      <td>single</td>\n",
       "      <td>graphic designer</td>\n",
       "    </tr>\n",
       "    <tr>\n",
       "      <th>16</th>\n",
       "      <td>quinn</td>\n",
       "      <td>non-binary</td>\n",
       "      <td>single</td>\n",
       "      <td>writer</td>\n",
       "    </tr>\n",
       "    <tr>\n",
       "      <th>17</th>\n",
       "      <td>ryan</td>\n",
       "      <td>male</td>\n",
       "      <td>single</td>\n",
       "      <td>financial analyst</td>\n",
       "    </tr>\n",
       "    <tr>\n",
       "      <th>18</th>\n",
       "      <td>sophia</td>\n",
       "      <td>female</td>\n",
       "      <td>married</td>\n",
       "      <td>psychologist</td>\n",
       "    </tr>\n",
       "    <tr>\n",
       "      <th>19</th>\n",
       "      <td>amy</td>\n",
       "      <td>female</td>\n",
       "      <td>married</td>\n",
       "      <td>sales manager</td>\n",
       "    </tr>\n",
       "    <tr>\n",
       "      <th>20</th>\n",
       "      <td>ben</td>\n",
       "      <td>male</td>\n",
       "      <td>single</td>\n",
       "      <td>marketing manager</td>\n",
       "    </tr>\n",
       "    <tr>\n",
       "      <th>21</th>\n",
       "      <td>charlie</td>\n",
       "      <td>male</td>\n",
       "      <td>married</td>\n",
       "      <td>doctor</td>\n",
       "    </tr>\n",
       "    <tr>\n",
       "      <th>22</th>\n",
       "      <td>david</td>\n",
       "      <td>male</td>\n",
       "      <td>single</td>\n",
       "      <td>lawyer</td>\n",
       "    </tr>\n",
       "    <tr>\n",
       "      <th>23</th>\n",
       "      <td>ella</td>\n",
       "      <td>female</td>\n",
       "      <td>divorced</td>\n",
       "      <td>artist</td>\n",
       "    </tr>\n",
       "    <tr>\n",
       "      <th>24</th>\n",
       "      <td>frank</td>\n",
       "      <td>male</td>\n",
       "      <td>married</td>\n",
       "      <td>engineer</td>\n",
       "    </tr>\n",
       "    <tr>\n",
       "      <th>25</th>\n",
       "      <td>grace</td>\n",
       "      <td>female</td>\n",
       "      <td>single</td>\n",
       "      <td>nurse</td>\n",
       "    </tr>\n",
       "    <tr>\n",
       "      <th>26</th>\n",
       "      <td>henry</td>\n",
       "      <td>male</td>\n",
       "      <td>single</td>\n",
       "      <td>accountant</td>\n",
       "    </tr>\n",
       "    <tr>\n",
       "      <th>27</th>\n",
       "      <td>ivy</td>\n",
       "      <td>female</td>\n",
       "      <td>married</td>\n",
       "      <td>professor</td>\n",
       "    </tr>\n",
       "    <tr>\n",
       "      <th>28</th>\n",
       "      <td>jack</td>\n",
       "      <td>male</td>\n",
       "      <td>single</td>\n",
       "      <td>it specialist</td>\n",
       "    </tr>\n",
       "  </tbody>\n",
       "</table>\n",
       "</div>"
      ],
      "text/plain": [
       "       Name         Sex Marital Status             Career\n",
       "0     alice      female         single     data scientist\n",
       "1       bob        male         single  software engineer\n",
       "2   charlie        male        married             doctor\n",
       "3     david        male         single             lawyer\n",
       "4       eve      female       divorced             artist\n",
       "5     frank        male        married           engineer\n",
       "6     grace      female         single              nurse\n",
       "7     heidi      female        married            teacher\n",
       "8      ivan        male        married         accountant\n",
       "9      jack        male         single      it specialist\n",
       "10    katie      female         single          marketing\n",
       "11     liam        male         single         researcher\n",
       "12      mia      female        married              nurse\n",
       "13     nora      female         single       data analyst\n",
       "14   oliver        male        married          architect\n",
       "15    penny      female         single   graphic designer\n",
       "16    quinn  non-binary         single             writer\n",
       "17     ryan        male         single  financial analyst\n",
       "18   sophia      female        married       psychologist\n",
       "19      amy      female        married      sales manager\n",
       "20      ben        male         single  marketing manager\n",
       "21  charlie        male        married             doctor\n",
       "22    david        male         single             lawyer\n",
       "23     ella      female       divorced             artist\n",
       "24    frank        male        married           engineer\n",
       "25    grace      female         single              nurse\n",
       "26    henry        male         single         accountant\n",
       "27      ivy      female        married          professor\n",
       "28     jack        male         single      it specialist"
      ]
     },
     "metadata": {},
     "output_type": "display_data"
    }
   ],
   "source": [
    "display(df3)"
   ]
  },
  {
   "cell_type": "markdown",
   "metadata": {
    "id": "LoEYYK_kiU1e"
   },
   "source": [
    "## **Unificación de dataset**"
   ]
  },
  {
   "cell_type": "markdown",
   "metadata": {
    "id": "0zbgm-v0jJEM"
   },
   "source": [
    "#### **Nota**: Primero se unifica el df con el df1, ya que tienen la misma estructura"
   ]
  },
  {
   "cell_type": "code",
   "execution_count": 210,
   "metadata": {
    "colab": {
     "base_uri": "https://localhost:8080/",
     "height": 645
    },
    "executionInfo": {
     "elapsed": 7,
     "status": "ok",
     "timestamp": 1758851353930,
     "user": {
      "displayName": "Marcela Fajardo",
      "userId": "14841747285208122853"
     },
     "user_tz": 300
    },
    "id": "7S0ovndnix_c",
    "outputId": "8dc830e3-7d2d-4c0a-d280-eadcb1bfb416"
   },
   "outputs": [
    {
     "data": {
      "application/vnd.microsoft.datawrangler.viewer.v0+json": {
       "columns": [
        {
         "name": "index",
         "rawType": "int64",
         "type": "integer"
        },
        {
         "name": "Name",
         "rawType": "object",
         "type": "string"
        },
        {
         "name": "Age",
         "rawType": "int64",
         "type": "integer"
        },
        {
         "name": "Height (cm)",
         "rawType": "float64",
         "type": "float"
        },
        {
         "name": "Weight (kg)",
         "rawType": "float64",
         "type": "float"
        },
        {
         "name": "Salary ($)",
         "rawType": "int64",
         "type": "integer"
        },
        {
         "name": "City",
         "rawType": "object",
         "type": "string"
        }
       ],
       "ref": "ef40203c-fde0-4658-844d-06aa76c138d9",
       "rows": [
        [
         "0",
         "alice",
         "30",
         "165.5",
         "60.2",
         "50000",
         "new york"
        ],
        [
         "1",
         "bob",
         "25",
         "175.0",
         "75.0",
         "60000",
         "los angeles"
        ],
        [
         "2",
         "charlie",
         "32",
         "170.5",
         "67.5",
         "55000",
         "chicago"
        ],
        [
         "3",
         "david",
         "26",
         "180.0",
         "85.5",
         "59000",
         "san francisco"
        ],
        [
         "4",
         "eve",
         "25",
         "160.0",
         "58.0",
         "52000",
         "bristol"
        ],
        [
         "5",
         "frank",
         "35",
         "175.5",
         "70.0",
         "56000",
         "washington"
        ],
        [
         "6",
         "grace",
         "29",
         "171.25",
         "65.0",
         "51000",
         "houston"
        ],
        [
         "7",
         "heidi",
         "28",
         "168.0",
         "0.0",
         "55000",
         "houston"
        ],
        [
         "8",
         "ivan",
         "34",
         "185.0",
         "95.0",
         "68000",
         "miami"
        ],
        [
         "9",
         "jack",
         "27",
         "172.5",
         "70.5",
         "54000",
         "boston"
        ],
        [
         "10",
         "katie",
         "31",
         "160.0",
         "55.5",
         "52000",
         "seattle"
        ],
        [
         "11",
         "liam",
         "24",
         "178.5",
         "73.5",
         "61000",
         "chicago"
        ],
        [
         "12",
         "mia",
         "33",
         "66.0",
         "61.8",
         "59000",
         "san diego"
        ],
        [
         "13",
         "nora",
         "25",
         "163.0",
         "59.0",
         "52000",
         "san francisco"
        ],
        [
         "14",
         "oliver",
         "30",
         "173.0",
         "74.0",
         "58000",
         "new york"
        ],
        [
         "15",
         "penny",
         "28",
         "169.5",
         "63.5",
         "56000",
         "los angeles"
        ],
        [
         "16",
         "quinn",
         "29",
         "172.0",
         "77.5",
         "57000",
         "chicago"
        ],
        [
         "17",
         "ryan",
         "150",
         "181.0",
         "92.0",
         "56000",
         "chicago"
        ],
        [
         "18",
         "sophia",
         "33",
         "167.5",
         "62.0",
         "62000",
         "miami"
        ]
       ],
       "shape": {
        "columns": 6,
        "rows": 19
       }
      },
      "text/html": [
       "<div>\n",
       "<style scoped>\n",
       "    .dataframe tbody tr th:only-of-type {\n",
       "        vertical-align: middle;\n",
       "    }\n",
       "\n",
       "    .dataframe tbody tr th {\n",
       "        vertical-align: top;\n",
       "    }\n",
       "\n",
       "    .dataframe thead th {\n",
       "        text-align: right;\n",
       "    }\n",
       "</style>\n",
       "<table border=\"1\" class=\"dataframe\">\n",
       "  <thead>\n",
       "    <tr style=\"text-align: right;\">\n",
       "      <th></th>\n",
       "      <th>Name</th>\n",
       "      <th>Age</th>\n",
       "      <th>Height (cm)</th>\n",
       "      <th>Weight (kg)</th>\n",
       "      <th>Salary ($)</th>\n",
       "      <th>City</th>\n",
       "    </tr>\n",
       "  </thead>\n",
       "  <tbody>\n",
       "    <tr>\n",
       "      <th>0</th>\n",
       "      <td>alice</td>\n",
       "      <td>30</td>\n",
       "      <td>165.50</td>\n",
       "      <td>60.2</td>\n",
       "      <td>50000</td>\n",
       "      <td>new york</td>\n",
       "    </tr>\n",
       "    <tr>\n",
       "      <th>1</th>\n",
       "      <td>bob</td>\n",
       "      <td>25</td>\n",
       "      <td>175.00</td>\n",
       "      <td>75.0</td>\n",
       "      <td>60000</td>\n",
       "      <td>los angeles</td>\n",
       "    </tr>\n",
       "    <tr>\n",
       "      <th>2</th>\n",
       "      <td>charlie</td>\n",
       "      <td>32</td>\n",
       "      <td>170.50</td>\n",
       "      <td>67.5</td>\n",
       "      <td>55000</td>\n",
       "      <td>chicago</td>\n",
       "    </tr>\n",
       "    <tr>\n",
       "      <th>3</th>\n",
       "      <td>david</td>\n",
       "      <td>26</td>\n",
       "      <td>180.00</td>\n",
       "      <td>85.5</td>\n",
       "      <td>59000</td>\n",
       "      <td>san francisco</td>\n",
       "    </tr>\n",
       "    <tr>\n",
       "      <th>4</th>\n",
       "      <td>eve</td>\n",
       "      <td>25</td>\n",
       "      <td>160.00</td>\n",
       "      <td>58.0</td>\n",
       "      <td>52000</td>\n",
       "      <td>bristol</td>\n",
       "    </tr>\n",
       "    <tr>\n",
       "      <th>5</th>\n",
       "      <td>frank</td>\n",
       "      <td>35</td>\n",
       "      <td>175.50</td>\n",
       "      <td>70.0</td>\n",
       "      <td>56000</td>\n",
       "      <td>washington</td>\n",
       "    </tr>\n",
       "    <tr>\n",
       "      <th>6</th>\n",
       "      <td>grace</td>\n",
       "      <td>29</td>\n",
       "      <td>171.25</td>\n",
       "      <td>65.0</td>\n",
       "      <td>51000</td>\n",
       "      <td>houston</td>\n",
       "    </tr>\n",
       "    <tr>\n",
       "      <th>7</th>\n",
       "      <td>heidi</td>\n",
       "      <td>28</td>\n",
       "      <td>168.00</td>\n",
       "      <td>0.0</td>\n",
       "      <td>55000</td>\n",
       "      <td>houston</td>\n",
       "    </tr>\n",
       "    <tr>\n",
       "      <th>8</th>\n",
       "      <td>ivan</td>\n",
       "      <td>34</td>\n",
       "      <td>185.00</td>\n",
       "      <td>95.0</td>\n",
       "      <td>68000</td>\n",
       "      <td>miami</td>\n",
       "    </tr>\n",
       "    <tr>\n",
       "      <th>9</th>\n",
       "      <td>jack</td>\n",
       "      <td>27</td>\n",
       "      <td>172.50</td>\n",
       "      <td>70.5</td>\n",
       "      <td>54000</td>\n",
       "      <td>boston</td>\n",
       "    </tr>\n",
       "    <tr>\n",
       "      <th>10</th>\n",
       "      <td>katie</td>\n",
       "      <td>31</td>\n",
       "      <td>160.00</td>\n",
       "      <td>55.5</td>\n",
       "      <td>52000</td>\n",
       "      <td>seattle</td>\n",
       "    </tr>\n",
       "    <tr>\n",
       "      <th>11</th>\n",
       "      <td>liam</td>\n",
       "      <td>24</td>\n",
       "      <td>178.50</td>\n",
       "      <td>73.5</td>\n",
       "      <td>61000</td>\n",
       "      <td>chicago</td>\n",
       "    </tr>\n",
       "    <tr>\n",
       "      <th>12</th>\n",
       "      <td>mia</td>\n",
       "      <td>33</td>\n",
       "      <td>66.00</td>\n",
       "      <td>61.8</td>\n",
       "      <td>59000</td>\n",
       "      <td>san diego</td>\n",
       "    </tr>\n",
       "    <tr>\n",
       "      <th>13</th>\n",
       "      <td>nora</td>\n",
       "      <td>25</td>\n",
       "      <td>163.00</td>\n",
       "      <td>59.0</td>\n",
       "      <td>52000</td>\n",
       "      <td>san francisco</td>\n",
       "    </tr>\n",
       "    <tr>\n",
       "      <th>14</th>\n",
       "      <td>oliver</td>\n",
       "      <td>30</td>\n",
       "      <td>173.00</td>\n",
       "      <td>74.0</td>\n",
       "      <td>58000</td>\n",
       "      <td>new york</td>\n",
       "    </tr>\n",
       "    <tr>\n",
       "      <th>15</th>\n",
       "      <td>penny</td>\n",
       "      <td>28</td>\n",
       "      <td>169.50</td>\n",
       "      <td>63.5</td>\n",
       "      <td>56000</td>\n",
       "      <td>los angeles</td>\n",
       "    </tr>\n",
       "    <tr>\n",
       "      <th>16</th>\n",
       "      <td>quinn</td>\n",
       "      <td>29</td>\n",
       "      <td>172.00</td>\n",
       "      <td>77.5</td>\n",
       "      <td>57000</td>\n",
       "      <td>chicago</td>\n",
       "    </tr>\n",
       "    <tr>\n",
       "      <th>17</th>\n",
       "      <td>ryan</td>\n",
       "      <td>150</td>\n",
       "      <td>181.00</td>\n",
       "      <td>92.0</td>\n",
       "      <td>56000</td>\n",
       "      <td>chicago</td>\n",
       "    </tr>\n",
       "    <tr>\n",
       "      <th>18</th>\n",
       "      <td>sophia</td>\n",
       "      <td>33</td>\n",
       "      <td>167.50</td>\n",
       "      <td>62.0</td>\n",
       "      <td>62000</td>\n",
       "      <td>miami</td>\n",
       "    </tr>\n",
       "  </tbody>\n",
       "</table>\n",
       "</div>"
      ],
      "text/plain": [
       "       Name  Age  Height (cm)  Weight (kg)  Salary ($)           City\n",
       "0     alice   30       165.50         60.2       50000       new york\n",
       "1       bob   25       175.00         75.0       60000    los angeles\n",
       "2   charlie   32       170.50         67.5       55000        chicago\n",
       "3     david   26       180.00         85.5       59000  san francisco\n",
       "4       eve   25       160.00         58.0       52000        bristol\n",
       "5     frank   35       175.50         70.0       56000     washington\n",
       "6     grace   29       171.25         65.0       51000        houston\n",
       "7     heidi   28       168.00          0.0       55000        houston\n",
       "8      ivan   34       185.00         95.0       68000          miami\n",
       "9      jack   27       172.50         70.5       54000         boston\n",
       "10    katie   31       160.00         55.5       52000        seattle\n",
       "11     liam   24       178.50         73.5       61000        chicago\n",
       "12      mia   33        66.00         61.8       59000      san diego\n",
       "13     nora   25       163.00         59.0       52000  san francisco\n",
       "14   oliver   30       173.00         74.0       58000       new york\n",
       "15    penny   28       169.50         63.5       56000    los angeles\n",
       "16    quinn   29       172.00         77.5       57000        chicago\n",
       "17     ryan  150       181.00         92.0       56000        chicago\n",
       "18   sophia   33       167.50         62.0       62000          miami"
      ]
     },
     "metadata": {},
     "output_type": "display_data"
    }
   ],
   "source": [
    "display(df)"
   ]
  },
  {
   "cell_type": "code",
   "execution_count": 211,
   "metadata": {
    "colab": {
     "base_uri": "https://localhost:8080/",
     "height": 363
    },
    "executionInfo": {
     "elapsed": 10,
     "status": "ok",
     "timestamp": 1758851353941,
     "user": {
      "displayName": "Marcela Fajardo",
      "userId": "14841747285208122853"
     },
     "user_tz": 300
    },
    "id": "_tXYz0tWi01r",
    "outputId": "92a8bc55-098d-447b-f334-e7195f39e0b0"
   },
   "outputs": [
    {
     "data": {
      "application/vnd.microsoft.datawrangler.viewer.v0+json": {
       "columns": [
        {
         "name": "index",
         "rawType": "int64",
         "type": "integer"
        },
        {
         "name": "Name",
         "rawType": "object",
         "type": "string"
        },
        {
         "name": "Age",
         "rawType": "int64",
         "type": "integer"
        },
        {
         "name": "Height (cm)",
         "rawType": "float64",
         "type": "float"
        },
        {
         "name": "Weight (kg)",
         "rawType": "float64",
         "type": "float"
        },
        {
         "name": "Salary ($)",
         "rawType": "int64",
         "type": "integer"
        },
        {
         "name": "City",
         "rawType": "object",
         "type": "string"
        }
       ],
       "ref": "da0cb719-f145-4bcd-8e6e-c8330c17aa47",
       "rows": [
        [
         "0",
         "amy",
         "30",
         "166.37",
         "60.01",
         "50000",
         "new york"
        ],
        [
         "1",
         "ben",
         "25",
         "172.72",
         "74.98",
         "60000",
         "los angeles"
        ],
        [
         "2",
         "charlie",
         "32",
         "170.18",
         "81.87",
         "55000",
         "chicago"
        ],
        [
         "3",
         "david",
         "26",
         "177.8",
         "85.59",
         "59000",
         "san francisco"
        ],
        [
         "4",
         "ella",
         "28",
         "154.94",
         "57.15",
         "52000",
         "bristol"
        ],
        [
         "5",
         "frank",
         "35",
         "175.26",
         "69.99",
         "58000",
         "washington"
        ],
        [
         "6",
         "grace",
         "29",
         "162.56",
         "65.09",
         "51000",
         "houston"
        ],
        [
         "7",
         "henry",
         "28",
         "167.89",
         "49.99",
         "55000",
         "houston"
        ],
        [
         "8",
         "ivy",
         "34",
         "182.88",
         "94.8",
         "68000",
         "miami"
        ],
        [
         "9",
         "jack",
         "27",
         "172.72",
         "70.53",
         "54000",
         "boston"
        ]
       ],
       "shape": {
        "columns": 6,
        "rows": 10
       }
      },
      "text/html": [
       "<div>\n",
       "<style scoped>\n",
       "    .dataframe tbody tr th:only-of-type {\n",
       "        vertical-align: middle;\n",
       "    }\n",
       "\n",
       "    .dataframe tbody tr th {\n",
       "        vertical-align: top;\n",
       "    }\n",
       "\n",
       "    .dataframe thead th {\n",
       "        text-align: right;\n",
       "    }\n",
       "</style>\n",
       "<table border=\"1\" class=\"dataframe\">\n",
       "  <thead>\n",
       "    <tr style=\"text-align: right;\">\n",
       "      <th></th>\n",
       "      <th>Name</th>\n",
       "      <th>Age</th>\n",
       "      <th>Height (cm)</th>\n",
       "      <th>Weight (kg)</th>\n",
       "      <th>Salary ($)</th>\n",
       "      <th>City</th>\n",
       "    </tr>\n",
       "  </thead>\n",
       "  <tbody>\n",
       "    <tr>\n",
       "      <th>0</th>\n",
       "      <td>amy</td>\n",
       "      <td>30</td>\n",
       "      <td>166.37</td>\n",
       "      <td>60.01</td>\n",
       "      <td>50000</td>\n",
       "      <td>new york</td>\n",
       "    </tr>\n",
       "    <tr>\n",
       "      <th>1</th>\n",
       "      <td>ben</td>\n",
       "      <td>25</td>\n",
       "      <td>172.72</td>\n",
       "      <td>74.98</td>\n",
       "      <td>60000</td>\n",
       "      <td>los angeles</td>\n",
       "    </tr>\n",
       "    <tr>\n",
       "      <th>2</th>\n",
       "      <td>charlie</td>\n",
       "      <td>32</td>\n",
       "      <td>170.18</td>\n",
       "      <td>81.87</td>\n",
       "      <td>55000</td>\n",
       "      <td>chicago</td>\n",
       "    </tr>\n",
       "    <tr>\n",
       "      <th>3</th>\n",
       "      <td>david</td>\n",
       "      <td>26</td>\n",
       "      <td>177.80</td>\n",
       "      <td>85.59</td>\n",
       "      <td>59000</td>\n",
       "      <td>san francisco</td>\n",
       "    </tr>\n",
       "    <tr>\n",
       "      <th>4</th>\n",
       "      <td>ella</td>\n",
       "      <td>28</td>\n",
       "      <td>154.94</td>\n",
       "      <td>57.15</td>\n",
       "      <td>52000</td>\n",
       "      <td>bristol</td>\n",
       "    </tr>\n",
       "    <tr>\n",
       "      <th>5</th>\n",
       "      <td>frank</td>\n",
       "      <td>35</td>\n",
       "      <td>175.26</td>\n",
       "      <td>69.99</td>\n",
       "      <td>58000</td>\n",
       "      <td>washington</td>\n",
       "    </tr>\n",
       "    <tr>\n",
       "      <th>6</th>\n",
       "      <td>grace</td>\n",
       "      <td>29</td>\n",
       "      <td>162.56</td>\n",
       "      <td>65.09</td>\n",
       "      <td>51000</td>\n",
       "      <td>houston</td>\n",
       "    </tr>\n",
       "    <tr>\n",
       "      <th>7</th>\n",
       "      <td>henry</td>\n",
       "      <td>28</td>\n",
       "      <td>167.89</td>\n",
       "      <td>49.99</td>\n",
       "      <td>55000</td>\n",
       "      <td>houston</td>\n",
       "    </tr>\n",
       "    <tr>\n",
       "      <th>8</th>\n",
       "      <td>ivy</td>\n",
       "      <td>34</td>\n",
       "      <td>182.88</td>\n",
       "      <td>94.80</td>\n",
       "      <td>68000</td>\n",
       "      <td>miami</td>\n",
       "    </tr>\n",
       "    <tr>\n",
       "      <th>9</th>\n",
       "      <td>jack</td>\n",
       "      <td>27</td>\n",
       "      <td>172.72</td>\n",
       "      <td>70.53</td>\n",
       "      <td>54000</td>\n",
       "      <td>boston</td>\n",
       "    </tr>\n",
       "  </tbody>\n",
       "</table>\n",
       "</div>"
      ],
      "text/plain": [
       "      Name  Age  Height (cm)  Weight (kg)  Salary ($)           City\n",
       "0      amy   30       166.37        60.01       50000       new york\n",
       "1      ben   25       172.72        74.98       60000    los angeles\n",
       "2  charlie   32       170.18        81.87       55000        chicago\n",
       "3    david   26       177.80        85.59       59000  san francisco\n",
       "4     ella   28       154.94        57.15       52000        bristol\n",
       "5    frank   35       175.26        69.99       58000     washington\n",
       "6    grace   29       162.56        65.09       51000        houston\n",
       "7    henry   28       167.89        49.99       55000        houston\n",
       "8      ivy   34       182.88        94.80       68000          miami\n",
       "9     jack   27       172.72        70.53       54000         boston"
      ]
     },
     "metadata": {},
     "output_type": "display_data"
    }
   ],
   "source": [
    "display(df1)"
   ]
  },
  {
   "cell_type": "code",
   "execution_count": 212,
   "metadata": {
    "colab": {
     "base_uri": "https://localhost:8080/",
     "height": 994
    },
    "executionInfo": {
     "elapsed": 64,
     "status": "ok",
     "timestamp": 1758851354030,
     "user": {
      "displayName": "Marcela Fajardo",
      "userId": "14841747285208122853"
     },
     "user_tz": 300
    },
    "id": "OD9z6Yjajjrq",
    "outputId": "35ef6e6a-47a9-4bad-f64b-8f30ea06a088"
   },
   "outputs": [
    {
     "name": "stdout",
     "output_type": "stream",
     "text": [
      "(29, 6)\n",
      "========================================\n"
     ]
    },
    {
     "data": {
      "application/vnd.microsoft.datawrangler.viewer.v0+json": {
       "columns": [
        {
         "name": "index",
         "rawType": "int64",
         "type": "integer"
        },
        {
         "name": "Name",
         "rawType": "object",
         "type": "string"
        },
        {
         "name": "Age",
         "rawType": "int64",
         "type": "integer"
        },
        {
         "name": "Height (cm)",
         "rawType": "float64",
         "type": "float"
        },
        {
         "name": "Weight (kg)",
         "rawType": "float64",
         "type": "float"
        },
        {
         "name": "Salary ($)",
         "rawType": "int64",
         "type": "integer"
        },
        {
         "name": "City",
         "rawType": "object",
         "type": "string"
        }
       ],
       "ref": "fbc82d4a-3cc7-4cd7-b412-e59fcf05518e",
       "rows": [
        [
         "0",
         "alice",
         "30",
         "165.5",
         "60.2",
         "50000",
         "new york"
        ],
        [
         "1",
         "bob",
         "25",
         "175.0",
         "75.0",
         "60000",
         "los angeles"
        ],
        [
         "2",
         "charlie",
         "32",
         "170.5",
         "67.5",
         "55000",
         "chicago"
        ],
        [
         "3",
         "david",
         "26",
         "180.0",
         "85.5",
         "59000",
         "san francisco"
        ],
        [
         "4",
         "eve",
         "25",
         "160.0",
         "58.0",
         "52000",
         "bristol"
        ],
        [
         "5",
         "frank",
         "35",
         "175.5",
         "70.0",
         "56000",
         "washington"
        ],
        [
         "6",
         "grace",
         "29",
         "171.25",
         "65.0",
         "51000",
         "houston"
        ],
        [
         "7",
         "heidi",
         "28",
         "168.0",
         "0.0",
         "55000",
         "houston"
        ],
        [
         "8",
         "ivan",
         "34",
         "185.0",
         "95.0",
         "68000",
         "miami"
        ],
        [
         "9",
         "jack",
         "27",
         "172.5",
         "70.5",
         "54000",
         "boston"
        ],
        [
         "10",
         "katie",
         "31",
         "160.0",
         "55.5",
         "52000",
         "seattle"
        ],
        [
         "11",
         "liam",
         "24",
         "178.5",
         "73.5",
         "61000",
         "chicago"
        ],
        [
         "12",
         "mia",
         "33",
         "66.0",
         "61.8",
         "59000",
         "san diego"
        ],
        [
         "13",
         "nora",
         "25",
         "163.0",
         "59.0",
         "52000",
         "san francisco"
        ],
        [
         "14",
         "oliver",
         "30",
         "173.0",
         "74.0",
         "58000",
         "new york"
        ],
        [
         "15",
         "penny",
         "28",
         "169.5",
         "63.5",
         "56000",
         "los angeles"
        ],
        [
         "16",
         "quinn",
         "29",
         "172.0",
         "77.5",
         "57000",
         "chicago"
        ],
        [
         "17",
         "ryan",
         "150",
         "181.0",
         "92.0",
         "56000",
         "chicago"
        ],
        [
         "18",
         "sophia",
         "33",
         "167.5",
         "62.0",
         "62000",
         "miami"
        ],
        [
         "19",
         "amy",
         "30",
         "166.37",
         "60.01",
         "50000",
         "new york"
        ],
        [
         "20",
         "ben",
         "25",
         "172.72",
         "74.98",
         "60000",
         "los angeles"
        ],
        [
         "21",
         "charlie",
         "32",
         "170.18",
         "81.87",
         "55000",
         "chicago"
        ],
        [
         "22",
         "david",
         "26",
         "177.8",
         "85.59",
         "59000",
         "san francisco"
        ],
        [
         "23",
         "ella",
         "28",
         "154.94",
         "57.15",
         "52000",
         "bristol"
        ],
        [
         "24",
         "frank",
         "35",
         "175.26",
         "69.99",
         "58000",
         "washington"
        ],
        [
         "25",
         "grace",
         "29",
         "162.56",
         "65.09",
         "51000",
         "houston"
        ],
        [
         "26",
         "henry",
         "28",
         "167.89",
         "49.99",
         "55000",
         "houston"
        ],
        [
         "27",
         "ivy",
         "34",
         "182.88",
         "94.8",
         "68000",
         "miami"
        ],
        [
         "28",
         "jack",
         "27",
         "172.72",
         "70.53",
         "54000",
         "boston"
        ]
       ],
       "shape": {
        "columns": 6,
        "rows": 29
       }
      },
      "text/html": [
       "<div>\n",
       "<style scoped>\n",
       "    .dataframe tbody tr th:only-of-type {\n",
       "        vertical-align: middle;\n",
       "    }\n",
       "\n",
       "    .dataframe tbody tr th {\n",
       "        vertical-align: top;\n",
       "    }\n",
       "\n",
       "    .dataframe thead th {\n",
       "        text-align: right;\n",
       "    }\n",
       "</style>\n",
       "<table border=\"1\" class=\"dataframe\">\n",
       "  <thead>\n",
       "    <tr style=\"text-align: right;\">\n",
       "      <th></th>\n",
       "      <th>Name</th>\n",
       "      <th>Age</th>\n",
       "      <th>Height (cm)</th>\n",
       "      <th>Weight (kg)</th>\n",
       "      <th>Salary ($)</th>\n",
       "      <th>City</th>\n",
       "    </tr>\n",
       "  </thead>\n",
       "  <tbody>\n",
       "    <tr>\n",
       "      <th>0</th>\n",
       "      <td>alice</td>\n",
       "      <td>30</td>\n",
       "      <td>165.50</td>\n",
       "      <td>60.20</td>\n",
       "      <td>50000</td>\n",
       "      <td>new york</td>\n",
       "    </tr>\n",
       "    <tr>\n",
       "      <th>1</th>\n",
       "      <td>bob</td>\n",
       "      <td>25</td>\n",
       "      <td>175.00</td>\n",
       "      <td>75.00</td>\n",
       "      <td>60000</td>\n",
       "      <td>los angeles</td>\n",
       "    </tr>\n",
       "    <tr>\n",
       "      <th>2</th>\n",
       "      <td>charlie</td>\n",
       "      <td>32</td>\n",
       "      <td>170.50</td>\n",
       "      <td>67.50</td>\n",
       "      <td>55000</td>\n",
       "      <td>chicago</td>\n",
       "    </tr>\n",
       "    <tr>\n",
       "      <th>3</th>\n",
       "      <td>david</td>\n",
       "      <td>26</td>\n",
       "      <td>180.00</td>\n",
       "      <td>85.50</td>\n",
       "      <td>59000</td>\n",
       "      <td>san francisco</td>\n",
       "    </tr>\n",
       "    <tr>\n",
       "      <th>4</th>\n",
       "      <td>eve</td>\n",
       "      <td>25</td>\n",
       "      <td>160.00</td>\n",
       "      <td>58.00</td>\n",
       "      <td>52000</td>\n",
       "      <td>bristol</td>\n",
       "    </tr>\n",
       "    <tr>\n",
       "      <th>5</th>\n",
       "      <td>frank</td>\n",
       "      <td>35</td>\n",
       "      <td>175.50</td>\n",
       "      <td>70.00</td>\n",
       "      <td>56000</td>\n",
       "      <td>washington</td>\n",
       "    </tr>\n",
       "    <tr>\n",
       "      <th>6</th>\n",
       "      <td>grace</td>\n",
       "      <td>29</td>\n",
       "      <td>171.25</td>\n",
       "      <td>65.00</td>\n",
       "      <td>51000</td>\n",
       "      <td>houston</td>\n",
       "    </tr>\n",
       "    <tr>\n",
       "      <th>7</th>\n",
       "      <td>heidi</td>\n",
       "      <td>28</td>\n",
       "      <td>168.00</td>\n",
       "      <td>0.00</td>\n",
       "      <td>55000</td>\n",
       "      <td>houston</td>\n",
       "    </tr>\n",
       "    <tr>\n",
       "      <th>8</th>\n",
       "      <td>ivan</td>\n",
       "      <td>34</td>\n",
       "      <td>185.00</td>\n",
       "      <td>95.00</td>\n",
       "      <td>68000</td>\n",
       "      <td>miami</td>\n",
       "    </tr>\n",
       "    <tr>\n",
       "      <th>9</th>\n",
       "      <td>jack</td>\n",
       "      <td>27</td>\n",
       "      <td>172.50</td>\n",
       "      <td>70.50</td>\n",
       "      <td>54000</td>\n",
       "      <td>boston</td>\n",
       "    </tr>\n",
       "    <tr>\n",
       "      <th>10</th>\n",
       "      <td>katie</td>\n",
       "      <td>31</td>\n",
       "      <td>160.00</td>\n",
       "      <td>55.50</td>\n",
       "      <td>52000</td>\n",
       "      <td>seattle</td>\n",
       "    </tr>\n",
       "    <tr>\n",
       "      <th>11</th>\n",
       "      <td>liam</td>\n",
       "      <td>24</td>\n",
       "      <td>178.50</td>\n",
       "      <td>73.50</td>\n",
       "      <td>61000</td>\n",
       "      <td>chicago</td>\n",
       "    </tr>\n",
       "    <tr>\n",
       "      <th>12</th>\n",
       "      <td>mia</td>\n",
       "      <td>33</td>\n",
       "      <td>66.00</td>\n",
       "      <td>61.80</td>\n",
       "      <td>59000</td>\n",
       "      <td>san diego</td>\n",
       "    </tr>\n",
       "    <tr>\n",
       "      <th>13</th>\n",
       "      <td>nora</td>\n",
       "      <td>25</td>\n",
       "      <td>163.00</td>\n",
       "      <td>59.00</td>\n",
       "      <td>52000</td>\n",
       "      <td>san francisco</td>\n",
       "    </tr>\n",
       "    <tr>\n",
       "      <th>14</th>\n",
       "      <td>oliver</td>\n",
       "      <td>30</td>\n",
       "      <td>173.00</td>\n",
       "      <td>74.00</td>\n",
       "      <td>58000</td>\n",
       "      <td>new york</td>\n",
       "    </tr>\n",
       "    <tr>\n",
       "      <th>15</th>\n",
       "      <td>penny</td>\n",
       "      <td>28</td>\n",
       "      <td>169.50</td>\n",
       "      <td>63.50</td>\n",
       "      <td>56000</td>\n",
       "      <td>los angeles</td>\n",
       "    </tr>\n",
       "    <tr>\n",
       "      <th>16</th>\n",
       "      <td>quinn</td>\n",
       "      <td>29</td>\n",
       "      <td>172.00</td>\n",
       "      <td>77.50</td>\n",
       "      <td>57000</td>\n",
       "      <td>chicago</td>\n",
       "    </tr>\n",
       "    <tr>\n",
       "      <th>17</th>\n",
       "      <td>ryan</td>\n",
       "      <td>150</td>\n",
       "      <td>181.00</td>\n",
       "      <td>92.00</td>\n",
       "      <td>56000</td>\n",
       "      <td>chicago</td>\n",
       "    </tr>\n",
       "    <tr>\n",
       "      <th>18</th>\n",
       "      <td>sophia</td>\n",
       "      <td>33</td>\n",
       "      <td>167.50</td>\n",
       "      <td>62.00</td>\n",
       "      <td>62000</td>\n",
       "      <td>miami</td>\n",
       "    </tr>\n",
       "    <tr>\n",
       "      <th>19</th>\n",
       "      <td>amy</td>\n",
       "      <td>30</td>\n",
       "      <td>166.37</td>\n",
       "      <td>60.01</td>\n",
       "      <td>50000</td>\n",
       "      <td>new york</td>\n",
       "    </tr>\n",
       "    <tr>\n",
       "      <th>20</th>\n",
       "      <td>ben</td>\n",
       "      <td>25</td>\n",
       "      <td>172.72</td>\n",
       "      <td>74.98</td>\n",
       "      <td>60000</td>\n",
       "      <td>los angeles</td>\n",
       "    </tr>\n",
       "    <tr>\n",
       "      <th>21</th>\n",
       "      <td>charlie</td>\n",
       "      <td>32</td>\n",
       "      <td>170.18</td>\n",
       "      <td>81.87</td>\n",
       "      <td>55000</td>\n",
       "      <td>chicago</td>\n",
       "    </tr>\n",
       "    <tr>\n",
       "      <th>22</th>\n",
       "      <td>david</td>\n",
       "      <td>26</td>\n",
       "      <td>177.80</td>\n",
       "      <td>85.59</td>\n",
       "      <td>59000</td>\n",
       "      <td>san francisco</td>\n",
       "    </tr>\n",
       "    <tr>\n",
       "      <th>23</th>\n",
       "      <td>ella</td>\n",
       "      <td>28</td>\n",
       "      <td>154.94</td>\n",
       "      <td>57.15</td>\n",
       "      <td>52000</td>\n",
       "      <td>bristol</td>\n",
       "    </tr>\n",
       "    <tr>\n",
       "      <th>24</th>\n",
       "      <td>frank</td>\n",
       "      <td>35</td>\n",
       "      <td>175.26</td>\n",
       "      <td>69.99</td>\n",
       "      <td>58000</td>\n",
       "      <td>washington</td>\n",
       "    </tr>\n",
       "    <tr>\n",
       "      <th>25</th>\n",
       "      <td>grace</td>\n",
       "      <td>29</td>\n",
       "      <td>162.56</td>\n",
       "      <td>65.09</td>\n",
       "      <td>51000</td>\n",
       "      <td>houston</td>\n",
       "    </tr>\n",
       "    <tr>\n",
       "      <th>26</th>\n",
       "      <td>henry</td>\n",
       "      <td>28</td>\n",
       "      <td>167.89</td>\n",
       "      <td>49.99</td>\n",
       "      <td>55000</td>\n",
       "      <td>houston</td>\n",
       "    </tr>\n",
       "    <tr>\n",
       "      <th>27</th>\n",
       "      <td>ivy</td>\n",
       "      <td>34</td>\n",
       "      <td>182.88</td>\n",
       "      <td>94.80</td>\n",
       "      <td>68000</td>\n",
       "      <td>miami</td>\n",
       "    </tr>\n",
       "    <tr>\n",
       "      <th>28</th>\n",
       "      <td>jack</td>\n",
       "      <td>27</td>\n",
       "      <td>172.72</td>\n",
       "      <td>70.53</td>\n",
       "      <td>54000</td>\n",
       "      <td>boston</td>\n",
       "    </tr>\n",
       "  </tbody>\n",
       "</table>\n",
       "</div>"
      ],
      "text/plain": [
       "       Name  Age  Height (cm)  Weight (kg)  Salary ($)           City\n",
       "0     alice   30       165.50        60.20       50000       new york\n",
       "1       bob   25       175.00        75.00       60000    los angeles\n",
       "2   charlie   32       170.50        67.50       55000        chicago\n",
       "3     david   26       180.00        85.50       59000  san francisco\n",
       "4       eve   25       160.00        58.00       52000        bristol\n",
       "5     frank   35       175.50        70.00       56000     washington\n",
       "6     grace   29       171.25        65.00       51000        houston\n",
       "7     heidi   28       168.00         0.00       55000        houston\n",
       "8      ivan   34       185.00        95.00       68000          miami\n",
       "9      jack   27       172.50        70.50       54000         boston\n",
       "10    katie   31       160.00        55.50       52000        seattle\n",
       "11     liam   24       178.50        73.50       61000        chicago\n",
       "12      mia   33        66.00        61.80       59000      san diego\n",
       "13     nora   25       163.00        59.00       52000  san francisco\n",
       "14   oliver   30       173.00        74.00       58000       new york\n",
       "15    penny   28       169.50        63.50       56000    los angeles\n",
       "16    quinn   29       172.00        77.50       57000        chicago\n",
       "17     ryan  150       181.00        92.00       56000        chicago\n",
       "18   sophia   33       167.50        62.00       62000          miami\n",
       "19      amy   30       166.37        60.01       50000       new york\n",
       "20      ben   25       172.72        74.98       60000    los angeles\n",
       "21  charlie   32       170.18        81.87       55000        chicago\n",
       "22    david   26       177.80        85.59       59000  san francisco\n",
       "23     ella   28       154.94        57.15       52000        bristol\n",
       "24    frank   35       175.26        69.99       58000     washington\n",
       "25    grace   29       162.56        65.09       51000        houston\n",
       "26    henry   28       167.89        49.99       55000        houston\n",
       "27      ivy   34       182.88        94.80       68000          miami\n",
       "28     jack   27       172.72        70.53       54000         boston"
      ]
     },
     "metadata": {},
     "output_type": "display_data"
    }
   ],
   "source": [
    "df_1 = pd.concat([df,df1], axis=0, join=\"outer\", ignore_index=True)\n",
    "print(df_1.shape)\n",
    "print(\"=\"*40)\n",
    "display(df_1)"
   ]
  },
  {
   "cell_type": "markdown",
   "metadata": {
    "id": "lgLTj18Zl25g"
   },
   "source": [
    "#### Verificación de duplicados en la columna Name"
   ]
  },
  {
   "cell_type": "code",
   "execution_count": 213,
   "metadata": {
    "colab": {
     "base_uri": "https://localhost:8080/",
     "height": 380
    },
    "executionInfo": {
     "elapsed": 19,
     "status": "ok",
     "timestamp": 1758851354053,
     "user": {
      "displayName": "Marcela Fajardo",
      "userId": "14841747285208122853"
     },
     "user_tz": 300
    },
    "id": "j2Q7E9jZldxT",
    "outputId": "14a49f6a-7389-4248-a5ff-1516e3837155"
   },
   "outputs": [
    {
     "name": "stdout",
     "output_type": "stream",
     "text": [
      "Entradas duplicadas basadas en Nombre:\n"
     ]
    },
    {
     "data": {
      "application/vnd.microsoft.datawrangler.viewer.v0+json": {
       "columns": [
        {
         "name": "index",
         "rawType": "int64",
         "type": "integer"
        },
        {
         "name": "Name",
         "rawType": "object",
         "type": "string"
        },
        {
         "name": "Age",
         "rawType": "int64",
         "type": "integer"
        },
        {
         "name": "Height (cm)",
         "rawType": "float64",
         "type": "float"
        },
        {
         "name": "Weight (kg)",
         "rawType": "float64",
         "type": "float"
        },
        {
         "name": "Salary ($)",
         "rawType": "int64",
         "type": "integer"
        },
        {
         "name": "City",
         "rawType": "object",
         "type": "string"
        }
       ],
       "ref": "517dcb5a-d000-4a61-82c7-6ddf4db72290",
       "rows": [
        [
         "2",
         "charlie",
         "32",
         "170.5",
         "67.5",
         "55000",
         "chicago"
        ],
        [
         "21",
         "charlie",
         "32",
         "170.18",
         "81.87",
         "55000",
         "chicago"
        ],
        [
         "3",
         "david",
         "26",
         "180.0",
         "85.5",
         "59000",
         "san francisco"
        ],
        [
         "22",
         "david",
         "26",
         "177.8",
         "85.59",
         "59000",
         "san francisco"
        ],
        [
         "5",
         "frank",
         "35",
         "175.5",
         "70.0",
         "56000",
         "washington"
        ],
        [
         "24",
         "frank",
         "35",
         "175.26",
         "69.99",
         "58000",
         "washington"
        ],
        [
         "6",
         "grace",
         "29",
         "171.25",
         "65.0",
         "51000",
         "houston"
        ],
        [
         "25",
         "grace",
         "29",
         "162.56",
         "65.09",
         "51000",
         "houston"
        ],
        [
         "9",
         "jack",
         "27",
         "172.5",
         "70.5",
         "54000",
         "boston"
        ],
        [
         "28",
         "jack",
         "27",
         "172.72",
         "70.53",
         "54000",
         "boston"
        ]
       ],
       "shape": {
        "columns": 6,
        "rows": 10
       }
      },
      "text/html": [
       "<div>\n",
       "<style scoped>\n",
       "    .dataframe tbody tr th:only-of-type {\n",
       "        vertical-align: middle;\n",
       "    }\n",
       "\n",
       "    .dataframe tbody tr th {\n",
       "        vertical-align: top;\n",
       "    }\n",
       "\n",
       "    .dataframe thead th {\n",
       "        text-align: right;\n",
       "    }\n",
       "</style>\n",
       "<table border=\"1\" class=\"dataframe\">\n",
       "  <thead>\n",
       "    <tr style=\"text-align: right;\">\n",
       "      <th></th>\n",
       "      <th>Name</th>\n",
       "      <th>Age</th>\n",
       "      <th>Height (cm)</th>\n",
       "      <th>Weight (kg)</th>\n",
       "      <th>Salary ($)</th>\n",
       "      <th>City</th>\n",
       "    </tr>\n",
       "  </thead>\n",
       "  <tbody>\n",
       "    <tr>\n",
       "      <th>2</th>\n",
       "      <td>charlie</td>\n",
       "      <td>32</td>\n",
       "      <td>170.50</td>\n",
       "      <td>67.50</td>\n",
       "      <td>55000</td>\n",
       "      <td>chicago</td>\n",
       "    </tr>\n",
       "    <tr>\n",
       "      <th>21</th>\n",
       "      <td>charlie</td>\n",
       "      <td>32</td>\n",
       "      <td>170.18</td>\n",
       "      <td>81.87</td>\n",
       "      <td>55000</td>\n",
       "      <td>chicago</td>\n",
       "    </tr>\n",
       "    <tr>\n",
       "      <th>3</th>\n",
       "      <td>david</td>\n",
       "      <td>26</td>\n",
       "      <td>180.00</td>\n",
       "      <td>85.50</td>\n",
       "      <td>59000</td>\n",
       "      <td>san francisco</td>\n",
       "    </tr>\n",
       "    <tr>\n",
       "      <th>22</th>\n",
       "      <td>david</td>\n",
       "      <td>26</td>\n",
       "      <td>177.80</td>\n",
       "      <td>85.59</td>\n",
       "      <td>59000</td>\n",
       "      <td>san francisco</td>\n",
       "    </tr>\n",
       "    <tr>\n",
       "      <th>5</th>\n",
       "      <td>frank</td>\n",
       "      <td>35</td>\n",
       "      <td>175.50</td>\n",
       "      <td>70.00</td>\n",
       "      <td>56000</td>\n",
       "      <td>washington</td>\n",
       "    </tr>\n",
       "    <tr>\n",
       "      <th>24</th>\n",
       "      <td>frank</td>\n",
       "      <td>35</td>\n",
       "      <td>175.26</td>\n",
       "      <td>69.99</td>\n",
       "      <td>58000</td>\n",
       "      <td>washington</td>\n",
       "    </tr>\n",
       "    <tr>\n",
       "      <th>6</th>\n",
       "      <td>grace</td>\n",
       "      <td>29</td>\n",
       "      <td>171.25</td>\n",
       "      <td>65.00</td>\n",
       "      <td>51000</td>\n",
       "      <td>houston</td>\n",
       "    </tr>\n",
       "    <tr>\n",
       "      <th>25</th>\n",
       "      <td>grace</td>\n",
       "      <td>29</td>\n",
       "      <td>162.56</td>\n",
       "      <td>65.09</td>\n",
       "      <td>51000</td>\n",
       "      <td>houston</td>\n",
       "    </tr>\n",
       "    <tr>\n",
       "      <th>9</th>\n",
       "      <td>jack</td>\n",
       "      <td>27</td>\n",
       "      <td>172.50</td>\n",
       "      <td>70.50</td>\n",
       "      <td>54000</td>\n",
       "      <td>boston</td>\n",
       "    </tr>\n",
       "    <tr>\n",
       "      <th>28</th>\n",
       "      <td>jack</td>\n",
       "      <td>27</td>\n",
       "      <td>172.72</td>\n",
       "      <td>70.53</td>\n",
       "      <td>54000</td>\n",
       "      <td>boston</td>\n",
       "    </tr>\n",
       "  </tbody>\n",
       "</table>\n",
       "</div>"
      ],
      "text/plain": [
       "       Name  Age  Height (cm)  Weight (kg)  Salary ($)           City\n",
       "2   charlie   32       170.50        67.50       55000        chicago\n",
       "21  charlie   32       170.18        81.87       55000        chicago\n",
       "3     david   26       180.00        85.50       59000  san francisco\n",
       "22    david   26       177.80        85.59       59000  san francisco\n",
       "5     frank   35       175.50        70.00       56000     washington\n",
       "24    frank   35       175.26        69.99       58000     washington\n",
       "6     grace   29       171.25        65.00       51000        houston\n",
       "25    grace   29       162.56        65.09       51000        houston\n",
       "9      jack   27       172.50        70.50       54000         boston\n",
       "28     jack   27       172.72        70.53       54000         boston"
      ]
     },
     "metadata": {},
     "output_type": "display_data"
    }
   ],
   "source": [
    "# Verificar filas duplicadas basadas en la columna 'Name'\n",
    "duplicates_by_name = df_1[df_1.duplicated(subset=['Name'], keep=False)]\n",
    "\n",
    "# Mostrar las filas duplicadas\n",
    "print(\"Entradas duplicadas basadas en Nombre:\")\n",
    "display(duplicates_by_name.sort_values(by='Name'))"
   ]
  },
  {
   "cell_type": "markdown",
   "metadata": {
    "id": "ZOCHpC9OmcAj"
   },
   "source": [
    "#### Se realiza el merge entre df_1 y df3"
   ]
  },
  {
   "cell_type": "code",
   "execution_count": 214,
   "metadata": {
    "colab": {
     "base_uri": "https://localhost:8080/"
    },
    "executionInfo": {
     "elapsed": 28,
     "status": "ok",
     "timestamp": 1758851354083,
     "user": {
      "displayName": "Marcela Fajardo",
      "userId": "14841747285208122853"
     },
     "user_tz": 300
    },
    "id": "XN_xZO0Amzo7",
    "outputId": "4fcd765b-1fb2-42b8-a8ab-58bf497c6ef0"
   },
   "outputs": [
    {
     "data": {
      "text/plain": [
       "Index(['Name', 'Age', 'Height (cm)', 'Weight (kg)', 'Salary ($)', 'City'], dtype='object')"
      ]
     },
     "execution_count": 214,
     "metadata": {},
     "output_type": "execute_result"
    }
   ],
   "source": [
    "df_1.columns"
   ]
  },
  {
   "cell_type": "code",
   "execution_count": 215,
   "metadata": {
    "colab": {
     "base_uri": "https://localhost:8080/"
    },
    "executionInfo": {
     "elapsed": 14,
     "status": "ok",
     "timestamp": 1758851354084,
     "user": {
      "displayName": "Marcela Fajardo",
      "userId": "14841747285208122853"
     },
     "user_tz": 300
    },
    "id": "iy4tNl3km1dB",
    "outputId": "9bd839bc-dff0-43b4-fff6-f26652439040"
   },
   "outputs": [
    {
     "data": {
      "text/plain": [
       "Index(['Name', 'Sex', 'Marital Status', 'Career'], dtype='object')"
      ]
     },
     "execution_count": 215,
     "metadata": {},
     "output_type": "execute_result"
    }
   ],
   "source": [
    "df3.columns"
   ]
  },
  {
   "cell_type": "code",
   "execution_count": 216,
   "metadata": {
    "colab": {
     "base_uri": "https://localhost:8080/",
     "height": 1000
    },
    "executionInfo": {
     "elapsed": 81,
     "status": "ok",
     "timestamp": 1758851354161,
     "user": {
      "displayName": "Marcela Fajardo",
      "userId": "14841747285208122853"
     },
     "user_tz": 300
    },
    "id": "ElaHDp4tiUUk",
    "outputId": "4600f211-778a-44a5-82e6-8d5059bbf5e3"
   },
   "outputs": [
    {
     "data": {
      "application/vnd.microsoft.datawrangler.viewer.v0+json": {
       "columns": [
        {
         "name": "index",
         "rawType": "int64",
         "type": "integer"
        },
        {
         "name": "Name",
         "rawType": "object",
         "type": "string"
        },
        {
         "name": "Sex",
         "rawType": "object",
         "type": "string"
        },
        {
         "name": "Marital Status",
         "rawType": "object",
         "type": "string"
        },
        {
         "name": "Career",
         "rawType": "object",
         "type": "string"
        },
        {
         "name": "Age",
         "rawType": "int64",
         "type": "integer"
        },
        {
         "name": "Height (cm)",
         "rawType": "float64",
         "type": "float"
        },
        {
         "name": "Weight (kg)",
         "rawType": "float64",
         "type": "float"
        },
        {
         "name": "Salary ($)",
         "rawType": "int64",
         "type": "integer"
        },
        {
         "name": "City",
         "rawType": "object",
         "type": "string"
        }
       ],
       "ref": "1b9d2166-9de1-47f2-9331-9d79a1e8ae4c",
       "rows": [
        [
         "0",
         "alice",
         "female",
         "single",
         "data scientist",
         "30",
         "165.5",
         "60.2",
         "50000",
         "new york"
        ],
        [
         "1",
         "bob",
         "male",
         "single",
         "software engineer",
         "25",
         "175.0",
         "75.0",
         "60000",
         "los angeles"
        ],
        [
         "2",
         "charlie",
         "male",
         "married",
         "doctor",
         "32",
         "170.5",
         "67.5",
         "55000",
         "chicago"
        ],
        [
         "3",
         "charlie",
         "male",
         "married",
         "doctor",
         "32",
         "170.18",
         "81.87",
         "55000",
         "chicago"
        ],
        [
         "4",
         "david",
         "male",
         "single",
         "lawyer",
         "26",
         "180.0",
         "85.5",
         "59000",
         "san francisco"
        ],
        [
         "5",
         "david",
         "male",
         "single",
         "lawyer",
         "26",
         "177.8",
         "85.59",
         "59000",
         "san francisco"
        ],
        [
         "6",
         "eve",
         "female",
         "divorced",
         "artist",
         "25",
         "160.0",
         "58.0",
         "52000",
         "bristol"
        ],
        [
         "7",
         "frank",
         "male",
         "married",
         "engineer",
         "35",
         "175.5",
         "70.0",
         "56000",
         "washington"
        ],
        [
         "8",
         "frank",
         "male",
         "married",
         "engineer",
         "35",
         "175.26",
         "69.99",
         "58000",
         "washington"
        ],
        [
         "9",
         "grace",
         "female",
         "single",
         "nurse",
         "29",
         "171.25",
         "65.0",
         "51000",
         "houston"
        ],
        [
         "10",
         "grace",
         "female",
         "single",
         "nurse",
         "29",
         "162.56",
         "65.09",
         "51000",
         "houston"
        ],
        [
         "11",
         "heidi",
         "female",
         "married",
         "teacher",
         "28",
         "168.0",
         "0.0",
         "55000",
         "houston"
        ],
        [
         "12",
         "ivan",
         "male",
         "married",
         "accountant",
         "34",
         "185.0",
         "95.0",
         "68000",
         "miami"
        ],
        [
         "13",
         "jack",
         "male",
         "single",
         "it specialist",
         "27",
         "172.5",
         "70.5",
         "54000",
         "boston"
        ],
        [
         "14",
         "jack",
         "male",
         "single",
         "it specialist",
         "27",
         "172.72",
         "70.53",
         "54000",
         "boston"
        ],
        [
         "15",
         "katie",
         "female",
         "single",
         "marketing",
         "31",
         "160.0",
         "55.5",
         "52000",
         "seattle"
        ],
        [
         "16",
         "liam",
         "male",
         "single",
         "researcher",
         "24",
         "178.5",
         "73.5",
         "61000",
         "chicago"
        ],
        [
         "17",
         "mia",
         "female",
         "married",
         "nurse",
         "33",
         "66.0",
         "61.8",
         "59000",
         "san diego"
        ],
        [
         "18",
         "nora",
         "female",
         "single",
         "data analyst",
         "25",
         "163.0",
         "59.0",
         "52000",
         "san francisco"
        ],
        [
         "19",
         "oliver",
         "male",
         "married",
         "architect",
         "30",
         "173.0",
         "74.0",
         "58000",
         "new york"
        ],
        [
         "20",
         "penny",
         "female",
         "single",
         "graphic designer",
         "28",
         "169.5",
         "63.5",
         "56000",
         "los angeles"
        ],
        [
         "21",
         "quinn",
         "non-binary",
         "single",
         "writer",
         "29",
         "172.0",
         "77.5",
         "57000",
         "chicago"
        ],
        [
         "22",
         "ryan",
         "male",
         "single",
         "financial analyst",
         "150",
         "181.0",
         "92.0",
         "56000",
         "chicago"
        ],
        [
         "23",
         "sophia",
         "female",
         "married",
         "psychologist",
         "33",
         "167.5",
         "62.0",
         "62000",
         "miami"
        ],
        [
         "24",
         "amy",
         "female",
         "married",
         "sales manager",
         "30",
         "166.37",
         "60.01",
         "50000",
         "new york"
        ],
        [
         "25",
         "ben",
         "male",
         "single",
         "marketing manager",
         "25",
         "172.72",
         "74.98",
         "60000",
         "los angeles"
        ],
        [
         "26",
         "charlie",
         "male",
         "married",
         "doctor",
         "32",
         "170.5",
         "67.5",
         "55000",
         "chicago"
        ],
        [
         "27",
         "charlie",
         "male",
         "married",
         "doctor",
         "32",
         "170.18",
         "81.87",
         "55000",
         "chicago"
        ],
        [
         "28",
         "david",
         "male",
         "single",
         "lawyer",
         "26",
         "180.0",
         "85.5",
         "59000",
         "san francisco"
        ],
        [
         "29",
         "david",
         "male",
         "single",
         "lawyer",
         "26",
         "177.8",
         "85.59",
         "59000",
         "san francisco"
        ],
        [
         "30",
         "ella",
         "female",
         "divorced",
         "artist",
         "28",
         "154.94",
         "57.15",
         "52000",
         "bristol"
        ],
        [
         "31",
         "frank",
         "male",
         "married",
         "engineer",
         "35",
         "175.5",
         "70.0",
         "56000",
         "washington"
        ],
        [
         "32",
         "frank",
         "male",
         "married",
         "engineer",
         "35",
         "175.26",
         "69.99",
         "58000",
         "washington"
        ],
        [
         "33",
         "grace",
         "female",
         "single",
         "nurse",
         "29",
         "171.25",
         "65.0",
         "51000",
         "houston"
        ],
        [
         "34",
         "grace",
         "female",
         "single",
         "nurse",
         "29",
         "162.56",
         "65.09",
         "51000",
         "houston"
        ],
        [
         "35",
         "henry",
         "male",
         "single",
         "accountant",
         "28",
         "167.89",
         "49.99",
         "55000",
         "houston"
        ],
        [
         "36",
         "ivy",
         "female",
         "married",
         "professor",
         "34",
         "182.88",
         "94.8",
         "68000",
         "miami"
        ],
        [
         "37",
         "jack",
         "male",
         "single",
         "it specialist",
         "27",
         "172.5",
         "70.5",
         "54000",
         "boston"
        ],
        [
         "38",
         "jack",
         "male",
         "single",
         "it specialist",
         "27",
         "172.72",
         "70.53",
         "54000",
         "boston"
        ]
       ],
       "shape": {
        "columns": 9,
        "rows": 39
       }
      },
      "text/html": [
       "<div>\n",
       "<style scoped>\n",
       "    .dataframe tbody tr th:only-of-type {\n",
       "        vertical-align: middle;\n",
       "    }\n",
       "\n",
       "    .dataframe tbody tr th {\n",
       "        vertical-align: top;\n",
       "    }\n",
       "\n",
       "    .dataframe thead th {\n",
       "        text-align: right;\n",
       "    }\n",
       "</style>\n",
       "<table border=\"1\" class=\"dataframe\">\n",
       "  <thead>\n",
       "    <tr style=\"text-align: right;\">\n",
       "      <th></th>\n",
       "      <th>Name</th>\n",
       "      <th>Sex</th>\n",
       "      <th>Marital Status</th>\n",
       "      <th>Career</th>\n",
       "      <th>Age</th>\n",
       "      <th>Height (cm)</th>\n",
       "      <th>Weight (kg)</th>\n",
       "      <th>Salary ($)</th>\n",
       "      <th>City</th>\n",
       "    </tr>\n",
       "  </thead>\n",
       "  <tbody>\n",
       "    <tr>\n",
       "      <th>0</th>\n",
       "      <td>alice</td>\n",
       "      <td>female</td>\n",
       "      <td>single</td>\n",
       "      <td>data scientist</td>\n",
       "      <td>30</td>\n",
       "      <td>165.50</td>\n",
       "      <td>60.20</td>\n",
       "      <td>50000</td>\n",
       "      <td>new york</td>\n",
       "    </tr>\n",
       "    <tr>\n",
       "      <th>1</th>\n",
       "      <td>bob</td>\n",
       "      <td>male</td>\n",
       "      <td>single</td>\n",
       "      <td>software engineer</td>\n",
       "      <td>25</td>\n",
       "      <td>175.00</td>\n",
       "      <td>75.00</td>\n",
       "      <td>60000</td>\n",
       "      <td>los angeles</td>\n",
       "    </tr>\n",
       "    <tr>\n",
       "      <th>2</th>\n",
       "      <td>charlie</td>\n",
       "      <td>male</td>\n",
       "      <td>married</td>\n",
       "      <td>doctor</td>\n",
       "      <td>32</td>\n",
       "      <td>170.50</td>\n",
       "      <td>67.50</td>\n",
       "      <td>55000</td>\n",
       "      <td>chicago</td>\n",
       "    </tr>\n",
       "    <tr>\n",
       "      <th>3</th>\n",
       "      <td>charlie</td>\n",
       "      <td>male</td>\n",
       "      <td>married</td>\n",
       "      <td>doctor</td>\n",
       "      <td>32</td>\n",
       "      <td>170.18</td>\n",
       "      <td>81.87</td>\n",
       "      <td>55000</td>\n",
       "      <td>chicago</td>\n",
       "    </tr>\n",
       "    <tr>\n",
       "      <th>4</th>\n",
       "      <td>david</td>\n",
       "      <td>male</td>\n",
       "      <td>single</td>\n",
       "      <td>lawyer</td>\n",
       "      <td>26</td>\n",
       "      <td>180.00</td>\n",
       "      <td>85.50</td>\n",
       "      <td>59000</td>\n",
       "      <td>san francisco</td>\n",
       "    </tr>\n",
       "    <tr>\n",
       "      <th>5</th>\n",
       "      <td>david</td>\n",
       "      <td>male</td>\n",
       "      <td>single</td>\n",
       "      <td>lawyer</td>\n",
       "      <td>26</td>\n",
       "      <td>177.80</td>\n",
       "      <td>85.59</td>\n",
       "      <td>59000</td>\n",
       "      <td>san francisco</td>\n",
       "    </tr>\n",
       "    <tr>\n",
       "      <th>6</th>\n",
       "      <td>eve</td>\n",
       "      <td>female</td>\n",
       "      <td>divorced</td>\n",
       "      <td>artist</td>\n",
       "      <td>25</td>\n",
       "      <td>160.00</td>\n",
       "      <td>58.00</td>\n",
       "      <td>52000</td>\n",
       "      <td>bristol</td>\n",
       "    </tr>\n",
       "    <tr>\n",
       "      <th>7</th>\n",
       "      <td>frank</td>\n",
       "      <td>male</td>\n",
       "      <td>married</td>\n",
       "      <td>engineer</td>\n",
       "      <td>35</td>\n",
       "      <td>175.50</td>\n",
       "      <td>70.00</td>\n",
       "      <td>56000</td>\n",
       "      <td>washington</td>\n",
       "    </tr>\n",
       "    <tr>\n",
       "      <th>8</th>\n",
       "      <td>frank</td>\n",
       "      <td>male</td>\n",
       "      <td>married</td>\n",
       "      <td>engineer</td>\n",
       "      <td>35</td>\n",
       "      <td>175.26</td>\n",
       "      <td>69.99</td>\n",
       "      <td>58000</td>\n",
       "      <td>washington</td>\n",
       "    </tr>\n",
       "    <tr>\n",
       "      <th>9</th>\n",
       "      <td>grace</td>\n",
       "      <td>female</td>\n",
       "      <td>single</td>\n",
       "      <td>nurse</td>\n",
       "      <td>29</td>\n",
       "      <td>171.25</td>\n",
       "      <td>65.00</td>\n",
       "      <td>51000</td>\n",
       "      <td>houston</td>\n",
       "    </tr>\n",
       "    <tr>\n",
       "      <th>10</th>\n",
       "      <td>grace</td>\n",
       "      <td>female</td>\n",
       "      <td>single</td>\n",
       "      <td>nurse</td>\n",
       "      <td>29</td>\n",
       "      <td>162.56</td>\n",
       "      <td>65.09</td>\n",
       "      <td>51000</td>\n",
       "      <td>houston</td>\n",
       "    </tr>\n",
       "    <tr>\n",
       "      <th>11</th>\n",
       "      <td>heidi</td>\n",
       "      <td>female</td>\n",
       "      <td>married</td>\n",
       "      <td>teacher</td>\n",
       "      <td>28</td>\n",
       "      <td>168.00</td>\n",
       "      <td>0.00</td>\n",
       "      <td>55000</td>\n",
       "      <td>houston</td>\n",
       "    </tr>\n",
       "    <tr>\n",
       "      <th>12</th>\n",
       "      <td>ivan</td>\n",
       "      <td>male</td>\n",
       "      <td>married</td>\n",
       "      <td>accountant</td>\n",
       "      <td>34</td>\n",
       "      <td>185.00</td>\n",
       "      <td>95.00</td>\n",
       "      <td>68000</td>\n",
       "      <td>miami</td>\n",
       "    </tr>\n",
       "    <tr>\n",
       "      <th>13</th>\n",
       "      <td>jack</td>\n",
       "      <td>male</td>\n",
       "      <td>single</td>\n",
       "      <td>it specialist</td>\n",
       "      <td>27</td>\n",
       "      <td>172.50</td>\n",
       "      <td>70.50</td>\n",
       "      <td>54000</td>\n",
       "      <td>boston</td>\n",
       "    </tr>\n",
       "    <tr>\n",
       "      <th>14</th>\n",
       "      <td>jack</td>\n",
       "      <td>male</td>\n",
       "      <td>single</td>\n",
       "      <td>it specialist</td>\n",
       "      <td>27</td>\n",
       "      <td>172.72</td>\n",
       "      <td>70.53</td>\n",
       "      <td>54000</td>\n",
       "      <td>boston</td>\n",
       "    </tr>\n",
       "    <tr>\n",
       "      <th>15</th>\n",
       "      <td>katie</td>\n",
       "      <td>female</td>\n",
       "      <td>single</td>\n",
       "      <td>marketing</td>\n",
       "      <td>31</td>\n",
       "      <td>160.00</td>\n",
       "      <td>55.50</td>\n",
       "      <td>52000</td>\n",
       "      <td>seattle</td>\n",
       "    </tr>\n",
       "    <tr>\n",
       "      <th>16</th>\n",
       "      <td>liam</td>\n",
       "      <td>male</td>\n",
       "      <td>single</td>\n",
       "      <td>researcher</td>\n",
       "      <td>24</td>\n",
       "      <td>178.50</td>\n",
       "      <td>73.50</td>\n",
       "      <td>61000</td>\n",
       "      <td>chicago</td>\n",
       "    </tr>\n",
       "    <tr>\n",
       "      <th>17</th>\n",
       "      <td>mia</td>\n",
       "      <td>female</td>\n",
       "      <td>married</td>\n",
       "      <td>nurse</td>\n",
       "      <td>33</td>\n",
       "      <td>66.00</td>\n",
       "      <td>61.80</td>\n",
       "      <td>59000</td>\n",
       "      <td>san diego</td>\n",
       "    </tr>\n",
       "    <tr>\n",
       "      <th>18</th>\n",
       "      <td>nora</td>\n",
       "      <td>female</td>\n",
       "      <td>single</td>\n",
       "      <td>data analyst</td>\n",
       "      <td>25</td>\n",
       "      <td>163.00</td>\n",
       "      <td>59.00</td>\n",
       "      <td>52000</td>\n",
       "      <td>san francisco</td>\n",
       "    </tr>\n",
       "    <tr>\n",
       "      <th>19</th>\n",
       "      <td>oliver</td>\n",
       "      <td>male</td>\n",
       "      <td>married</td>\n",
       "      <td>architect</td>\n",
       "      <td>30</td>\n",
       "      <td>173.00</td>\n",
       "      <td>74.00</td>\n",
       "      <td>58000</td>\n",
       "      <td>new york</td>\n",
       "    </tr>\n",
       "    <tr>\n",
       "      <th>20</th>\n",
       "      <td>penny</td>\n",
       "      <td>female</td>\n",
       "      <td>single</td>\n",
       "      <td>graphic designer</td>\n",
       "      <td>28</td>\n",
       "      <td>169.50</td>\n",
       "      <td>63.50</td>\n",
       "      <td>56000</td>\n",
       "      <td>los angeles</td>\n",
       "    </tr>\n",
       "    <tr>\n",
       "      <th>21</th>\n",
       "      <td>quinn</td>\n",
       "      <td>non-binary</td>\n",
       "      <td>single</td>\n",
       "      <td>writer</td>\n",
       "      <td>29</td>\n",
       "      <td>172.00</td>\n",
       "      <td>77.50</td>\n",
       "      <td>57000</td>\n",
       "      <td>chicago</td>\n",
       "    </tr>\n",
       "    <tr>\n",
       "      <th>22</th>\n",
       "      <td>ryan</td>\n",
       "      <td>male</td>\n",
       "      <td>single</td>\n",
       "      <td>financial analyst</td>\n",
       "      <td>150</td>\n",
       "      <td>181.00</td>\n",
       "      <td>92.00</td>\n",
       "      <td>56000</td>\n",
       "      <td>chicago</td>\n",
       "    </tr>\n",
       "    <tr>\n",
       "      <th>23</th>\n",
       "      <td>sophia</td>\n",
       "      <td>female</td>\n",
       "      <td>married</td>\n",
       "      <td>psychologist</td>\n",
       "      <td>33</td>\n",
       "      <td>167.50</td>\n",
       "      <td>62.00</td>\n",
       "      <td>62000</td>\n",
       "      <td>miami</td>\n",
       "    </tr>\n",
       "    <tr>\n",
       "      <th>24</th>\n",
       "      <td>amy</td>\n",
       "      <td>female</td>\n",
       "      <td>married</td>\n",
       "      <td>sales manager</td>\n",
       "      <td>30</td>\n",
       "      <td>166.37</td>\n",
       "      <td>60.01</td>\n",
       "      <td>50000</td>\n",
       "      <td>new york</td>\n",
       "    </tr>\n",
       "    <tr>\n",
       "      <th>25</th>\n",
       "      <td>ben</td>\n",
       "      <td>male</td>\n",
       "      <td>single</td>\n",
       "      <td>marketing manager</td>\n",
       "      <td>25</td>\n",
       "      <td>172.72</td>\n",
       "      <td>74.98</td>\n",
       "      <td>60000</td>\n",
       "      <td>los angeles</td>\n",
       "    </tr>\n",
       "    <tr>\n",
       "      <th>26</th>\n",
       "      <td>charlie</td>\n",
       "      <td>male</td>\n",
       "      <td>married</td>\n",
       "      <td>doctor</td>\n",
       "      <td>32</td>\n",
       "      <td>170.50</td>\n",
       "      <td>67.50</td>\n",
       "      <td>55000</td>\n",
       "      <td>chicago</td>\n",
       "    </tr>\n",
       "    <tr>\n",
       "      <th>27</th>\n",
       "      <td>charlie</td>\n",
       "      <td>male</td>\n",
       "      <td>married</td>\n",
       "      <td>doctor</td>\n",
       "      <td>32</td>\n",
       "      <td>170.18</td>\n",
       "      <td>81.87</td>\n",
       "      <td>55000</td>\n",
       "      <td>chicago</td>\n",
       "    </tr>\n",
       "    <tr>\n",
       "      <th>28</th>\n",
       "      <td>david</td>\n",
       "      <td>male</td>\n",
       "      <td>single</td>\n",
       "      <td>lawyer</td>\n",
       "      <td>26</td>\n",
       "      <td>180.00</td>\n",
       "      <td>85.50</td>\n",
       "      <td>59000</td>\n",
       "      <td>san francisco</td>\n",
       "    </tr>\n",
       "    <tr>\n",
       "      <th>29</th>\n",
       "      <td>david</td>\n",
       "      <td>male</td>\n",
       "      <td>single</td>\n",
       "      <td>lawyer</td>\n",
       "      <td>26</td>\n",
       "      <td>177.80</td>\n",
       "      <td>85.59</td>\n",
       "      <td>59000</td>\n",
       "      <td>san francisco</td>\n",
       "    </tr>\n",
       "    <tr>\n",
       "      <th>30</th>\n",
       "      <td>ella</td>\n",
       "      <td>female</td>\n",
       "      <td>divorced</td>\n",
       "      <td>artist</td>\n",
       "      <td>28</td>\n",
       "      <td>154.94</td>\n",
       "      <td>57.15</td>\n",
       "      <td>52000</td>\n",
       "      <td>bristol</td>\n",
       "    </tr>\n",
       "    <tr>\n",
       "      <th>31</th>\n",
       "      <td>frank</td>\n",
       "      <td>male</td>\n",
       "      <td>married</td>\n",
       "      <td>engineer</td>\n",
       "      <td>35</td>\n",
       "      <td>175.50</td>\n",
       "      <td>70.00</td>\n",
       "      <td>56000</td>\n",
       "      <td>washington</td>\n",
       "    </tr>\n",
       "    <tr>\n",
       "      <th>32</th>\n",
       "      <td>frank</td>\n",
       "      <td>male</td>\n",
       "      <td>married</td>\n",
       "      <td>engineer</td>\n",
       "      <td>35</td>\n",
       "      <td>175.26</td>\n",
       "      <td>69.99</td>\n",
       "      <td>58000</td>\n",
       "      <td>washington</td>\n",
       "    </tr>\n",
       "    <tr>\n",
       "      <th>33</th>\n",
       "      <td>grace</td>\n",
       "      <td>female</td>\n",
       "      <td>single</td>\n",
       "      <td>nurse</td>\n",
       "      <td>29</td>\n",
       "      <td>171.25</td>\n",
       "      <td>65.00</td>\n",
       "      <td>51000</td>\n",
       "      <td>houston</td>\n",
       "    </tr>\n",
       "    <tr>\n",
       "      <th>34</th>\n",
       "      <td>grace</td>\n",
       "      <td>female</td>\n",
       "      <td>single</td>\n",
       "      <td>nurse</td>\n",
       "      <td>29</td>\n",
       "      <td>162.56</td>\n",
       "      <td>65.09</td>\n",
       "      <td>51000</td>\n",
       "      <td>houston</td>\n",
       "    </tr>\n",
       "    <tr>\n",
       "      <th>35</th>\n",
       "      <td>henry</td>\n",
       "      <td>male</td>\n",
       "      <td>single</td>\n",
       "      <td>accountant</td>\n",
       "      <td>28</td>\n",
       "      <td>167.89</td>\n",
       "      <td>49.99</td>\n",
       "      <td>55000</td>\n",
       "      <td>houston</td>\n",
       "    </tr>\n",
       "    <tr>\n",
       "      <th>36</th>\n",
       "      <td>ivy</td>\n",
       "      <td>female</td>\n",
       "      <td>married</td>\n",
       "      <td>professor</td>\n",
       "      <td>34</td>\n",
       "      <td>182.88</td>\n",
       "      <td>94.80</td>\n",
       "      <td>68000</td>\n",
       "      <td>miami</td>\n",
       "    </tr>\n",
       "    <tr>\n",
       "      <th>37</th>\n",
       "      <td>jack</td>\n",
       "      <td>male</td>\n",
       "      <td>single</td>\n",
       "      <td>it specialist</td>\n",
       "      <td>27</td>\n",
       "      <td>172.50</td>\n",
       "      <td>70.50</td>\n",
       "      <td>54000</td>\n",
       "      <td>boston</td>\n",
       "    </tr>\n",
       "    <tr>\n",
       "      <th>38</th>\n",
       "      <td>jack</td>\n",
       "      <td>male</td>\n",
       "      <td>single</td>\n",
       "      <td>it specialist</td>\n",
       "      <td>27</td>\n",
       "      <td>172.72</td>\n",
       "      <td>70.53</td>\n",
       "      <td>54000</td>\n",
       "      <td>boston</td>\n",
       "    </tr>\n",
       "  </tbody>\n",
       "</table>\n",
       "</div>"
      ],
      "text/plain": [
       "       Name         Sex Marital Status             Career  Age  Height (cm)  \\\n",
       "0     alice      female         single     data scientist   30       165.50   \n",
       "1       bob        male         single  software engineer   25       175.00   \n",
       "2   charlie        male        married             doctor   32       170.50   \n",
       "3   charlie        male        married             doctor   32       170.18   \n",
       "4     david        male         single             lawyer   26       180.00   \n",
       "5     david        male         single             lawyer   26       177.80   \n",
       "6       eve      female       divorced             artist   25       160.00   \n",
       "7     frank        male        married           engineer   35       175.50   \n",
       "8     frank        male        married           engineer   35       175.26   \n",
       "9     grace      female         single              nurse   29       171.25   \n",
       "10    grace      female         single              nurse   29       162.56   \n",
       "11    heidi      female        married            teacher   28       168.00   \n",
       "12     ivan        male        married         accountant   34       185.00   \n",
       "13     jack        male         single      it specialist   27       172.50   \n",
       "14     jack        male         single      it specialist   27       172.72   \n",
       "15    katie      female         single          marketing   31       160.00   \n",
       "16     liam        male         single         researcher   24       178.50   \n",
       "17      mia      female        married              nurse   33        66.00   \n",
       "18     nora      female         single       data analyst   25       163.00   \n",
       "19   oliver        male        married          architect   30       173.00   \n",
       "20    penny      female         single   graphic designer   28       169.50   \n",
       "21    quinn  non-binary         single             writer   29       172.00   \n",
       "22     ryan        male         single  financial analyst  150       181.00   \n",
       "23   sophia      female        married       psychologist   33       167.50   \n",
       "24      amy      female        married      sales manager   30       166.37   \n",
       "25      ben        male         single  marketing manager   25       172.72   \n",
       "26  charlie        male        married             doctor   32       170.50   \n",
       "27  charlie        male        married             doctor   32       170.18   \n",
       "28    david        male         single             lawyer   26       180.00   \n",
       "29    david        male         single             lawyer   26       177.80   \n",
       "30     ella      female       divorced             artist   28       154.94   \n",
       "31    frank        male        married           engineer   35       175.50   \n",
       "32    frank        male        married           engineer   35       175.26   \n",
       "33    grace      female         single              nurse   29       171.25   \n",
       "34    grace      female         single              nurse   29       162.56   \n",
       "35    henry        male         single         accountant   28       167.89   \n",
       "36      ivy      female        married          professor   34       182.88   \n",
       "37     jack        male         single      it specialist   27       172.50   \n",
       "38     jack        male         single      it specialist   27       172.72   \n",
       "\n",
       "    Weight (kg)  Salary ($)           City  \n",
       "0         60.20       50000       new york  \n",
       "1         75.00       60000    los angeles  \n",
       "2         67.50       55000        chicago  \n",
       "3         81.87       55000        chicago  \n",
       "4         85.50       59000  san francisco  \n",
       "5         85.59       59000  san francisco  \n",
       "6         58.00       52000        bristol  \n",
       "7         70.00       56000     washington  \n",
       "8         69.99       58000     washington  \n",
       "9         65.00       51000        houston  \n",
       "10        65.09       51000        houston  \n",
       "11         0.00       55000        houston  \n",
       "12        95.00       68000          miami  \n",
       "13        70.50       54000         boston  \n",
       "14        70.53       54000         boston  \n",
       "15        55.50       52000        seattle  \n",
       "16        73.50       61000        chicago  \n",
       "17        61.80       59000      san diego  \n",
       "18        59.00       52000  san francisco  \n",
       "19        74.00       58000       new york  \n",
       "20        63.50       56000    los angeles  \n",
       "21        77.50       57000        chicago  \n",
       "22        92.00       56000        chicago  \n",
       "23        62.00       62000          miami  \n",
       "24        60.01       50000       new york  \n",
       "25        74.98       60000    los angeles  \n",
       "26        67.50       55000        chicago  \n",
       "27        81.87       55000        chicago  \n",
       "28        85.50       59000  san francisco  \n",
       "29        85.59       59000  san francisco  \n",
       "30        57.15       52000        bristol  \n",
       "31        70.00       56000     washington  \n",
       "32        69.99       58000     washington  \n",
       "33        65.00       51000        houston  \n",
       "34        65.09       51000        houston  \n",
       "35        49.99       55000        houston  \n",
       "36        94.80       68000          miami  \n",
       "37        70.50       54000         boston  \n",
       "38        70.53       54000         boston  "
      ]
     },
     "execution_count": 216,
     "metadata": {},
     "output_type": "execute_result"
    }
   ],
   "source": [
    "df_final = df3.merge(df_1, on ='Name', how = \"left\")\n",
    "df_final"
   ]
  },
  {
   "cell_type": "markdown",
   "metadata": {},
   "source": [
    "#### Se eliminan duplicados del df_final"
   ]
  },
  {
   "cell_type": "code",
   "execution_count": 217,
   "metadata": {},
   "outputs": [
    {
     "data": {
      "application/vnd.microsoft.datawrangler.viewer.v0+json": {
       "columns": [
        {
         "name": "index",
         "rawType": "int64",
         "type": "integer"
        },
        {
         "name": "Name",
         "rawType": "object",
         "type": "string"
        },
        {
         "name": "Sex",
         "rawType": "object",
         "type": "string"
        },
        {
         "name": "Marital Status",
         "rawType": "object",
         "type": "string"
        },
        {
         "name": "Career",
         "rawType": "object",
         "type": "string"
        },
        {
         "name": "Age",
         "rawType": "int64",
         "type": "integer"
        },
        {
         "name": "Height (cm)",
         "rawType": "float64",
         "type": "float"
        },
        {
         "name": "Weight (kg)",
         "rawType": "float64",
         "type": "float"
        },
        {
         "name": "Salary ($)",
         "rawType": "int64",
         "type": "integer"
        },
        {
         "name": "City",
         "rawType": "object",
         "type": "string"
        }
       ],
       "ref": "01313fee-3f2d-4799-9494-cefce08a6e0e",
       "rows": [
        [
         "0",
         "alice",
         "female",
         "single",
         "data scientist",
         "30",
         "165.5",
         "60.2",
         "50000",
         "new york"
        ],
        [
         "1",
         "bob",
         "male",
         "single",
         "software engineer",
         "25",
         "175.0",
         "75.0",
         "60000",
         "los angeles"
        ],
        [
         "2",
         "charlie",
         "male",
         "married",
         "doctor",
         "32",
         "170.5",
         "67.5",
         "55000",
         "chicago"
        ],
        [
         "3",
         "charlie",
         "male",
         "married",
         "doctor",
         "32",
         "170.18",
         "81.87",
         "55000",
         "chicago"
        ],
        [
         "4",
         "david",
         "male",
         "single",
         "lawyer",
         "26",
         "180.0",
         "85.5",
         "59000",
         "san francisco"
        ],
        [
         "5",
         "david",
         "male",
         "single",
         "lawyer",
         "26",
         "177.8",
         "85.59",
         "59000",
         "san francisco"
        ],
        [
         "6",
         "eve",
         "female",
         "divorced",
         "artist",
         "25",
         "160.0",
         "58.0",
         "52000",
         "bristol"
        ],
        [
         "7",
         "frank",
         "male",
         "married",
         "engineer",
         "35",
         "175.5",
         "70.0",
         "56000",
         "washington"
        ],
        [
         "8",
         "frank",
         "male",
         "married",
         "engineer",
         "35",
         "175.26",
         "69.99",
         "58000",
         "washington"
        ],
        [
         "9",
         "grace",
         "female",
         "single",
         "nurse",
         "29",
         "171.25",
         "65.0",
         "51000",
         "houston"
        ],
        [
         "10",
         "grace",
         "female",
         "single",
         "nurse",
         "29",
         "162.56",
         "65.09",
         "51000",
         "houston"
        ],
        [
         "11",
         "heidi",
         "female",
         "married",
         "teacher",
         "28",
         "168.0",
         "0.0",
         "55000",
         "houston"
        ],
        [
         "12",
         "ivan",
         "male",
         "married",
         "accountant",
         "34",
         "185.0",
         "95.0",
         "68000",
         "miami"
        ],
        [
         "13",
         "jack",
         "male",
         "single",
         "it specialist",
         "27",
         "172.5",
         "70.5",
         "54000",
         "boston"
        ],
        [
         "14",
         "jack",
         "male",
         "single",
         "it specialist",
         "27",
         "172.72",
         "70.53",
         "54000",
         "boston"
        ],
        [
         "15",
         "katie",
         "female",
         "single",
         "marketing",
         "31",
         "160.0",
         "55.5",
         "52000",
         "seattle"
        ],
        [
         "16",
         "liam",
         "male",
         "single",
         "researcher",
         "24",
         "178.5",
         "73.5",
         "61000",
         "chicago"
        ],
        [
         "17",
         "mia",
         "female",
         "married",
         "nurse",
         "33",
         "66.0",
         "61.8",
         "59000",
         "san diego"
        ],
        [
         "18",
         "nora",
         "female",
         "single",
         "data analyst",
         "25",
         "163.0",
         "59.0",
         "52000",
         "san francisco"
        ],
        [
         "19",
         "oliver",
         "male",
         "married",
         "architect",
         "30",
         "173.0",
         "74.0",
         "58000",
         "new york"
        ],
        [
         "20",
         "penny",
         "female",
         "single",
         "graphic designer",
         "28",
         "169.5",
         "63.5",
         "56000",
         "los angeles"
        ],
        [
         "21",
         "quinn",
         "non-binary",
         "single",
         "writer",
         "29",
         "172.0",
         "77.5",
         "57000",
         "chicago"
        ],
        [
         "22",
         "ryan",
         "male",
         "single",
         "financial analyst",
         "150",
         "181.0",
         "92.0",
         "56000",
         "chicago"
        ],
        [
         "23",
         "sophia",
         "female",
         "married",
         "psychologist",
         "33",
         "167.5",
         "62.0",
         "62000",
         "miami"
        ],
        [
         "24",
         "amy",
         "female",
         "married",
         "sales manager",
         "30",
         "166.37",
         "60.01",
         "50000",
         "new york"
        ],
        [
         "25",
         "ben",
         "male",
         "single",
         "marketing manager",
         "25",
         "172.72",
         "74.98",
         "60000",
         "los angeles"
        ],
        [
         "30",
         "ella",
         "female",
         "divorced",
         "artist",
         "28",
         "154.94",
         "57.15",
         "52000",
         "bristol"
        ],
        [
         "35",
         "henry",
         "male",
         "single",
         "accountant",
         "28",
         "167.89",
         "49.99",
         "55000",
         "houston"
        ],
        [
         "36",
         "ivy",
         "female",
         "married",
         "professor",
         "34",
         "182.88",
         "94.8",
         "68000",
         "miami"
        ]
       ],
       "shape": {
        "columns": 9,
        "rows": 29
       }
      },
      "text/html": [
       "<div>\n",
       "<style scoped>\n",
       "    .dataframe tbody tr th:only-of-type {\n",
       "        vertical-align: middle;\n",
       "    }\n",
       "\n",
       "    .dataframe tbody tr th {\n",
       "        vertical-align: top;\n",
       "    }\n",
       "\n",
       "    .dataframe thead th {\n",
       "        text-align: right;\n",
       "    }\n",
       "</style>\n",
       "<table border=\"1\" class=\"dataframe\">\n",
       "  <thead>\n",
       "    <tr style=\"text-align: right;\">\n",
       "      <th></th>\n",
       "      <th>Name</th>\n",
       "      <th>Sex</th>\n",
       "      <th>Marital Status</th>\n",
       "      <th>Career</th>\n",
       "      <th>Age</th>\n",
       "      <th>Height (cm)</th>\n",
       "      <th>Weight (kg)</th>\n",
       "      <th>Salary ($)</th>\n",
       "      <th>City</th>\n",
       "    </tr>\n",
       "  </thead>\n",
       "  <tbody>\n",
       "    <tr>\n",
       "      <th>0</th>\n",
       "      <td>alice</td>\n",
       "      <td>female</td>\n",
       "      <td>single</td>\n",
       "      <td>data scientist</td>\n",
       "      <td>30</td>\n",
       "      <td>165.50</td>\n",
       "      <td>60.20</td>\n",
       "      <td>50000</td>\n",
       "      <td>new york</td>\n",
       "    </tr>\n",
       "    <tr>\n",
       "      <th>1</th>\n",
       "      <td>bob</td>\n",
       "      <td>male</td>\n",
       "      <td>single</td>\n",
       "      <td>software engineer</td>\n",
       "      <td>25</td>\n",
       "      <td>175.00</td>\n",
       "      <td>75.00</td>\n",
       "      <td>60000</td>\n",
       "      <td>los angeles</td>\n",
       "    </tr>\n",
       "    <tr>\n",
       "      <th>2</th>\n",
       "      <td>charlie</td>\n",
       "      <td>male</td>\n",
       "      <td>married</td>\n",
       "      <td>doctor</td>\n",
       "      <td>32</td>\n",
       "      <td>170.50</td>\n",
       "      <td>67.50</td>\n",
       "      <td>55000</td>\n",
       "      <td>chicago</td>\n",
       "    </tr>\n",
       "    <tr>\n",
       "      <th>3</th>\n",
       "      <td>charlie</td>\n",
       "      <td>male</td>\n",
       "      <td>married</td>\n",
       "      <td>doctor</td>\n",
       "      <td>32</td>\n",
       "      <td>170.18</td>\n",
       "      <td>81.87</td>\n",
       "      <td>55000</td>\n",
       "      <td>chicago</td>\n",
       "    </tr>\n",
       "    <tr>\n",
       "      <th>4</th>\n",
       "      <td>david</td>\n",
       "      <td>male</td>\n",
       "      <td>single</td>\n",
       "      <td>lawyer</td>\n",
       "      <td>26</td>\n",
       "      <td>180.00</td>\n",
       "      <td>85.50</td>\n",
       "      <td>59000</td>\n",
       "      <td>san francisco</td>\n",
       "    </tr>\n",
       "    <tr>\n",
       "      <th>5</th>\n",
       "      <td>david</td>\n",
       "      <td>male</td>\n",
       "      <td>single</td>\n",
       "      <td>lawyer</td>\n",
       "      <td>26</td>\n",
       "      <td>177.80</td>\n",
       "      <td>85.59</td>\n",
       "      <td>59000</td>\n",
       "      <td>san francisco</td>\n",
       "    </tr>\n",
       "    <tr>\n",
       "      <th>6</th>\n",
       "      <td>eve</td>\n",
       "      <td>female</td>\n",
       "      <td>divorced</td>\n",
       "      <td>artist</td>\n",
       "      <td>25</td>\n",
       "      <td>160.00</td>\n",
       "      <td>58.00</td>\n",
       "      <td>52000</td>\n",
       "      <td>bristol</td>\n",
       "    </tr>\n",
       "    <tr>\n",
       "      <th>7</th>\n",
       "      <td>frank</td>\n",
       "      <td>male</td>\n",
       "      <td>married</td>\n",
       "      <td>engineer</td>\n",
       "      <td>35</td>\n",
       "      <td>175.50</td>\n",
       "      <td>70.00</td>\n",
       "      <td>56000</td>\n",
       "      <td>washington</td>\n",
       "    </tr>\n",
       "    <tr>\n",
       "      <th>8</th>\n",
       "      <td>frank</td>\n",
       "      <td>male</td>\n",
       "      <td>married</td>\n",
       "      <td>engineer</td>\n",
       "      <td>35</td>\n",
       "      <td>175.26</td>\n",
       "      <td>69.99</td>\n",
       "      <td>58000</td>\n",
       "      <td>washington</td>\n",
       "    </tr>\n",
       "    <tr>\n",
       "      <th>9</th>\n",
       "      <td>grace</td>\n",
       "      <td>female</td>\n",
       "      <td>single</td>\n",
       "      <td>nurse</td>\n",
       "      <td>29</td>\n",
       "      <td>171.25</td>\n",
       "      <td>65.00</td>\n",
       "      <td>51000</td>\n",
       "      <td>houston</td>\n",
       "    </tr>\n",
       "    <tr>\n",
       "      <th>10</th>\n",
       "      <td>grace</td>\n",
       "      <td>female</td>\n",
       "      <td>single</td>\n",
       "      <td>nurse</td>\n",
       "      <td>29</td>\n",
       "      <td>162.56</td>\n",
       "      <td>65.09</td>\n",
       "      <td>51000</td>\n",
       "      <td>houston</td>\n",
       "    </tr>\n",
       "    <tr>\n",
       "      <th>11</th>\n",
       "      <td>heidi</td>\n",
       "      <td>female</td>\n",
       "      <td>married</td>\n",
       "      <td>teacher</td>\n",
       "      <td>28</td>\n",
       "      <td>168.00</td>\n",
       "      <td>0.00</td>\n",
       "      <td>55000</td>\n",
       "      <td>houston</td>\n",
       "    </tr>\n",
       "    <tr>\n",
       "      <th>12</th>\n",
       "      <td>ivan</td>\n",
       "      <td>male</td>\n",
       "      <td>married</td>\n",
       "      <td>accountant</td>\n",
       "      <td>34</td>\n",
       "      <td>185.00</td>\n",
       "      <td>95.00</td>\n",
       "      <td>68000</td>\n",
       "      <td>miami</td>\n",
       "    </tr>\n",
       "    <tr>\n",
       "      <th>13</th>\n",
       "      <td>jack</td>\n",
       "      <td>male</td>\n",
       "      <td>single</td>\n",
       "      <td>it specialist</td>\n",
       "      <td>27</td>\n",
       "      <td>172.50</td>\n",
       "      <td>70.50</td>\n",
       "      <td>54000</td>\n",
       "      <td>boston</td>\n",
       "    </tr>\n",
       "    <tr>\n",
       "      <th>14</th>\n",
       "      <td>jack</td>\n",
       "      <td>male</td>\n",
       "      <td>single</td>\n",
       "      <td>it specialist</td>\n",
       "      <td>27</td>\n",
       "      <td>172.72</td>\n",
       "      <td>70.53</td>\n",
       "      <td>54000</td>\n",
       "      <td>boston</td>\n",
       "    </tr>\n",
       "    <tr>\n",
       "      <th>15</th>\n",
       "      <td>katie</td>\n",
       "      <td>female</td>\n",
       "      <td>single</td>\n",
       "      <td>marketing</td>\n",
       "      <td>31</td>\n",
       "      <td>160.00</td>\n",
       "      <td>55.50</td>\n",
       "      <td>52000</td>\n",
       "      <td>seattle</td>\n",
       "    </tr>\n",
       "    <tr>\n",
       "      <th>16</th>\n",
       "      <td>liam</td>\n",
       "      <td>male</td>\n",
       "      <td>single</td>\n",
       "      <td>researcher</td>\n",
       "      <td>24</td>\n",
       "      <td>178.50</td>\n",
       "      <td>73.50</td>\n",
       "      <td>61000</td>\n",
       "      <td>chicago</td>\n",
       "    </tr>\n",
       "    <tr>\n",
       "      <th>17</th>\n",
       "      <td>mia</td>\n",
       "      <td>female</td>\n",
       "      <td>married</td>\n",
       "      <td>nurse</td>\n",
       "      <td>33</td>\n",
       "      <td>66.00</td>\n",
       "      <td>61.80</td>\n",
       "      <td>59000</td>\n",
       "      <td>san diego</td>\n",
       "    </tr>\n",
       "    <tr>\n",
       "      <th>18</th>\n",
       "      <td>nora</td>\n",
       "      <td>female</td>\n",
       "      <td>single</td>\n",
       "      <td>data analyst</td>\n",
       "      <td>25</td>\n",
       "      <td>163.00</td>\n",
       "      <td>59.00</td>\n",
       "      <td>52000</td>\n",
       "      <td>san francisco</td>\n",
       "    </tr>\n",
       "    <tr>\n",
       "      <th>19</th>\n",
       "      <td>oliver</td>\n",
       "      <td>male</td>\n",
       "      <td>married</td>\n",
       "      <td>architect</td>\n",
       "      <td>30</td>\n",
       "      <td>173.00</td>\n",
       "      <td>74.00</td>\n",
       "      <td>58000</td>\n",
       "      <td>new york</td>\n",
       "    </tr>\n",
       "    <tr>\n",
       "      <th>20</th>\n",
       "      <td>penny</td>\n",
       "      <td>female</td>\n",
       "      <td>single</td>\n",
       "      <td>graphic designer</td>\n",
       "      <td>28</td>\n",
       "      <td>169.50</td>\n",
       "      <td>63.50</td>\n",
       "      <td>56000</td>\n",
       "      <td>los angeles</td>\n",
       "    </tr>\n",
       "    <tr>\n",
       "      <th>21</th>\n",
       "      <td>quinn</td>\n",
       "      <td>non-binary</td>\n",
       "      <td>single</td>\n",
       "      <td>writer</td>\n",
       "      <td>29</td>\n",
       "      <td>172.00</td>\n",
       "      <td>77.50</td>\n",
       "      <td>57000</td>\n",
       "      <td>chicago</td>\n",
       "    </tr>\n",
       "    <tr>\n",
       "      <th>22</th>\n",
       "      <td>ryan</td>\n",
       "      <td>male</td>\n",
       "      <td>single</td>\n",
       "      <td>financial analyst</td>\n",
       "      <td>150</td>\n",
       "      <td>181.00</td>\n",
       "      <td>92.00</td>\n",
       "      <td>56000</td>\n",
       "      <td>chicago</td>\n",
       "    </tr>\n",
       "    <tr>\n",
       "      <th>23</th>\n",
       "      <td>sophia</td>\n",
       "      <td>female</td>\n",
       "      <td>married</td>\n",
       "      <td>psychologist</td>\n",
       "      <td>33</td>\n",
       "      <td>167.50</td>\n",
       "      <td>62.00</td>\n",
       "      <td>62000</td>\n",
       "      <td>miami</td>\n",
       "    </tr>\n",
       "    <tr>\n",
       "      <th>24</th>\n",
       "      <td>amy</td>\n",
       "      <td>female</td>\n",
       "      <td>married</td>\n",
       "      <td>sales manager</td>\n",
       "      <td>30</td>\n",
       "      <td>166.37</td>\n",
       "      <td>60.01</td>\n",
       "      <td>50000</td>\n",
       "      <td>new york</td>\n",
       "    </tr>\n",
       "    <tr>\n",
       "      <th>25</th>\n",
       "      <td>ben</td>\n",
       "      <td>male</td>\n",
       "      <td>single</td>\n",
       "      <td>marketing manager</td>\n",
       "      <td>25</td>\n",
       "      <td>172.72</td>\n",
       "      <td>74.98</td>\n",
       "      <td>60000</td>\n",
       "      <td>los angeles</td>\n",
       "    </tr>\n",
       "    <tr>\n",
       "      <th>30</th>\n",
       "      <td>ella</td>\n",
       "      <td>female</td>\n",
       "      <td>divorced</td>\n",
       "      <td>artist</td>\n",
       "      <td>28</td>\n",
       "      <td>154.94</td>\n",
       "      <td>57.15</td>\n",
       "      <td>52000</td>\n",
       "      <td>bristol</td>\n",
       "    </tr>\n",
       "    <tr>\n",
       "      <th>35</th>\n",
       "      <td>henry</td>\n",
       "      <td>male</td>\n",
       "      <td>single</td>\n",
       "      <td>accountant</td>\n",
       "      <td>28</td>\n",
       "      <td>167.89</td>\n",
       "      <td>49.99</td>\n",
       "      <td>55000</td>\n",
       "      <td>houston</td>\n",
       "    </tr>\n",
       "    <tr>\n",
       "      <th>36</th>\n",
       "      <td>ivy</td>\n",
       "      <td>female</td>\n",
       "      <td>married</td>\n",
       "      <td>professor</td>\n",
       "      <td>34</td>\n",
       "      <td>182.88</td>\n",
       "      <td>94.80</td>\n",
       "      <td>68000</td>\n",
       "      <td>miami</td>\n",
       "    </tr>\n",
       "  </tbody>\n",
       "</table>\n",
       "</div>"
      ],
      "text/plain": [
       "       Name         Sex Marital Status             Career  Age  Height (cm)  \\\n",
       "0     alice      female         single     data scientist   30       165.50   \n",
       "1       bob        male         single  software engineer   25       175.00   \n",
       "2   charlie        male        married             doctor   32       170.50   \n",
       "3   charlie        male        married             doctor   32       170.18   \n",
       "4     david        male         single             lawyer   26       180.00   \n",
       "5     david        male         single             lawyer   26       177.80   \n",
       "6       eve      female       divorced             artist   25       160.00   \n",
       "7     frank        male        married           engineer   35       175.50   \n",
       "8     frank        male        married           engineer   35       175.26   \n",
       "9     grace      female         single              nurse   29       171.25   \n",
       "10    grace      female         single              nurse   29       162.56   \n",
       "11    heidi      female        married            teacher   28       168.00   \n",
       "12     ivan        male        married         accountant   34       185.00   \n",
       "13     jack        male         single      it specialist   27       172.50   \n",
       "14     jack        male         single      it specialist   27       172.72   \n",
       "15    katie      female         single          marketing   31       160.00   \n",
       "16     liam        male         single         researcher   24       178.50   \n",
       "17      mia      female        married              nurse   33        66.00   \n",
       "18     nora      female         single       data analyst   25       163.00   \n",
       "19   oliver        male        married          architect   30       173.00   \n",
       "20    penny      female         single   graphic designer   28       169.50   \n",
       "21    quinn  non-binary         single             writer   29       172.00   \n",
       "22     ryan        male         single  financial analyst  150       181.00   \n",
       "23   sophia      female        married       psychologist   33       167.50   \n",
       "24      amy      female        married      sales manager   30       166.37   \n",
       "25      ben        male         single  marketing manager   25       172.72   \n",
       "30     ella      female       divorced             artist   28       154.94   \n",
       "35    henry        male         single         accountant   28       167.89   \n",
       "36      ivy      female        married          professor   34       182.88   \n",
       "\n",
       "    Weight (kg)  Salary ($)           City  \n",
       "0         60.20       50000       new york  \n",
       "1         75.00       60000    los angeles  \n",
       "2         67.50       55000        chicago  \n",
       "3         81.87       55000        chicago  \n",
       "4         85.50       59000  san francisco  \n",
       "5         85.59       59000  san francisco  \n",
       "6         58.00       52000        bristol  \n",
       "7         70.00       56000     washington  \n",
       "8         69.99       58000     washington  \n",
       "9         65.00       51000        houston  \n",
       "10        65.09       51000        houston  \n",
       "11         0.00       55000        houston  \n",
       "12        95.00       68000          miami  \n",
       "13        70.50       54000         boston  \n",
       "14        70.53       54000         boston  \n",
       "15        55.50       52000        seattle  \n",
       "16        73.50       61000        chicago  \n",
       "17        61.80       59000      san diego  \n",
       "18        59.00       52000  san francisco  \n",
       "19        74.00       58000       new york  \n",
       "20        63.50       56000    los angeles  \n",
       "21        77.50       57000        chicago  \n",
       "22        92.00       56000        chicago  \n",
       "23        62.00       62000          miami  \n",
       "24        60.01       50000       new york  \n",
       "25        74.98       60000    los angeles  \n",
       "30        57.15       52000        bristol  \n",
       "35        49.99       55000        houston  \n",
       "36        94.80       68000          miami  "
      ]
     },
     "execution_count": 217,
     "metadata": {},
     "output_type": "execute_result"
    }
   ],
   "source": [
    "df_final = df_final.drop_duplicates()\n",
    "df_final"
   ]
  },
  {
   "cell_type": "markdown",
   "metadata": {},
   "source": [
    "#### Se eliminan duplicados por Name y se ordenan alfabeticamente"
   ]
  },
  {
   "cell_type": "code",
   "execution_count": 218,
   "metadata": {},
   "outputs": [
    {
     "data": {
      "application/vnd.microsoft.datawrangler.viewer.v0+json": {
       "columns": [
        {
         "name": "index",
         "rawType": "int64",
         "type": "integer"
        },
        {
         "name": "Name",
         "rawType": "object",
         "type": "string"
        },
        {
         "name": "Sex",
         "rawType": "object",
         "type": "string"
        },
        {
         "name": "Marital Status",
         "rawType": "object",
         "type": "string"
        },
        {
         "name": "Career",
         "rawType": "object",
         "type": "string"
        },
        {
         "name": "Age",
         "rawType": "int64",
         "type": "integer"
        },
        {
         "name": "Height (cm)",
         "rawType": "float64",
         "type": "float"
        },
        {
         "name": "Weight (kg)",
         "rawType": "float64",
         "type": "float"
        },
        {
         "name": "Salary ($)",
         "rawType": "int64",
         "type": "integer"
        },
        {
         "name": "City",
         "rawType": "object",
         "type": "string"
        }
       ],
       "ref": "7925c711-18c7-4ece-af1f-7ac0a073a1fc",
       "rows": [
        [
         "0",
         "alice",
         "female",
         "single",
         "data scientist",
         "30",
         "165.5",
         "60.2",
         "50000",
         "new york"
        ],
        [
         "24",
         "amy",
         "female",
         "married",
         "sales manager",
         "30",
         "166.37",
         "60.01",
         "50000",
         "new york"
        ],
        [
         "25",
         "ben",
         "male",
         "single",
         "marketing manager",
         "25",
         "172.72",
         "74.98",
         "60000",
         "los angeles"
        ],
        [
         "1",
         "bob",
         "male",
         "single",
         "software engineer",
         "25",
         "175.0",
         "75.0",
         "60000",
         "los angeles"
        ],
        [
         "2",
         "charlie",
         "male",
         "married",
         "doctor",
         "32",
         "170.5",
         "67.5",
         "55000",
         "chicago"
        ],
        [
         "4",
         "david",
         "male",
         "single",
         "lawyer",
         "26",
         "180.0",
         "85.5",
         "59000",
         "san francisco"
        ],
        [
         "30",
         "ella",
         "female",
         "divorced",
         "artist",
         "28",
         "154.94",
         "57.15",
         "52000",
         "bristol"
        ],
        [
         "6",
         "eve",
         "female",
         "divorced",
         "artist",
         "25",
         "160.0",
         "58.0",
         "52000",
         "bristol"
        ],
        [
         "7",
         "frank",
         "male",
         "married",
         "engineer",
         "35",
         "175.5",
         "70.0",
         "56000",
         "washington"
        ],
        [
         "9",
         "grace",
         "female",
         "single",
         "nurse",
         "29",
         "171.25",
         "65.0",
         "51000",
         "houston"
        ],
        [
         "11",
         "heidi",
         "female",
         "married",
         "teacher",
         "28",
         "168.0",
         "0.0",
         "55000",
         "houston"
        ],
        [
         "35",
         "henry",
         "male",
         "single",
         "accountant",
         "28",
         "167.89",
         "49.99",
         "55000",
         "houston"
        ],
        [
         "12",
         "ivan",
         "male",
         "married",
         "accountant",
         "34",
         "185.0",
         "95.0",
         "68000",
         "miami"
        ],
        [
         "36",
         "ivy",
         "female",
         "married",
         "professor",
         "34",
         "182.88",
         "94.8",
         "68000",
         "miami"
        ],
        [
         "13",
         "jack",
         "male",
         "single",
         "it specialist",
         "27",
         "172.5",
         "70.5",
         "54000",
         "boston"
        ],
        [
         "15",
         "katie",
         "female",
         "single",
         "marketing",
         "31",
         "160.0",
         "55.5",
         "52000",
         "seattle"
        ],
        [
         "16",
         "liam",
         "male",
         "single",
         "researcher",
         "24",
         "178.5",
         "73.5",
         "61000",
         "chicago"
        ],
        [
         "17",
         "mia",
         "female",
         "married",
         "nurse",
         "33",
         "66.0",
         "61.8",
         "59000",
         "san diego"
        ],
        [
         "18",
         "nora",
         "female",
         "single",
         "data analyst",
         "25",
         "163.0",
         "59.0",
         "52000",
         "san francisco"
        ],
        [
         "19",
         "oliver",
         "male",
         "married",
         "architect",
         "30",
         "173.0",
         "74.0",
         "58000",
         "new york"
        ],
        [
         "20",
         "penny",
         "female",
         "single",
         "graphic designer",
         "28",
         "169.5",
         "63.5",
         "56000",
         "los angeles"
        ],
        [
         "21",
         "quinn",
         "non-binary",
         "single",
         "writer",
         "29",
         "172.0",
         "77.5",
         "57000",
         "chicago"
        ],
        [
         "22",
         "ryan",
         "male",
         "single",
         "financial analyst",
         "150",
         "181.0",
         "92.0",
         "56000",
         "chicago"
        ],
        [
         "23",
         "sophia",
         "female",
         "married",
         "psychologist",
         "33",
         "167.5",
         "62.0",
         "62000",
         "miami"
        ]
       ],
       "shape": {
        "columns": 9,
        "rows": 24
       }
      },
      "text/html": [
       "<div>\n",
       "<style scoped>\n",
       "    .dataframe tbody tr th:only-of-type {\n",
       "        vertical-align: middle;\n",
       "    }\n",
       "\n",
       "    .dataframe tbody tr th {\n",
       "        vertical-align: top;\n",
       "    }\n",
       "\n",
       "    .dataframe thead th {\n",
       "        text-align: right;\n",
       "    }\n",
       "</style>\n",
       "<table border=\"1\" class=\"dataframe\">\n",
       "  <thead>\n",
       "    <tr style=\"text-align: right;\">\n",
       "      <th></th>\n",
       "      <th>Name</th>\n",
       "      <th>Sex</th>\n",
       "      <th>Marital Status</th>\n",
       "      <th>Career</th>\n",
       "      <th>Age</th>\n",
       "      <th>Height (cm)</th>\n",
       "      <th>Weight (kg)</th>\n",
       "      <th>Salary ($)</th>\n",
       "      <th>City</th>\n",
       "    </tr>\n",
       "  </thead>\n",
       "  <tbody>\n",
       "    <tr>\n",
       "      <th>0</th>\n",
       "      <td>alice</td>\n",
       "      <td>female</td>\n",
       "      <td>single</td>\n",
       "      <td>data scientist</td>\n",
       "      <td>30</td>\n",
       "      <td>165.50</td>\n",
       "      <td>60.20</td>\n",
       "      <td>50000</td>\n",
       "      <td>new york</td>\n",
       "    </tr>\n",
       "    <tr>\n",
       "      <th>24</th>\n",
       "      <td>amy</td>\n",
       "      <td>female</td>\n",
       "      <td>married</td>\n",
       "      <td>sales manager</td>\n",
       "      <td>30</td>\n",
       "      <td>166.37</td>\n",
       "      <td>60.01</td>\n",
       "      <td>50000</td>\n",
       "      <td>new york</td>\n",
       "    </tr>\n",
       "    <tr>\n",
       "      <th>25</th>\n",
       "      <td>ben</td>\n",
       "      <td>male</td>\n",
       "      <td>single</td>\n",
       "      <td>marketing manager</td>\n",
       "      <td>25</td>\n",
       "      <td>172.72</td>\n",
       "      <td>74.98</td>\n",
       "      <td>60000</td>\n",
       "      <td>los angeles</td>\n",
       "    </tr>\n",
       "    <tr>\n",
       "      <th>1</th>\n",
       "      <td>bob</td>\n",
       "      <td>male</td>\n",
       "      <td>single</td>\n",
       "      <td>software engineer</td>\n",
       "      <td>25</td>\n",
       "      <td>175.00</td>\n",
       "      <td>75.00</td>\n",
       "      <td>60000</td>\n",
       "      <td>los angeles</td>\n",
       "    </tr>\n",
       "    <tr>\n",
       "      <th>2</th>\n",
       "      <td>charlie</td>\n",
       "      <td>male</td>\n",
       "      <td>married</td>\n",
       "      <td>doctor</td>\n",
       "      <td>32</td>\n",
       "      <td>170.50</td>\n",
       "      <td>67.50</td>\n",
       "      <td>55000</td>\n",
       "      <td>chicago</td>\n",
       "    </tr>\n",
       "    <tr>\n",
       "      <th>4</th>\n",
       "      <td>david</td>\n",
       "      <td>male</td>\n",
       "      <td>single</td>\n",
       "      <td>lawyer</td>\n",
       "      <td>26</td>\n",
       "      <td>180.00</td>\n",
       "      <td>85.50</td>\n",
       "      <td>59000</td>\n",
       "      <td>san francisco</td>\n",
       "    </tr>\n",
       "    <tr>\n",
       "      <th>30</th>\n",
       "      <td>ella</td>\n",
       "      <td>female</td>\n",
       "      <td>divorced</td>\n",
       "      <td>artist</td>\n",
       "      <td>28</td>\n",
       "      <td>154.94</td>\n",
       "      <td>57.15</td>\n",
       "      <td>52000</td>\n",
       "      <td>bristol</td>\n",
       "    </tr>\n",
       "    <tr>\n",
       "      <th>6</th>\n",
       "      <td>eve</td>\n",
       "      <td>female</td>\n",
       "      <td>divorced</td>\n",
       "      <td>artist</td>\n",
       "      <td>25</td>\n",
       "      <td>160.00</td>\n",
       "      <td>58.00</td>\n",
       "      <td>52000</td>\n",
       "      <td>bristol</td>\n",
       "    </tr>\n",
       "    <tr>\n",
       "      <th>7</th>\n",
       "      <td>frank</td>\n",
       "      <td>male</td>\n",
       "      <td>married</td>\n",
       "      <td>engineer</td>\n",
       "      <td>35</td>\n",
       "      <td>175.50</td>\n",
       "      <td>70.00</td>\n",
       "      <td>56000</td>\n",
       "      <td>washington</td>\n",
       "    </tr>\n",
       "    <tr>\n",
       "      <th>9</th>\n",
       "      <td>grace</td>\n",
       "      <td>female</td>\n",
       "      <td>single</td>\n",
       "      <td>nurse</td>\n",
       "      <td>29</td>\n",
       "      <td>171.25</td>\n",
       "      <td>65.00</td>\n",
       "      <td>51000</td>\n",
       "      <td>houston</td>\n",
       "    </tr>\n",
       "    <tr>\n",
       "      <th>11</th>\n",
       "      <td>heidi</td>\n",
       "      <td>female</td>\n",
       "      <td>married</td>\n",
       "      <td>teacher</td>\n",
       "      <td>28</td>\n",
       "      <td>168.00</td>\n",
       "      <td>0.00</td>\n",
       "      <td>55000</td>\n",
       "      <td>houston</td>\n",
       "    </tr>\n",
       "    <tr>\n",
       "      <th>35</th>\n",
       "      <td>henry</td>\n",
       "      <td>male</td>\n",
       "      <td>single</td>\n",
       "      <td>accountant</td>\n",
       "      <td>28</td>\n",
       "      <td>167.89</td>\n",
       "      <td>49.99</td>\n",
       "      <td>55000</td>\n",
       "      <td>houston</td>\n",
       "    </tr>\n",
       "    <tr>\n",
       "      <th>12</th>\n",
       "      <td>ivan</td>\n",
       "      <td>male</td>\n",
       "      <td>married</td>\n",
       "      <td>accountant</td>\n",
       "      <td>34</td>\n",
       "      <td>185.00</td>\n",
       "      <td>95.00</td>\n",
       "      <td>68000</td>\n",
       "      <td>miami</td>\n",
       "    </tr>\n",
       "    <tr>\n",
       "      <th>36</th>\n",
       "      <td>ivy</td>\n",
       "      <td>female</td>\n",
       "      <td>married</td>\n",
       "      <td>professor</td>\n",
       "      <td>34</td>\n",
       "      <td>182.88</td>\n",
       "      <td>94.80</td>\n",
       "      <td>68000</td>\n",
       "      <td>miami</td>\n",
       "    </tr>\n",
       "    <tr>\n",
       "      <th>13</th>\n",
       "      <td>jack</td>\n",
       "      <td>male</td>\n",
       "      <td>single</td>\n",
       "      <td>it specialist</td>\n",
       "      <td>27</td>\n",
       "      <td>172.50</td>\n",
       "      <td>70.50</td>\n",
       "      <td>54000</td>\n",
       "      <td>boston</td>\n",
       "    </tr>\n",
       "    <tr>\n",
       "      <th>15</th>\n",
       "      <td>katie</td>\n",
       "      <td>female</td>\n",
       "      <td>single</td>\n",
       "      <td>marketing</td>\n",
       "      <td>31</td>\n",
       "      <td>160.00</td>\n",
       "      <td>55.50</td>\n",
       "      <td>52000</td>\n",
       "      <td>seattle</td>\n",
       "    </tr>\n",
       "    <tr>\n",
       "      <th>16</th>\n",
       "      <td>liam</td>\n",
       "      <td>male</td>\n",
       "      <td>single</td>\n",
       "      <td>researcher</td>\n",
       "      <td>24</td>\n",
       "      <td>178.50</td>\n",
       "      <td>73.50</td>\n",
       "      <td>61000</td>\n",
       "      <td>chicago</td>\n",
       "    </tr>\n",
       "    <tr>\n",
       "      <th>17</th>\n",
       "      <td>mia</td>\n",
       "      <td>female</td>\n",
       "      <td>married</td>\n",
       "      <td>nurse</td>\n",
       "      <td>33</td>\n",
       "      <td>66.00</td>\n",
       "      <td>61.80</td>\n",
       "      <td>59000</td>\n",
       "      <td>san diego</td>\n",
       "    </tr>\n",
       "    <tr>\n",
       "      <th>18</th>\n",
       "      <td>nora</td>\n",
       "      <td>female</td>\n",
       "      <td>single</td>\n",
       "      <td>data analyst</td>\n",
       "      <td>25</td>\n",
       "      <td>163.00</td>\n",
       "      <td>59.00</td>\n",
       "      <td>52000</td>\n",
       "      <td>san francisco</td>\n",
       "    </tr>\n",
       "    <tr>\n",
       "      <th>19</th>\n",
       "      <td>oliver</td>\n",
       "      <td>male</td>\n",
       "      <td>married</td>\n",
       "      <td>architect</td>\n",
       "      <td>30</td>\n",
       "      <td>173.00</td>\n",
       "      <td>74.00</td>\n",
       "      <td>58000</td>\n",
       "      <td>new york</td>\n",
       "    </tr>\n",
       "    <tr>\n",
       "      <th>20</th>\n",
       "      <td>penny</td>\n",
       "      <td>female</td>\n",
       "      <td>single</td>\n",
       "      <td>graphic designer</td>\n",
       "      <td>28</td>\n",
       "      <td>169.50</td>\n",
       "      <td>63.50</td>\n",
       "      <td>56000</td>\n",
       "      <td>los angeles</td>\n",
       "    </tr>\n",
       "    <tr>\n",
       "      <th>21</th>\n",
       "      <td>quinn</td>\n",
       "      <td>non-binary</td>\n",
       "      <td>single</td>\n",
       "      <td>writer</td>\n",
       "      <td>29</td>\n",
       "      <td>172.00</td>\n",
       "      <td>77.50</td>\n",
       "      <td>57000</td>\n",
       "      <td>chicago</td>\n",
       "    </tr>\n",
       "    <tr>\n",
       "      <th>22</th>\n",
       "      <td>ryan</td>\n",
       "      <td>male</td>\n",
       "      <td>single</td>\n",
       "      <td>financial analyst</td>\n",
       "      <td>150</td>\n",
       "      <td>181.00</td>\n",
       "      <td>92.00</td>\n",
       "      <td>56000</td>\n",
       "      <td>chicago</td>\n",
       "    </tr>\n",
       "    <tr>\n",
       "      <th>23</th>\n",
       "      <td>sophia</td>\n",
       "      <td>female</td>\n",
       "      <td>married</td>\n",
       "      <td>psychologist</td>\n",
       "      <td>33</td>\n",
       "      <td>167.50</td>\n",
       "      <td>62.00</td>\n",
       "      <td>62000</td>\n",
       "      <td>miami</td>\n",
       "    </tr>\n",
       "  </tbody>\n",
       "</table>\n",
       "</div>"
      ],
      "text/plain": [
       "       Name         Sex Marital Status             Career  Age  Height (cm)  \\\n",
       "0     alice      female         single     data scientist   30       165.50   \n",
       "24      amy      female        married      sales manager   30       166.37   \n",
       "25      ben        male         single  marketing manager   25       172.72   \n",
       "1       bob        male         single  software engineer   25       175.00   \n",
       "2   charlie        male        married             doctor   32       170.50   \n",
       "4     david        male         single             lawyer   26       180.00   \n",
       "30     ella      female       divorced             artist   28       154.94   \n",
       "6       eve      female       divorced             artist   25       160.00   \n",
       "7     frank        male        married           engineer   35       175.50   \n",
       "9     grace      female         single              nurse   29       171.25   \n",
       "11    heidi      female        married            teacher   28       168.00   \n",
       "35    henry        male         single         accountant   28       167.89   \n",
       "12     ivan        male        married         accountant   34       185.00   \n",
       "36      ivy      female        married          professor   34       182.88   \n",
       "13     jack        male         single      it specialist   27       172.50   \n",
       "15    katie      female         single          marketing   31       160.00   \n",
       "16     liam        male         single         researcher   24       178.50   \n",
       "17      mia      female        married              nurse   33        66.00   \n",
       "18     nora      female         single       data analyst   25       163.00   \n",
       "19   oliver        male        married          architect   30       173.00   \n",
       "20    penny      female         single   graphic designer   28       169.50   \n",
       "21    quinn  non-binary         single             writer   29       172.00   \n",
       "22     ryan        male         single  financial analyst  150       181.00   \n",
       "23   sophia      female        married       psychologist   33       167.50   \n",
       "\n",
       "    Weight (kg)  Salary ($)           City  \n",
       "0         60.20       50000       new york  \n",
       "24        60.01       50000       new york  \n",
       "25        74.98       60000    los angeles  \n",
       "1         75.00       60000    los angeles  \n",
       "2         67.50       55000        chicago  \n",
       "4         85.50       59000  san francisco  \n",
       "30        57.15       52000        bristol  \n",
       "6         58.00       52000        bristol  \n",
       "7         70.00       56000     washington  \n",
       "9         65.00       51000        houston  \n",
       "11         0.00       55000        houston  \n",
       "35        49.99       55000        houston  \n",
       "12        95.00       68000          miami  \n",
       "36        94.80       68000          miami  \n",
       "13        70.50       54000         boston  \n",
       "15        55.50       52000        seattle  \n",
       "16        73.50       61000        chicago  \n",
       "17        61.80       59000      san diego  \n",
       "18        59.00       52000  san francisco  \n",
       "19        74.00       58000       new york  \n",
       "20        63.50       56000    los angeles  \n",
       "21        77.50       57000        chicago  \n",
       "22        92.00       56000        chicago  \n",
       "23        62.00       62000          miami  "
      ]
     },
     "execution_count": 218,
     "metadata": {},
     "output_type": "execute_result"
    }
   ],
   "source": [
    "df_final = df_final.drop_duplicates([\"Name\"])\n",
    "df_final = df_final.sort_values(by=\"Name\")\n",
    "df_final"
   ]
  }
 ],
 "metadata": {
  "colab": {
   "authorship_tag": "ABX9TyNu2eLF+SkXNqViEPAmiupE",
   "provenance": [
    {
     "file_id": "1e0k76oh8loNe1A49iZnagBa9JwlcL8rD",
     "timestamp": 1758766555295
    }
   ]
  },
  "kernelspec": {
   "display_name": "Python 3",
   "name": "python3"
  },
  "language_info": {
   "codemirror_mode": {
    "name": "ipython",
    "version": 3
   },
   "file_extension": ".py",
   "mimetype": "text/x-python",
   "name": "python",
   "nbconvert_exporter": "python",
   "pygments_lexer": "ipython3",
   "version": "3.13.7"
  }
 },
 "nbformat": 4,
 "nbformat_minor": 0
}
